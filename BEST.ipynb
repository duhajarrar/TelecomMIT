{
  "nbformat": 4,
  "nbformat_minor": 0,
  "metadata": {
    "colab": {
      "name": "BEST.ipynb",
      "provenance": [],
      "collapsed_sections": [],
      "mount_file_id": "1rZRaSqBiXphu58OuMtDxC3tZNuXWH0WF",
      "authorship_tag": "ABX9TyNmpOzUetxwqYmnRm9aT+mc",
      "include_colab_link": true
    },
    "kernelspec": {
      "name": "python3",
      "display_name": "Python 3"
    }
  },
  "cells": [
    {
      "cell_type": "markdown",
      "metadata": {
        "id": "view-in-github",
        "colab_type": "text"
      },
      "source": [
        "<a href=\"https://colab.research.google.com/github/duhajarrar/TelecomMIT/blob/main/BEST.ipynb\" target=\"_parent\"><img src=\"https://colab.research.google.com/assets/colab-badge.svg\" alt=\"Open In Colab\"/></a>"
      ]
    },
    {
      "cell_type": "code",
      "metadata": {
        "colab": {
          "base_uri": "https://localhost:8080/"
        },
        "id": "-GZ7WT-CCtk2",
        "outputId": "1fc2dd20-b766-4e0a-f1e7-6117c0f468cd"
      },
      "source": [
        "import pandas as pd\r\n",
        "import numpy as np\r\n",
        "from sklearn.feature_selection import SelectKBest\r\n",
        "from sklearn.feature_selection import chi2\r\n",
        "import seaborn as sns\r\n",
        "from sklearn import preprocessing\r\n",
        "from sklearn.ensemble import ExtraTreesClassifier\r\n",
        "import matplotlib.pyplot as plt\r\n",
        "from matplotlib.pyplot import hist\r\n",
        "import plotly.express as px\r\n",
        "import tensorflow as tf\r\n",
        "from imblearn.over_sampling import SMOTE\r\n",
        "import sklearn\r\n",
        "from sklearn.model_selection import train_test_split\r\n",
        "from sklearn.linear_model import LogisticRegression\r\n",
        "from sklearn.metrics import accuracy_score, plot_confusion_matrix\r\n",
        "from sklearn.model_selection import train_test_split\r\n",
        "import matplotlib.pyplot as plt\r\n",
        "from sklearn.naive_bayes import GaussianNB\r\n",
        "from sklearn.tree import DecisionTreeClassifier\r\n",
        "from sklearn.tree import DecisionTreeClassifier\r\n",
        "from sklearn.neighbors import KNeighborsClassifier\r\n",
        "from sklearn.model_selection import cross_val_score\r\n",
        "from sklearn.neighbors import KNeighborsClassifier\r\n",
        "from sklearn.svm import SVC\r\n",
        "from sklearn.ensemble import RandomForestClassifier\r\n",
        "from sklearn.metrics import accuracy_score\r\n",
        "from sklearn.metrics import precision_score\r\n",
        "from sklearn.metrics import f1_score\r\n",
        "from sklearn.metrics import recall_score\r\n",
        "from sklearn.model_selection import cross_val_score\r\n",
        "from sklearn.model_selection import StratifiedKFold\r\n",
        "from sklearn.ensemble import GradientBoostingClassifier\r\n",
        "from sklearn.model_selection import GridSearchCV\r\n",
        "from xgboost import XGBClassifier\r\n",
        "\r\n",
        "import xgboost\r\n",
        "trainingData = pd.read_csv(\"drive/MyDrive/telecom.csv\")\r\n",
        "\r\n",
        "label_encoder = preprocessing.LabelEncoder()\r\n",
        "trainingData['state'] = label_encoder.fit_transform(trainingData['state'])\r\n",
        "trainingData['international plan'] = label_encoder.fit_transform(trainingData['international plan'])\r\n",
        "trainingData['voice mail plan'] = label_encoder.fit_transform(trainingData['voice mail plan'])\r\n",
        "trainingData['churn'] = label_encoder.fit_transform(trainingData['churn'])\r\n",
        "trainingData['phone number'] = label_encoder.fit_transform(trainingData['phone number'])\r\n",
        "for i in range(len(trainingData.columns)):\r\n",
        "  trainingData.rename(columns={trainingData.columns[i]: trainingData.columns[i].replace(r' ','_')}, inplace=True)\r\n"
      ],
      "execution_count": 1,
      "outputs": [
        {
          "output_type": "stream",
          "text": [
            "/usr/local/lib/python3.6/dist-packages/sklearn/externals/six.py:31: FutureWarning:\n",
            "\n",
            "The module is deprecated in version 0.21 and will be removed in version 0.23 since we've dropped support for Python 2.7. Please rely on the official version of six (https://pypi.org/project/six/).\n",
            "\n",
            "/usr/local/lib/python3.6/dist-packages/sklearn/utils/deprecation.py:144: FutureWarning:\n",
            "\n",
            "The sklearn.neighbors.base module is  deprecated in version 0.22 and will be removed in version 0.24. The corresponding classes / functions should instead be imported from sklearn.neighbors. Anything that cannot be imported from sklearn.neighbors is now part of the private API.\n",
            "\n"
          ],
          "name": "stderr"
        }
      ]
    },
    {
      "cell_type": "code",
      "metadata": {
        "colab": {
          "base_uri": "https://localhost:8080/"
        },
        "id": "f_2wVmJZC1NS",
        "outputId": "6c8ebf31-f23f-4cd1-bc9a-422cd0cd9a02"
      },
      "source": [
        "\r\n",
        "y = trainingData['churn']\r\n",
        "x = trainingData.drop({'churn'}, axis=1)\r\n",
        "scaler = preprocessing.StandardScaler()\r\n",
        "x = scaler.fit_transform(x)\r\n",
        "sm = SMOTE(random_state=27, ratio=1.0)\r\n",
        "x,y= sm.fit_sample(x,y)\r\n",
        "print(x.shape[0], y.shape[0])\r\n",
        "z=0\r\n",
        "zz=0\r\n",
        "for i in y:\r\n",
        "  if i ==1:\r\n",
        "    z+=1\r\n",
        "  else:\r\n",
        "    zz+=1\r\n",
        "print(z)\r\n",
        "print(zz)\r\n",
        "print(z+zz)\r\n"
      ],
      "execution_count": 2,
      "outputs": [
        {
          "output_type": "stream",
          "text": [
            "5700 5700\n",
            "2850\n",
            "2850\n",
            "5700\n"
          ],
          "name": "stdout"
        },
        {
          "output_type": "stream",
          "text": [
            "/usr/local/lib/python3.6/dist-packages/sklearn/utils/deprecation.py:87: FutureWarning:\n",
            "\n",
            "Function safe_indexing is deprecated; safe_indexing is deprecated in version 0.22 and will be removed in version 0.24.\n",
            "\n"
          ],
          "name": "stderr"
        }
      ]
    },
    {
      "cell_type": "code",
      "metadata": {
        "id": "6tV_hkcfLf1N"
      },
      "source": [
        "# accuracy  :  0.9735087719298245\r\n",
        "# precision  :  0.9774047979522766\r\n",
        "# recall  :  0.9694736842105263\r\n",
        "# f1  :  0.9733970982550311\r\n",
        "# max_depth': 88,\r\n",
        "#  'max_features': 1,\r\n",
        "#  'min_samples_leaf': 2,\r\n",
        "#  'min_samples_split': 3,\r\n",
        "#  'n_estimators': 1500"
      ],
      "execution_count": null,
      "outputs": []
    },
    {
      "cell_type": "code",
      "metadata": {
        "colab": {
          "base_uri": "https://localhost:8080/"
        },
        "id": "2WdEobu5C8h5",
        "outputId": "aea8d10c-e6f1-4e57-818c-ff5f1b24f205"
      },
      "source": [
        "#beeeeeeeeeeest\r\n",
        "import xgboost\r\n",
        "from sklearn.model_selection import StratifiedKFold\r\n",
        "from sklearn.model_selection import cross_val_score\r\n",
        "\r\n",
        "model = xgboost.XGBClassifier(subsample=0.85,learning_rate=0.3,max_depth= 95,max_features=1,min_samples_leaf=3,min_samples_split= 3,n_estimators= 1000)\r\n",
        "kfold = StratifiedKFold(n_splits=10,random_state=10,shuffle=True)\r\n",
        "for score in [\"accuracy\", \"precision\", \"recall\",\"f1\"]:\r\n",
        "  print( score,\" : \",cross_val_score(model, x,y,scoring=score, cv=kfold).mean())"
      ],
      "execution_count": 12,
      "outputs": [
        {
          "output_type": "stream",
          "text": [
            "accuracy  :  0.9735087719298245\n",
            "precision  :  0.9774047979522766\n",
            "recall  :  0.9694736842105263\n",
            "f1  :  0.9733970982550311\n"
          ],
          "name": "stdout"
        }
      ]
    }
  ]
}