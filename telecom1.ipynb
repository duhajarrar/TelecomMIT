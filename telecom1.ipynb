{
  "nbformat": 4,
  "nbformat_minor": 0,
  "metadata": {
    "colab": {
      "name": "telecom.ipynb",
      "provenance": [],
      "collapsed_sections": [],
      "toc_visible": true,
      "include_colab_link": true
    },
    "kernelspec": {
      "name": "python3",
      "display_name": "Python 3"
    }
  },
  "cells": [
    {
      "cell_type": "markdown",
      "metadata": {
        "id": "view-in-github",
        "colab_type": "text"
      },
      "source": [
        "<a href=\"https://colab.research.google.com/github/duhajarrar/TelecomMIT/blob/main/telecom1.ipynb\" target=\"_parent\"><img src=\"https://colab.research.google.com/assets/colab-badge.svg\" alt=\"Open In Colab\"/></a>"
      ]
    },
    {
      "cell_type": "code",
      "metadata": {
        "colab": {
          "base_uri": "https://localhost:8080/"
        },
        "id": "20QPchFu610u",
        "outputId": "14fe3584-5187-4a40-c7b5-1a0b647df7e4"
      },
      "source": [
        "from google.colab import drive\n",
        "drive.mount('/content/drive')"
      ],
      "execution_count": 90,
      "outputs": [
        {
          "output_type": "stream",
          "text": [
            "Drive already mounted at /content/drive; to attempt to forcibly remount, call drive.mount(\"/content/drive\", force_remount=True).\n"
          ],
          "name": "stdout"
        }
      ]
    },
    {
      "cell_type": "code",
      "metadata": {
        "id": "8zUejHvJdXE_"
      },
      "source": [
        "###nibaaalll\r\n",
        "#hamza\r\n",
        "#raha\r\n",
        "import pandas as pd\r\n",
        "import numpy as np\r\n",
        "trainingData = pd.read_csv(\"drive/MyDrive/telecom.csv\")\r\n"
      ],
      "execution_count": 91,
      "outputs": []
    },
    {
      "cell_type": "code",
      "metadata": {
        "id": "QXR7pKzxd6VG",
        "colab": {
          "base_uri": "https://localhost:8080/"
        },
        "outputId": "ee77a05a-dc51-4c46-f4dc-bc22c710a15a"
      },
      "source": [
        "trainingData.info()"
      ],
      "execution_count": 92,
      "outputs": [
        {
          "output_type": "stream",
          "text": [
            "<class 'pandas.core.frame.DataFrame'>\n",
            "RangeIndex: 3333 entries, 0 to 3332\n",
            "Data columns (total 21 columns):\n",
            " #   Column                  Non-Null Count  Dtype  \n",
            "---  ------                  --------------  -----  \n",
            " 0   state                   3333 non-null   object \n",
            " 1   account length          3333 non-null   int64  \n",
            " 2   area code               3333 non-null   int64  \n",
            " 3   phone number            3333 non-null   object \n",
            " 4   international plan      3333 non-null   object \n",
            " 5   voice mail plan         3333 non-null   object \n",
            " 6   number vmail messages   3333 non-null   int64  \n",
            " 7   total day minutes       3333 non-null   float64\n",
            " 8   total day calls         3333 non-null   int64  \n",
            " 9   total day charge        3333 non-null   float64\n",
            " 10  total eve minutes       3333 non-null   float64\n",
            " 11  total eve calls         3333 non-null   int64  \n",
            " 12  total eve charge        3333 non-null   float64\n",
            " 13  total night minutes     3333 non-null   float64\n",
            " 14  total night calls       3333 non-null   int64  \n",
            " 15  total night charge      3333 non-null   float64\n",
            " 16  total intl minutes      3333 non-null   float64\n",
            " 17  total intl calls        3333 non-null   int64  \n",
            " 18  total intl charge       3333 non-null   float64\n",
            " 19  customer service calls  3333 non-null   int64  \n",
            " 20  churn                   3333 non-null   bool   \n",
            "dtypes: bool(1), float64(8), int64(8), object(4)\n",
            "memory usage: 524.2+ KB\n"
          ],
          "name": "stdout"
        }
      ]
    },
    {
      "cell_type": "code",
      "metadata": {
        "id": "-MGK7gzo1URb",
        "colab": {
          "base_uri": "https://localhost:8080/",
          "height": 333
        },
        "outputId": "c3346984-841d-43d2-a9b1-280bd88103ee"
      },
      "source": [
        "trainingData.head()"
      ],
      "execution_count": 93,
      "outputs": [
        {
          "output_type": "execute_result",
          "data": {
            "text/html": [
              "<div>\n",
              "<style scoped>\n",
              "    .dataframe tbody tr th:only-of-type {\n",
              "        vertical-align: middle;\n",
              "    }\n",
              "\n",
              "    .dataframe tbody tr th {\n",
              "        vertical-align: top;\n",
              "    }\n",
              "\n",
              "    .dataframe thead th {\n",
              "        text-align: right;\n",
              "    }\n",
              "</style>\n",
              "<table border=\"1\" class=\"dataframe\">\n",
              "  <thead>\n",
              "    <tr style=\"text-align: right;\">\n",
              "      <th></th>\n",
              "      <th>state</th>\n",
              "      <th>account length</th>\n",
              "      <th>area code</th>\n",
              "      <th>phone number</th>\n",
              "      <th>international plan</th>\n",
              "      <th>voice mail plan</th>\n",
              "      <th>number vmail messages</th>\n",
              "      <th>total day minutes</th>\n",
              "      <th>total day calls</th>\n",
              "      <th>total day charge</th>\n",
              "      <th>total eve minutes</th>\n",
              "      <th>total eve calls</th>\n",
              "      <th>total eve charge</th>\n",
              "      <th>total night minutes</th>\n",
              "      <th>total night calls</th>\n",
              "      <th>total night charge</th>\n",
              "      <th>total intl minutes</th>\n",
              "      <th>total intl calls</th>\n",
              "      <th>total intl charge</th>\n",
              "      <th>customer service calls</th>\n",
              "      <th>churn</th>\n",
              "    </tr>\n",
              "  </thead>\n",
              "  <tbody>\n",
              "    <tr>\n",
              "      <th>0</th>\n",
              "      <td>KS</td>\n",
              "      <td>128</td>\n",
              "      <td>415</td>\n",
              "      <td>382-4657</td>\n",
              "      <td>no</td>\n",
              "      <td>yes</td>\n",
              "      <td>25</td>\n",
              "      <td>265.1</td>\n",
              "      <td>110</td>\n",
              "      <td>45.07</td>\n",
              "      <td>197.4</td>\n",
              "      <td>99</td>\n",
              "      <td>16.78</td>\n",
              "      <td>244.7</td>\n",
              "      <td>91</td>\n",
              "      <td>11.01</td>\n",
              "      <td>10.0</td>\n",
              "      <td>3</td>\n",
              "      <td>2.70</td>\n",
              "      <td>1</td>\n",
              "      <td>False</td>\n",
              "    </tr>\n",
              "    <tr>\n",
              "      <th>1</th>\n",
              "      <td>OH</td>\n",
              "      <td>107</td>\n",
              "      <td>415</td>\n",
              "      <td>371-7191</td>\n",
              "      <td>no</td>\n",
              "      <td>yes</td>\n",
              "      <td>26</td>\n",
              "      <td>161.6</td>\n",
              "      <td>123</td>\n",
              "      <td>27.47</td>\n",
              "      <td>195.5</td>\n",
              "      <td>103</td>\n",
              "      <td>16.62</td>\n",
              "      <td>254.4</td>\n",
              "      <td>103</td>\n",
              "      <td>11.45</td>\n",
              "      <td>13.7</td>\n",
              "      <td>3</td>\n",
              "      <td>3.70</td>\n",
              "      <td>1</td>\n",
              "      <td>False</td>\n",
              "    </tr>\n",
              "    <tr>\n",
              "      <th>2</th>\n",
              "      <td>NJ</td>\n",
              "      <td>137</td>\n",
              "      <td>415</td>\n",
              "      <td>358-1921</td>\n",
              "      <td>no</td>\n",
              "      <td>no</td>\n",
              "      <td>0</td>\n",
              "      <td>243.4</td>\n",
              "      <td>114</td>\n",
              "      <td>41.38</td>\n",
              "      <td>121.2</td>\n",
              "      <td>110</td>\n",
              "      <td>10.30</td>\n",
              "      <td>162.6</td>\n",
              "      <td>104</td>\n",
              "      <td>7.32</td>\n",
              "      <td>12.2</td>\n",
              "      <td>5</td>\n",
              "      <td>3.29</td>\n",
              "      <td>0</td>\n",
              "      <td>False</td>\n",
              "    </tr>\n",
              "    <tr>\n",
              "      <th>3</th>\n",
              "      <td>OH</td>\n",
              "      <td>84</td>\n",
              "      <td>408</td>\n",
              "      <td>375-9999</td>\n",
              "      <td>yes</td>\n",
              "      <td>no</td>\n",
              "      <td>0</td>\n",
              "      <td>299.4</td>\n",
              "      <td>71</td>\n",
              "      <td>50.90</td>\n",
              "      <td>61.9</td>\n",
              "      <td>88</td>\n",
              "      <td>5.26</td>\n",
              "      <td>196.9</td>\n",
              "      <td>89</td>\n",
              "      <td>8.86</td>\n",
              "      <td>6.6</td>\n",
              "      <td>7</td>\n",
              "      <td>1.78</td>\n",
              "      <td>2</td>\n",
              "      <td>False</td>\n",
              "    </tr>\n",
              "    <tr>\n",
              "      <th>4</th>\n",
              "      <td>OK</td>\n",
              "      <td>75</td>\n",
              "      <td>415</td>\n",
              "      <td>330-6626</td>\n",
              "      <td>yes</td>\n",
              "      <td>no</td>\n",
              "      <td>0</td>\n",
              "      <td>166.7</td>\n",
              "      <td>113</td>\n",
              "      <td>28.34</td>\n",
              "      <td>148.3</td>\n",
              "      <td>122</td>\n",
              "      <td>12.61</td>\n",
              "      <td>186.9</td>\n",
              "      <td>121</td>\n",
              "      <td>8.41</td>\n",
              "      <td>10.1</td>\n",
              "      <td>3</td>\n",
              "      <td>2.73</td>\n",
              "      <td>3</td>\n",
              "      <td>False</td>\n",
              "    </tr>\n",
              "  </tbody>\n",
              "</table>\n",
              "</div>"
            ],
            "text/plain": [
              "  state  account length  ...  customer service calls  churn\n",
              "0    KS             128  ...                       1  False\n",
              "1    OH             107  ...                       1  False\n",
              "2    NJ             137  ...                       0  False\n",
              "3    OH              84  ...                       2  False\n",
              "4    OK              75  ...                       3  False\n",
              "\n",
              "[5 rows x 21 columns]"
            ]
          },
          "metadata": {
            "tags": []
          },
          "execution_count": 93
        }
      ]
    },
    {
      "cell_type": "markdown",
      "metadata": {
        "id": "nFLhTxGZN7AJ"
      },
      "source": [
        "# Label Encoding"
      ]
    },
    {
      "cell_type": "code",
      "metadata": {
        "id": "bhYRUPiBEBVH"
      },
      "source": [
        "from sklearn import preprocessing\r\n",
        "label_encoder = preprocessing.LabelEncoder()\r\n",
        "trainingData['state'] = label_encoder.fit_transform(trainingData['state'])\r\n",
        "trainingData['international plan'] = label_encoder.fit_transform(trainingData['international plan'])\r\n",
        "trainingData['voice mail plan'] = label_encoder.fit_transform(trainingData['voice mail plan'])\r\n",
        "trainingData['churn'] = label_encoder.fit_transform(trainingData['churn'])\r\n",
        "trainingData['phone number'] = label_encoder.fit_transform(trainingData['phone number'])\r\n"
      ],
      "execution_count": 94,
      "outputs": []
    },
    {
      "cell_type": "markdown",
      "metadata": {
        "id": "AxJKB9kuOBMP"
      },
      "source": [
        "# Rename Columns"
      ]
    },
    {
      "cell_type": "code",
      "metadata": {
        "id": "tdGVXd7_glJH"
      },
      "source": [
        "for i in range(len(trainingData.columns)):\r\n",
        "  trainingData.rename(columns={trainingData.columns[i]: trainingData.columns[i].replace(r' ','_')}, inplace=True)\r\n"
      ],
      "execution_count": 95,
      "outputs": []
    },
    {
      "cell_type": "markdown",
      "metadata": {
        "id": "27WI5lCIOHwm"
      },
      "source": [
        "# Find Correlation "
      ]
    },
    {
      "cell_type": "code",
      "metadata": {
        "colab": {
          "base_uri": "https://localhost:8080/",
          "height": 404
        },
        "id": "C7vDha8BHVa2",
        "outputId": "d5029271-5a22-44a5-fac6-f48369945757"
      },
      "source": [
        "import seaborn as sns\r\n",
        "corr = trainingData.corr()\r\n",
        "sns.heatmap(corr, mask=np.zeros_like(corr, dtype=np.bool), cmap=sns.diverging_palette(220, 10, as_cmap=True), square=True)"
      ],
      "execution_count": 96,
      "outputs": [
        {
          "output_type": "execute_result",
          "data": {
            "text/plain": [
              "<matplotlib.axes._subplots.AxesSubplot at 0x7f63a55c1ba8>"
            ]
          },
          "metadata": {
            "tags": []
          },
          "execution_count": 96
        },
        {
          "output_type": "display_data",
          "data": {
            "image/png": "[encoded data removed]",
            "text/plain": [
              "<Figure size 432x288 with 2 Axes>"
            ]
          },
          "metadata": {
            "tags": [],
            "needs_background": "light"
          }
        }
      ]
    },
    {
      "cell_type": "code",
      "metadata": {
        "id": "TObQEzGT1ALE",
        "outputId": "6bc96073-fdad-44b8-e87c-12a4a8e77b8c",
        "colab": {
          "base_uri": "https://localhost:8080/"
        }
      },
      "source": [
        "corr['churn']"
      ],
      "execution_count": 97,
      "outputs": [
        {
          "output_type": "execute_result",
          "data": {
            "text/plain": [
              "state                     0.007780\n",
              "account_length            0.016541\n",
              "area_code                 0.006174\n",
              "phone_number              0.005626\n",
              "international_plan        0.259852\n",
              "voice_mail_plan          -0.102148\n",
              "number_vmail_messages    -0.089728\n",
              "total_day_minutes         0.205151\n",
              "total_day_calls           0.018459\n",
              "total_day_charge          0.205151\n",
              "total_eve_minutes         0.092796\n",
              "total_eve_calls           0.009233\n",
              "total_eve_charge          0.092786\n",
              "total_night_minutes       0.035493\n",
              "total_night_calls         0.006141\n",
              "total_night_charge        0.035496\n",
              "total_intl_minutes        0.068239\n",
              "total_intl_calls         -0.052844\n",
              "total_intl_charge         0.068259\n",
              "customer_service_calls    0.208750\n",
              "churn                     1.000000\n",
              "Name: churn, dtype: float64"
            ]
          },
          "metadata": {
            "tags": []
          },
          "execution_count": 97
        }
      ]
    },
    {
      "cell_type": "markdown",
      "metadata": {
        "id": "TLLNQEYbORDL"
      },
      "source": [
        "# Find Features Selection"
      ]
    },
    {
      "cell_type": "code",
      "metadata": {
        "id": "RxBQxTdI4qIO",
        "outputId": "dc2595f5-8342-4c89-dcb2-c05b9b94b4bf",
        "colab": {
          "base_uri": "https://localhost:8080/",
          "height": 265
        }
      },
      "source": [
        "from sklearn.feature_selection import SelectKBest\r\n",
        "from sklearn.feature_selection import chi2\r\n",
        "a=trainingData.drop(columns='churn')\r\n",
        "b=trainingData['churn']\r\n",
        "bestfeatures = SelectKBest(score_func=chi2, k=10)\r\n",
        "fit = bestfeatures.fit(a,b)\r\n",
        "dfscores = pd.DataFrame(fit.scores_)\r\n",
        "dfcolumns = pd.DataFrame(a.columns)\r\n",
        "#concat two dataframes for better visualization \r\n",
        "featureScores = pd.concat([dfcolumns,dfscores],axis=1)\r\n",
        "featureScores.columns = ['Specs','Score']  #naming the dataframe columns\r\n",
        "featureScores.nlargest(10,'Score').plot(kind='barh')  #print 10 best features\r\n",
        "plt.show()"
      ],
      "execution_count": 98,
      "outputs": [
        {
          "output_type": "display_data",
          "data": {
            "image/png": "[encoded data removed]",
            "text/plain": [
              "<Figure size 432x288 with 1 Axes>"
            ]
          },
          "metadata": {
            "tags": [],
            "needs_background": "light"
          }
        }
      ]
    },
    {
      "cell_type": "code",
      "metadata": {
        "id": "CzB9B3sO6sMs",
        "outputId": "062403f5-6390-4203-b97a-69a010cfdbfe",
        "colab": {
          "base_uri": "https://localhost:8080/"
        }
      },
      "source": [
        "from sklearn.ensemble import ExtraTreesClassifier\r\n",
        "import matplotlib.pyplot as plt\r\n",
        "model = ExtraTreesClassifier()\r\n",
        "model.fit(a,b)\r\n",
        "#print(model.feature_importances_) #use inbuilt class feature_importances of tree based classifiers\r\n",
        "#plot graph of feature importances for better visualization\r\n",
        "feat_importances = pd.Series(model.feature_importances_, index=a.columns)\r\n",
        "#feat_importances.nlargest(10).plot(kind='barh')\r\n",
        "#plt.show()\r\n",
        "n=feat_importances.nlargest(20)\r\n",
        "print(n)"
      ],
      "execution_count": 99,
      "outputs": [
        {
          "output_type": "stream",
          "text": [
            "total_day_charge          0.118294\n",
            "total_day_minutes         0.117647\n",
            "customer_service_calls    0.116661\n",
            "international_plan        0.071965\n",
            "total_eve_minutes         0.055460\n",
            "total_eve_charge          0.052348\n",
            "total_intl_calls          0.048772\n",
            "total_intl_minutes        0.043168\n",
            "total_intl_charge         0.043117\n",
            "total_night_minutes       0.037961\n",
            "total_night_charge        0.035635\n",
            "total_day_calls           0.034555\n",
            "phone_number              0.033284\n",
            "total_night_calls         0.033274\n",
            "total_eve_calls           0.033093\n",
            "state                     0.032575\n",
            "account_length            0.032553\n",
            "area_code                 0.021734\n",
            "voice_mail_plan           0.019440\n",
            "number_vmail_messages     0.018464\n",
            "dtype: float64\n"
          ],
          "name": "stdout"
        }
      ]
    },
    {
      "cell_type": "markdown",
      "metadata": {
        "id": "DdKa2dSKOfSd"
      },
      "source": [
        "# DF with Selected feature "
      ]
    },
    {
      "cell_type": "code",
      "metadata": {
        "id": "nEjZp6HjG7ne",
        "outputId": "ba4f96a5-85bc-4191-9b90-d8e84036c69c",
        "colab": {
          "base_uri": "https://localhost:8080/",
          "height": 53
        }
      },
      "source": [
        "'''DataFeatureSelection=trainingData.drop(columns={'total night charge','total day calls','account length','total night calls','phone number','state','total eve calls','area code','voice mail plan','number vmail messages'})\r\n",
        "print(DataFeatureSelection.shape)\r\n",
        "DataFeatureSelection.head()'''"
      ],
      "execution_count": 100,
      "outputs": [
        {
          "output_type": "execute_result",
          "data": {
            "application/vnd.google.colaboratory.intrinsic+json": {
              "type": "string"
            },
            "text/plain": [
              "\"DataFeatureSelection=trainingData.drop(columns={'total night charge','total day calls','account length','total night calls','phone number','state','total eve calls','area code','voice mail plan','number vmail messages'})\\nprint(DataFeatureSelection.shape)\\nDataFeatureSelection.head()\""
            ]
          },
          "metadata": {
            "tags": []
          },
          "execution_count": 100
        }
      ]
    },
    {
      "cell_type": "code",
      "metadata": {
        "id": "qe8ePkcSJ0g3",
        "outputId": "ffdea47b-e364-4a20-d12c-e6b5ce2e344b",
        "colab": {
          "base_uri": "https://localhost:8080/",
          "height": 233
        }
      },
      "source": [
        "DataFeatureSelection=trainingData.drop(columns={'total_night_charge','total_day_calls','account_length','total_night_calls','phone_number','state','total_eve_calls','area_code','voice_mail_plan','number_vmail_messages'})\r\n",
        "print(DataFeatureSelection.shape)\r\n",
        "DataFeatureSelection.head()"
      ],
      "execution_count": 101,
      "outputs": [
        {
          "output_type": "stream",
          "text": [
            "(3333, 11)\n"
          ],
          "name": "stdout"
        },
        {
          "output_type": "execute_result",
          "data": {
            "text/html": [
              "<div>\n",
              "<style scoped>\n",
              "    .dataframe tbody tr th:only-of-type {\n",
              "        vertical-align: middle;\n",
              "    }\n",
              "\n",
              "    .dataframe tbody tr th {\n",
              "        vertical-align: top;\n",
              "    }\n",
              "\n",
              "    .dataframe thead th {\n",
              "        text-align: right;\n",
              "    }\n",
              "</style>\n",
              "<table border=\"1\" class=\"dataframe\">\n",
              "  <thead>\n",
              "    <tr style=\"text-align: right;\">\n",
              "      <th></th>\n",
              "      <th>international_plan</th>\n",
              "      <th>total_day_minutes</th>\n",
              "      <th>total_day_charge</th>\n",
              "      <th>total_eve_minutes</th>\n",
              "      <th>total_eve_charge</th>\n",
              "      <th>total_night_minutes</th>\n",
              "      <th>total_intl_minutes</th>\n",
              "      <th>total_intl_calls</th>\n",
              "      <th>total_intl_charge</th>\n",
              "      <th>customer_service_calls</th>\n",
              "      <th>churn</th>\n",
              "    </tr>\n",
              "  </thead>\n",
              "  <tbody>\n",
              "    <tr>\n",
              "      <th>0</th>\n",
              "      <td>0</td>\n",
              "      <td>265.1</td>\n",
              "      <td>45.07</td>\n",
              "      <td>197.4</td>\n",
              "      <td>16.78</td>\n",
              "      <td>244.7</td>\n",
              "      <td>10.0</td>\n",
              "      <td>3</td>\n",
              "      <td>2.70</td>\n",
              "      <td>1</td>\n",
              "      <td>0</td>\n",
              "    </tr>\n",
              "    <tr>\n",
              "      <th>1</th>\n",
              "      <td>0</td>\n",
              "      <td>161.6</td>\n",
              "      <td>27.47</td>\n",
              "      <td>195.5</td>\n",
              "      <td>16.62</td>\n",
              "      <td>254.4</td>\n",
              "      <td>13.7</td>\n",
              "      <td>3</td>\n",
              "      <td>3.70</td>\n",
              "      <td>1</td>\n",
              "      <td>0</td>\n",
              "    </tr>\n",
              "    <tr>\n",
              "      <th>2</th>\n",
              "      <td>0</td>\n",
              "      <td>243.4</td>\n",
              "      <td>41.38</td>\n",
              "      <td>121.2</td>\n",
              "      <td>10.30</td>\n",
              "      <td>162.6</td>\n",
              "      <td>12.2</td>\n",
              "      <td>5</td>\n",
              "      <td>3.29</td>\n",
              "      <td>0</td>\n",
              "      <td>0</td>\n",
              "    </tr>\n",
              "    <tr>\n",
              "      <th>3</th>\n",
              "      <td>1</td>\n",
              "      <td>299.4</td>\n",
              "      <td>50.90</td>\n",
              "      <td>61.9</td>\n",
              "      <td>5.26</td>\n",
              "      <td>196.9</td>\n",
              "      <td>6.6</td>\n",
              "      <td>7</td>\n",
              "      <td>1.78</td>\n",
              "      <td>2</td>\n",
              "      <td>0</td>\n",
              "    </tr>\n",
              "    <tr>\n",
              "      <th>4</th>\n",
              "      <td>1</td>\n",
              "      <td>166.7</td>\n",
              "      <td>28.34</td>\n",
              "      <td>148.3</td>\n",
              "      <td>12.61</td>\n",
              "      <td>186.9</td>\n",
              "      <td>10.1</td>\n",
              "      <td>3</td>\n",
              "      <td>2.73</td>\n",
              "      <td>3</td>\n",
              "      <td>0</td>\n",
              "    </tr>\n",
              "  </tbody>\n",
              "</table>\n",
              "</div>"
            ],
            "text/plain": [
              "   international_plan  total_day_minutes  ...  customer_service_calls  churn\n",
              "0                   0              265.1  ...                       1      0\n",
              "1                   0              161.6  ...                       1      0\n",
              "2                   0              243.4  ...                       0      0\n",
              "3                   1              299.4  ...                       2      0\n",
              "4                   1              166.7  ...                       3      0\n",
              "\n",
              "[5 rows x 11 columns]"
            ]
          },
          "metadata": {
            "tags": []
          },
          "execution_count": 101
        }
      ]
    },
    {
      "cell_type": "markdown",
      "metadata": {
        "id": "RHA7QtmWPMli"
      },
      "source": [
        "# Find the percent of churn customer to non-churn customer"
      ]
    },
    {
      "cell_type": "code",
      "metadata": {
        "colab": {
          "base_uri": "https://localhost:8080/",
          "height": 355
        },
        "id": "tE294kPANSRP",
        "outputId": "22ce10d7-c8a1-448e-f8d6-4d208681ead1"
      },
      "source": [
        "y = trainingData['churn'].value_counts()\r\n",
        "sns.barplot(y.index, y.values)\r\n",
        "y_True = trainingData[\"churn\"][trainingData[\"churn\"] == True]\r\n",
        "print(y_True.shape[0])\r\n",
        "print (\"Churn Percentage = \"+str( (y_True.shape[0] / trainingData[\"churn\"].shape[0]) * 100 ))"
      ],
      "execution_count": 102,
      "outputs": [
        {
          "output_type": "stream",
          "text": [
            "483\n",
            "Churn Percentage = 14.491449144914492\n"
          ],
          "name": "stdout"
        },
        {
          "output_type": "stream",
          "text": [
            "/usr/local/lib/python3.6/dist-packages/seaborn/_decorators.py:43: FutureWarning: Pass the following variables as keyword args: x, y. From version 0.12, the only valid positional argument will be `data`, and passing other arguments without an explicit keyword will result in an error or misinterpretation.\n",
            "  FutureWarning\n"
          ],
          "name": "stderr"
        },
        {
          "output_type": "display_data",
          "data": {
            "image/png": "[encoded data removed]",
            "text/plain": [
              "<Figure size 432x288 with 1 Axes>"
            ]
          },
          "metadata": {
            "tags": [],
            "needs_background": "light"
          }
        }
      ]
    },
    {
      "cell_type": "code",
      "metadata": {
        "colab": {
          "base_uri": "https://localhost:8080/",
          "height": 304
        },
        "id": "UBEG1SE1OA0t",
        "outputId": "cd19f99e-e69d-4cdc-a0bd-c910644fe4d9"
      },
      "source": [
        "trainingData.describe()"
      ],
      "execution_count": 103,
      "outputs": [
        {
          "output_type": "execute_result",
          "data": {
            "text/html": [
              "<div>\n",
              "<style scoped>\n",
              "    .dataframe tbody tr th:only-of-type {\n",
              "        vertical-align: middle;\n",
              "    }\n",
              "\n",
              "    .dataframe tbody tr th {\n",
              "        vertical-align: top;\n",
              "    }\n",
              "\n",
              "    .dataframe thead th {\n",
              "        text-align: right;\n",
              "    }\n",
              "</style>\n",
              "<table border=\"1\" class=\"dataframe\">\n",
              "  <thead>\n",
              "    <tr style=\"text-align: right;\">\n",
              "      <th></th>\n",
              "      <th>state</th>\n",
              "      <th>account_length</th>\n",
              "      <th>area_code</th>\n",
              "      <th>phone_number</th>\n",
              "      <th>international_plan</th>\n",
              "      <th>voice_mail_plan</th>\n",
              "      <th>number_vmail_messages</th>\n",
              "      <th>total_day_minutes</th>\n",
              "      <th>total_day_calls</th>\n",
              "      <th>total_day_charge</th>\n",
              "      <th>total_eve_minutes</th>\n",
              "      <th>total_eve_calls</th>\n",
              "      <th>total_eve_charge</th>\n",
              "      <th>total_night_minutes</th>\n",
              "      <th>total_night_calls</th>\n",
              "      <th>total_night_charge</th>\n",
              "      <th>total_intl_minutes</th>\n",
              "      <th>total_intl_calls</th>\n",
              "      <th>total_intl_charge</th>\n",
              "      <th>customer_service_calls</th>\n",
              "      <th>churn</th>\n",
              "    </tr>\n",
              "  </thead>\n",
              "  <tbody>\n",
              "    <tr>\n",
              "      <th>count</th>\n",
              "      <td>3333.000000</td>\n",
              "      <td>3333.000000</td>\n",
              "      <td>3333.000000</td>\n",
              "      <td>3333.00000</td>\n",
              "      <td>3333.000000</td>\n",
              "      <td>3333.000000</td>\n",
              "      <td>3333.000000</td>\n",
              "      <td>3333.000000</td>\n",
              "      <td>3333.000000</td>\n",
              "      <td>3333.000000</td>\n",
              "      <td>3333.000000</td>\n",
              "      <td>3333.000000</td>\n",
              "      <td>3333.000000</td>\n",
              "      <td>3333.000000</td>\n",
              "      <td>3333.000000</td>\n",
              "      <td>3333.000000</td>\n",
              "      <td>3333.000000</td>\n",
              "      <td>3333.000000</td>\n",
              "      <td>3333.000000</td>\n",
              "      <td>3333.000000</td>\n",
              "      <td>3333.000000</td>\n",
              "    </tr>\n",
              "    <tr>\n",
              "      <th>mean</th>\n",
              "      <td>26.059406</td>\n",
              "      <td>101.064806</td>\n",
              "      <td>437.182418</td>\n",
              "      <td>1666.00000</td>\n",
              "      <td>0.096910</td>\n",
              "      <td>0.276628</td>\n",
              "      <td>8.099010</td>\n",
              "      <td>179.775098</td>\n",
              "      <td>100.435644</td>\n",
              "      <td>30.562307</td>\n",
              "      <td>200.980348</td>\n",
              "      <td>100.114311</td>\n",
              "      <td>17.083540</td>\n",
              "      <td>200.872037</td>\n",
              "      <td>100.107711</td>\n",
              "      <td>9.039325</td>\n",
              "      <td>10.237294</td>\n",
              "      <td>4.479448</td>\n",
              "      <td>2.764581</td>\n",
              "      <td>1.562856</td>\n",
              "      <td>0.144914</td>\n",
              "    </tr>\n",
              "    <tr>\n",
              "      <th>std</th>\n",
              "      <td>14.824911</td>\n",
              "      <td>39.822106</td>\n",
              "      <td>42.371290</td>\n",
              "      <td>962.29855</td>\n",
              "      <td>0.295879</td>\n",
              "      <td>0.447398</td>\n",
              "      <td>13.688365</td>\n",
              "      <td>54.467389</td>\n",
              "      <td>20.069084</td>\n",
              "      <td>9.259435</td>\n",
              "      <td>50.713844</td>\n",
              "      <td>19.922625</td>\n",
              "      <td>4.310668</td>\n",
              "      <td>50.573847</td>\n",
              "      <td>19.568609</td>\n",
              "      <td>2.275873</td>\n",
              "      <td>2.791840</td>\n",
              "      <td>2.461214</td>\n",
              "      <td>0.753773</td>\n",
              "      <td>1.315491</td>\n",
              "      <td>0.352067</td>\n",
              "    </tr>\n",
              "    <tr>\n",
              "      <th>min</th>\n",
              "      <td>0.000000</td>\n",
              "      <td>1.000000</td>\n",
              "      <td>408.000000</td>\n",
              "      <td>0.00000</td>\n",
              "      <td>0.000000</td>\n",
              "      <td>0.000000</td>\n",
              "      <td>0.000000</td>\n",
              "      <td>0.000000</td>\n",
              "      <td>0.000000</td>\n",
              "      <td>0.000000</td>\n",
              "      <td>0.000000</td>\n",
              "      <td>0.000000</td>\n",
              "      <td>0.000000</td>\n",
              "      <td>23.200000</td>\n",
              "      <td>33.000000</td>\n",
              "      <td>1.040000</td>\n",
              "      <td>0.000000</td>\n",
              "      <td>0.000000</td>\n",
              "      <td>0.000000</td>\n",
              "      <td>0.000000</td>\n",
              "      <td>0.000000</td>\n",
              "    </tr>\n",
              "    <tr>\n",
              "      <th>25%</th>\n",
              "      <td>14.000000</td>\n",
              "      <td>74.000000</td>\n",
              "      <td>408.000000</td>\n",
              "      <td>833.00000</td>\n",
              "      <td>0.000000</td>\n",
              "      <td>0.000000</td>\n",
              "      <td>0.000000</td>\n",
              "      <td>143.700000</td>\n",
              "      <td>87.000000</td>\n",
              "      <td>24.430000</td>\n",
              "      <td>166.600000</td>\n",
              "      <td>87.000000</td>\n",
              "      <td>14.160000</td>\n",
              "      <td>167.000000</td>\n",
              "      <td>87.000000</td>\n",
              "      <td>7.520000</td>\n",
              "      <td>8.500000</td>\n",
              "      <td>3.000000</td>\n",
              "      <td>2.300000</td>\n",
              "      <td>1.000000</td>\n",
              "      <td>0.000000</td>\n",
              "    </tr>\n",
              "    <tr>\n",
              "      <th>50%</th>\n",
              "      <td>26.000000</td>\n",
              "      <td>101.000000</td>\n",
              "      <td>415.000000</td>\n",
              "      <td>1666.00000</td>\n",
              "      <td>0.000000</td>\n",
              "      <td>0.000000</td>\n",
              "      <td>0.000000</td>\n",
              "      <td>179.400000</td>\n",
              "      <td>101.000000</td>\n",
              "      <td>30.500000</td>\n",
              "      <td>201.400000</td>\n",
              "      <td>100.000000</td>\n",
              "      <td>17.120000</td>\n",
              "      <td>201.200000</td>\n",
              "      <td>100.000000</td>\n",
              "      <td>9.050000</td>\n",
              "      <td>10.300000</td>\n",
              "      <td>4.000000</td>\n",
              "      <td>2.780000</td>\n",
              "      <td>1.000000</td>\n",
              "      <td>0.000000</td>\n",
              "    </tr>\n",
              "    <tr>\n",
              "      <th>75%</th>\n",
              "      <td>39.000000</td>\n",
              "      <td>127.000000</td>\n",
              "      <td>510.000000</td>\n",
              "      <td>2499.00000</td>\n",
              "      <td>0.000000</td>\n",
              "      <td>1.000000</td>\n",
              "      <td>20.000000</td>\n",
              "      <td>216.400000</td>\n",
              "      <td>114.000000</td>\n",
              "      <td>36.790000</td>\n",
              "      <td>235.300000</td>\n",
              "      <td>114.000000</td>\n",
              "      <td>20.000000</td>\n",
              "      <td>235.300000</td>\n",
              "      <td>113.000000</td>\n",
              "      <td>10.590000</td>\n",
              "      <td>12.100000</td>\n",
              "      <td>6.000000</td>\n",
              "      <td>3.270000</td>\n",
              "      <td>2.000000</td>\n",
              "      <td>0.000000</td>\n",
              "    </tr>\n",
              "    <tr>\n",
              "      <th>max</th>\n",
              "      <td>50.000000</td>\n",
              "      <td>243.000000</td>\n",
              "      <td>510.000000</td>\n",
              "      <td>3332.00000</td>\n",
              "      <td>1.000000</td>\n",
              "      <td>1.000000</td>\n",
              "      <td>51.000000</td>\n",
              "      <td>350.800000</td>\n",
              "      <td>165.000000</td>\n",
              "      <td>59.640000</td>\n",
              "      <td>363.700000</td>\n",
              "      <td>170.000000</td>\n",
              "      <td>30.910000</td>\n",
              "      <td>395.000000</td>\n",
              "      <td>175.000000</td>\n",
              "      <td>17.770000</td>\n",
              "      <td>20.000000</td>\n",
              "      <td>20.000000</td>\n",
              "      <td>5.400000</td>\n",
              "      <td>9.000000</td>\n",
              "      <td>1.000000</td>\n",
              "    </tr>\n",
              "  </tbody>\n",
              "</table>\n",
              "</div>"
            ],
            "text/plain": [
              "             state  account_length  ...  customer_service_calls        churn\n",
              "count  3333.000000     3333.000000  ...             3333.000000  3333.000000\n",
              "mean     26.059406      101.064806  ...                1.562856     0.144914\n",
              "std      14.824911       39.822106  ...                1.315491     0.352067\n",
              "min       0.000000        1.000000  ...                0.000000     0.000000\n",
              "25%      14.000000       74.000000  ...                1.000000     0.000000\n",
              "50%      26.000000      101.000000  ...                1.000000     0.000000\n",
              "75%      39.000000      127.000000  ...                2.000000     0.000000\n",
              "max      50.000000      243.000000  ...                9.000000     1.000000\n",
              "\n",
              "[8 rows x 21 columns]"
            ]
          },
          "metadata": {
            "tags": []
          },
          "execution_count": 103
        }
      ]
    },
    {
      "cell_type": "code",
      "metadata": {
        "colab": {
          "base_uri": "https://localhost:8080/"
        },
        "id": "XpwoaOKXJk-D",
        "outputId": "df1c2d91-ceaa-4e0b-a965-94953253e1f8"
      },
      "source": [
        "col=trainingData.columns\r\n",
        "print(col)"
      ],
      "execution_count": 104,
      "outputs": [
        {
          "output_type": "stream",
          "text": [
            "Index(['state', 'account_length', 'area_code', 'phone_number',\n",
            "       'international_plan', 'voice_mail_plan', 'number_vmail_messages',\n",
            "       'total_day_minutes', 'total_day_calls', 'total_day_charge',\n",
            "       'total_eve_minutes', 'total_eve_calls', 'total_eve_charge',\n",
            "       'total_night_minutes', 'total_night_calls', 'total_night_charge',\n",
            "       'total_intl_minutes', 'total_intl_calls', 'total_intl_charge',\n",
            "       'customer_service_calls', 'churn'],\n",
            "      dtype='object')\n"
          ],
          "name": "stdout"
        }
      ]
    },
    {
      "cell_type": "code",
      "metadata": {
        "id": "ATqHcZKSP8WB"
      },
      "source": [
        "churn=trainingData[trainingData['churn']==True]\r\n",
        "non_churn=trainingData[trainingData['churn']==False]"
      ],
      "execution_count": 105,
      "outputs": []
    },
    {
      "cell_type": "code",
      "metadata": {
        "colab": {
          "base_uri": "https://localhost:8080/",
          "height": 318
        },
        "id": "j4Ep-Pt0JrJw",
        "outputId": "bfd6d8ac-0e71-430c-c119-a9798996115b"
      },
      "source": [
        "from matplotlib.pyplot import hist\r\n",
        "print(col[4])\r\n",
        "hist(trainingData[col[4]],weights=trainingData['churn'])\r\n",
        "international_plan_Ch=(churn['international_plan']).sum()/churn.shape[0]\r\n",
        "international_plan_NonCh=(non_churn['international_plan']).sum()/non_churn.shape[0]\r\n",
        "print(international_plan_Ch)\r\n",
        "print(international_plan_NonCh)"
      ],
      "execution_count": 110,
      "outputs": [
        {
          "output_type": "stream",
          "text": [
            "international_plan\n",
            "0.2836438923395445\n",
            "0.06526315789473684\n"
          ],
          "name": "stdout"
        },
        {
          "output_type": "display_data",
          "data": {
            "image/png": "[encoded data removed]",
            "text/plain": [
              "<Figure size 432x288 with 1 Axes>"
            ]
          },
          "metadata": {
            "tags": [],
            "needs_background": "light"
          }
        }
      ]
    },
    {
      "cell_type": "code",
      "metadata": {
        "colab": {
          "base_uri": "https://localhost:8080/",
          "height": 318
        },
        "id": "n4TDFY2uOmKC",
        "outputId": "fc368a71-94fe-4c58-d6d5-1879ad696f2f"
      },
      "source": [
        "from matplotlib.pyplot import hist\r\n",
        "print(col[2])\r\n",
        "hist(trainingData[col[2]],weights=trainingData['churn'])\r\n",
        "international_plan_Ch=(churn['area_code']).sum()/churn.shape[0]\r\n",
        "international_plan_NonCh=(non_churn['area_code']).sum()/non_churn.shape[0]\r\n",
        "print(international_plan_Ch)\r\n",
        "print(international_plan_NonCh)"
      ],
      "execution_count": 112,
      "outputs": [
        {
          "output_type": "stream",
          "text": [
            "area_code\n",
            "437.8178053830228\n",
            "437.07473684210527\n"
          ],
          "name": "stdout"
        },
        {
          "output_type": "display_data",
          "data": {
            "image/png": "[encoded data removed]",
            "text/plain": [
              "<Figure size 432x288 with 1 Axes>"
            ]
          },
          "metadata": {
            "tags": [],
            "needs_background": "light"
          }
        }
      ]
    },
    {
      "cell_type": "markdown",
      "metadata": {
        "id": "bRtaSyXDRYvz"
      },
      "source": [
        "**NOTE:** here from above avg for churn and non-churn data we can say \"area_code\" not important"
      ]
    },
    {
      "cell_type": "code",
      "metadata": {
        "id": "5T9d2ik1L3B6"
      },
      "source": [
        "from matplotlib.pyplot import hist\r\n",
        "print(col[7])\r\n",
        "hist(trainingData[col[7]],weights=trainingData['churn'])"
      ],
      "execution_count": null,
      "outputs": []
    },
    {
      "cell_type": "code",
      "metadata": {
        "id": "TjAfnd6kMRZR"
      },
      "source": [
        "from matplotlib.pyplot import hist\r\n",
        "print(col[9])\r\n",
        "hist(trainingData[col[9]],weights=trainingData['churn'])"
      ],
      "execution_count": null,
      "outputs": []
    },
    {
      "cell_type": "code",
      "metadata": {
        "id": "qZ0fm2XZMja-"
      },
      "source": [
        "from matplotlib.pyplot import hist\r\n",
        "print(col[19])\r\n",
        "hist(trainingData[col[19]],weights=trainingData['churn'])"
      ],
      "execution_count": null,
      "outputs": []
    },
    {
      "cell_type": "markdown",
      "metadata": {
        "id": "aiLgTspI_RUl"
      },
      "source": [
        "## Churn percentage\r\n"
      ]
    },
    {
      "cell_type": "markdown",
      "metadata": {
        "id": "ll2ZG61FBODf"
      },
      "source": [
        ""
      ]
    },
    {
      "cell_type": "code",
      "metadata": {
        "id": "LO0_iTCm_qRH"
      },
      "source": [
        "import plotly.express as px\r\n",
        "fig = px.pie(trainingData, names='churn', title='churn',width=400, height=400)\r\n",
        "fig.show()"
      ],
      "execution_count": null,
      "outputs": []
    },
    {
      "cell_type": "markdown",
      "metadata": {
        "id": "VslMzvUVQYnC"
      },
      "source": [
        "##Deep Neural Network"
      ]
    },
    {
      "cell_type": "code",
      "metadata": {
        "id": "elApxtnCP5I8"
      },
      "source": [
        "%tensorflow_version 2.x\r\n",
        "\r\n",
        "import tensorflow as tf"
      ],
      "execution_count": null,
      "outputs": []
    },
    {
      "cell_type": "code",
      "metadata": {
        "id": "0xva-YNuQ4fI"
      },
      "source": [
        "y=trainingData['churn']\r\n",
        "x = trainingData\r\n",
        "from sklearn.model_selection import train_test_split\r\n",
        "x_train, x_test, y_train, y_test = train_test_split(x,y,test_size=0.1)\r\n",
        "train = x_train.pop('churn')\r\n",
        "test = x_test.pop('churn')\r\n",
        "print(len(x))\r\n",
        "print(len(x_train))\r\n",
        "print(len(x_test))"
      ],
      "execution_count": null,
      "outputs": []
    },
    {
      "cell_type": "markdown",
      "metadata": {
        "id": "CTL9ZmkqIuqs"
      },
      "source": [
        "*****Duha"
      ]
    },
    {
      "cell_type": "code",
      "metadata": {
        "id": "3uRacZauIFZd"
      },
      "source": [
        "DataFeatureSelection=trainingData.drop(columns={'total night charge','total day calls','account length','total night calls','phone number','state','total eve calls','area code','voice mail plan','number vmail messages'})\r\n",
        "print(DataFeatureSelection.shape)\r\n",
        "DataFeatureSelection.head()"
      ],
      "execution_count": null,
      "outputs": []
    },
    {
      "cell_type": "code",
      "metadata": {
        "id": "Ut8QH_k2KHzQ"
      },
      "source": [
        "DataFeatureSelection.head()"
      ],
      "execution_count": null,
      "outputs": []
    },
    {
      "cell_type": "code",
      "metadata": {
        "id": "rrqA7Ib-IGc9"
      },
      "source": [
        "%tensorflow_version 2.x\r\n",
        "\r\n",
        "import tensorflow as tf\r\n",
        "y=DataFeatureSelection['churn']\r\n",
        "x = DataFeatureSelection\r\n",
        "from sklearn.model_selection import train_test_split\r\n",
        "x_train, x_test, y_train, y_test = train_test_split(x,y,test_size=0.3)\r\n",
        "train = x_train.pop('churn')\r\n",
        "test = x_test.pop('churn')\r\n",
        "print(len(x))\r\n",
        "print(len(x_train))\r\n",
        "print(len(x_test))"
      ],
      "execution_count": null,
      "outputs": []
    },
    {
      "cell_type": "markdown",
      "metadata": {
        "id": "RlsYJnQ_Iz7Y"
      },
      "source": [
        "*******Duha"
      ]
    },
    {
      "cell_type": "code",
      "metadata": {
        "id": "GPCW1fV0RPWD"
      },
      "source": [
        "x_train.shape"
      ],
      "execution_count": null,
      "outputs": []
    },
    {
      "cell_type": "code",
      "metadata": {
        "id": "9UL4IehfRR1N"
      },
      "source": [
        "x_test.shape"
      ],
      "execution_count": null,
      "outputs": []
    },
    {
      "cell_type": "code",
      "metadata": {
        "id": "-e6guQDoR7e_"
      },
      "source": [
        "def input_fn(features, labels, training=True, batch_size=256):\r\n",
        "    dataset = tf.data.Dataset.from_tensor_slices((dict(features), labels))\r\n",
        "\r\n",
        "    # Shuffle and repeat if you are in training mode.\r\n",
        "    if training:\r\n",
        "        dataset = dataset.shuffle(1000).repeat()\r\n",
        "        \r\n",
        "    return dataset.batch(batch_size)"
      ],
      "execution_count": null,
      "outputs": []
    },
    {
      "cell_type": "code",
      "metadata": {
        "id": "7q8vle2eR-pF"
      },
      "source": [
        "my_feature_columns = []\r\n",
        "for key in x_train.keys():\r\n",
        "    my_feature_columns.append(tf.feature_column.numeric_column(key=key))\r\n",
        "print(my_feature_columns)"
      ],
      "execution_count": null,
      "outputs": []
    },
    {
      "cell_type": "code",
      "metadata": {
        "id": "gqNz67ntSB2z"
      },
      "source": [
        "# Build a DNN with 2 hidden layers with 30 and 10 hidden nodes each.\r\n",
        "classifier = tf.estimator.DNNClassifier(\r\n",
        "    feature_columns=my_feature_columns,\r\n",
        "    # Two hidden layers of 30 and 10 nodes respectively.\r\n",
        "    hidden_units=[30, 10],\r\n",
        "    #hidden_units=[256,128,64,32],\r\n",
        "    # The model must choose between 3 classes.\r\n",
        "    n_classes=2)"
      ],
      "execution_count": null,
      "outputs": []
    },
    {
      "cell_type": "code",
      "metadata": {
        "id": "5PUXKZnySGzK"
      },
      "source": [
        "classifier.train(\r\n",
        "    input_fn=lambda: input_fn(x_train, train, training=True),steps=5000)"
      ],
      "execution_count": null,
      "outputs": []
    },
    {
      "cell_type": "code",
      "metadata": {
        "id": "IxwjExief0Xu"
      },
      "source": [
        "eval_result = classifier.evaluate(\r\n",
        "    input_fn=lambda: input_fn(x_test, test, training=False))\r\n",
        "\r\n",
        "print('\\nTest set accuracy: {accuracy:0.3f}\\n'.format(**eval_result))\r\n",
        "deepNeuralNetwork=(eval_result['accuracy']);\r\n",
        "\r\n",
        "# plot_confusion_matrix(lr, x_test, y_test)\r\n",
        "# plt.show()\r\n"
      ],
      "execution_count": null,
      "outputs": []
    },
    {
      "cell_type": "markdown",
      "metadata": {
        "id": "LSJgw6csA6C0"
      },
      "source": [
        "## Linear Regression"
      ]
    },
    {
      "cell_type": "code",
      "metadata": {
        "id": "xQfQbLbeBTx3"
      },
      "source": [
        "from sklearn.linear_model import LogisticRegression\r\n",
        "from sklearn.metrics import accuracy_score, plot_confusion_matrix\r\n",
        "from sklearn.model_selection import train_test_split\r\n",
        "import matplotlib.pyplot as plt\r\n",
        "x = trainingData[['state', 'account_length', 'area_code', 'phone_number','international_plan', 'voice_mail_plan', 'number_vmail_messages','total_day_minutes', 'total_day_calls', 'total_day_charge','total_eve_minutes', 'total_eve_calls', 'total_eve_charge','total_night_minutes', 'total_night_calls', 'total_night_charge','total_intl_minutes', 'total_intl_calls', 'total_intl_charge','customer_service_calls']]\r\n",
        "y = trainingData['churn']\r\n",
        "x_train,x_test,y_train,y_test=train_test_split(x,y,random_state=1,test_size=0.2)\r\n",
        "lr=LogisticRegression(max_iter=10000)\r\n",
        "lr.fit(x_train,y_train)\r\n",
        "p1=lr.predict(x_test)\r\n",
        "s1=accuracy_score(y_test,p1)\r\n",
        "linearRegression=s1;\r\n",
        "print(\"Linear Regression Success Rate :\", \"{:.2f}%\".format(100*s1))\r\n",
        "plot_confusion_matrix(lr, x_test, y_test)\r\n",
        "plt.show()"
      ],
      "execution_count": null,
      "outputs": []
    },
    {
      "cell_type": "code",
      "metadata": {
        "id": "Zu-8viCoKqch"
      },
      "source": [
        "from sklearn.linear_model import LogisticRegression\r\n",
        "from sklearn.metrics import accuracy_score, plot_confusion_matrix\r\n",
        "from sklearn.model_selection import train_test_split\r\n",
        "import matplotlib.pyplot as plt\r\n",
        "x = DataFeatureSelection.drop(columns='churn')\r\n",
        "y = DataFeatureSelection['churn']\r\n",
        "x_train,x_test,y_train,y_test=train_test_split(x,y,random_state=1,test_size=0.2)\r\n",
        "lr=LogisticRegression(max_iter=10000)\r\n",
        "lr.fit(x_train,y_train)\r\n",
        "p1=lr.predict(x_test)\r\n",
        "s1=accuracy_score(y_test,p1)\r\n",
        "linearRegression=s1;\r\n",
        "print(\"Linear Regression Success Rate :\", \"{:.2f}%\".format(100*s1))\r\n",
        "plot_confusion_matrix(lr, x_test, y_test)\r\n",
        "plt.show()"
      ],
      "execution_count": null,
      "outputs": []
    },
    {
      "cell_type": "markdown",
      "metadata": {
        "id": "lOdt0JqTCi-_"
      },
      "source": [
        "## Gradient Booster Classifier"
      ]
    },
    {
      "cell_type": "code",
      "metadata": {
        "id": "w8EiJ0ujCsRj"
      },
      "source": [
        "from sklearn.ensemble import GradientBoostingClassifier\r\n",
        "gbc=GradientBoostingClassifier()\r\n",
        "gbc.fit(x_train,y_train)\r\n",
        "p2=gbc.predict(x_test)\r\n",
        "s2=accuracy_score(y_test,p2)\r\n",
        "gradientBossterClassifier=s2\r\n",
        "print(\"Gradient Booster Classifier Success Rate :\", \"{:.2f}%\".format(100*s2))\r\n",
        "plot_confusion_matrix(gbc, x_test, y_test)\r\n",
        "plt.show()"
      ],
      "execution_count": null,
      "outputs": []
    },
    {
      "cell_type": "code",
      "metadata": {
        "id": "UHA5biH3LBKr"
      },
      "source": [
        "from sklearn.ensemble import GradientBoostingClassifier\r\n",
        "gbc=GradientBoostingClassifier()\r\n",
        "gbc.fit(x_train,y_train)\r\n",
        "p2=gbc.predict(x_test)\r\n",
        "s2=accuracy_score(y_test,p2)\r\n",
        "gradientBossterClassifier=s2\r\n",
        "print(\"Gradient Booster Classifier Success Rate :\", \"{:.2f}%\".format(100*s2))\r\n",
        "plot_confusion_matrix(gbc, x_test, y_test)\r\n",
        "plt.show()"
      ],
      "execution_count": null,
      "outputs": []
    },
    {
      "cell_type": "markdown",
      "metadata": {
        "id": "1xshtnfbC352"
      },
      "source": [
        "## Random Forest Classifier"
      ]
    },
    {
      "cell_type": "code",
      "metadata": {
        "id": "0P7WtpiqC6js"
      },
      "source": [
        "from sklearn.ensemble import RandomForestClassifier\r\n",
        "rfc=RandomForestClassifier()\r\n",
        "rfc.fit(x_train,y_train)\r\n",
        "p3=rfc.predict(x_test)\r\n",
        "s3=accuracy_score(y_test,p3)\r\n",
        "randomForestClassifier=s3;\r\n",
        "print(\"Random Forest Classifier Success Rate :\", \"{:.2f}%\".format(100*s3))\r\n",
        "plot_confusion_matrix(rfc, x_test, y_test)\r\n",
        "plt.show()"
      ],
      "execution_count": null,
      "outputs": []
    },
    {
      "cell_type": "code",
      "metadata": {
        "id": "WDmWSvaVLIP_"
      },
      "source": [
        "from sklearn.ensemble import RandomForestClassifier\r\n",
        "rfc=RandomForestClassifier()\r\n",
        "rfc.fit(x_train,y_train)\r\n",
        "p3=rfc.predict(x_test)\r\n",
        "s3=accuracy_score(y_test,p3)\r\n",
        "randomForestClassifier=s3;\r\n",
        "print(\"Random Forest Classifier Success Rate :\", \"{:.2f}%\".format(100*s3))\r\n",
        "plot_confusion_matrix(rfc, x_test, y_test)\r\n",
        "plt.show()"
      ],
      "execution_count": null,
      "outputs": []
    },
    {
      "cell_type": "markdown",
      "metadata": {
        "id": "mFzfIPrsDLm5"
      },
      "source": [
        "## Support Vector Machine"
      ]
    },
    {
      "cell_type": "code",
      "metadata": {
        "id": "MmOt8b_5DNdM"
      },
      "source": [
        "from sklearn.svm import SVC\r\n",
        "svm=SVC()\r\n",
        "svm.fit(x_train,y_train)\r\n",
        "p4=svm.predict(x_test)\r\n",
        "s4=accuracy_score(y_test,p4)\r\n",
        "supportVectorMachine=s4;\r\n",
        "print(\"Support Vector Machine Success Rate :\", \"{:.2f}%\".format(100*s4))\r\n",
        "plot_confusion_matrix(svm, x_test, y_test)\r\n",
        "plt.show()"
      ],
      "execution_count": null,
      "outputs": []
    },
    {
      "cell_type": "code",
      "metadata": {
        "id": "681vMEejLMDx"
      },
      "source": [
        "from sklearn.svm import SVC\r\n",
        "svm=SVC()\r\n",
        "svm.fit(x_train,y_train)\r\n",
        "p4=svm.predict(x_test)\r\n",
        "s4=accuracy_score(y_test,p4)\r\n",
        "supportVectorMachine=s4;\r\n",
        "print(\"Support Vector Machine Success Rate :\", \"{:.2f}%\".format(100*s4))\r\n",
        "plot_confusion_matrix(svm, x_test, y_test)\r\n",
        "plt.show()"
      ],
      "execution_count": null,
      "outputs": []
    },
    {
      "cell_type": "markdown",
      "metadata": {
        "id": "FYtu14dFDSgr"
      },
      "source": [
        "## K Nearest Neighbors"
      ]
    },
    {
      "cell_type": "code",
      "metadata": {
        "id": "YjEzURYMDaKT"
      },
      "source": [
        "from sklearn.neighbors import KNeighborsClassifier\r\n",
        "scorelist=[]\r\n",
        "for i in range(1,21):\r\n",
        "    knn=KNeighborsClassifier(n_neighbors=i)\r\n",
        "    knn.fit(x_train,y_train)\r\n",
        "    p5=knn.predict(x_test)\r\n",
        "    s5=accuracy_score(y_test,p5)\r\n",
        "    scorelist.append(round(100*s5, 2))\r\n",
        "print(\"K Nearest Neighbors Top 5 Success Rates:\")\r\n",
        "print(sorted(scorelist,reverse=True)[:5])\r\n",
        "kNearestNeighbours=max(scorelist)\r\n",
        "plot_confusion_matrix(knn, x_test, y_test)\r\n",
        "plt.show()"
      ],
      "execution_count": null,
      "outputs": []
    },
    {
      "cell_type": "code",
      "metadata": {
        "id": "Juulu_rtLPNG"
      },
      "source": [
        "from sklearn.neighbors import KNeighborsClassifier\r\n",
        "scorelist=[]\r\n",
        "for i in range(1,21):\r\n",
        "    knn=KNeighborsClassifier(n_neighbors=i)\r\n",
        "    knn.fit(x_train,y_train)\r\n",
        "    p5=knn.predict(x_test)\r\n",
        "    s5=accuracy_score(y_test,p5)\r\n",
        "    scorelist.append(round(100*s5, 2))\r\n",
        "print(\"K Nearest Neighbors Top 5 Success Rates:\")\r\n",
        "print(sorted(scorelist,reverse=True)[:5])\r\n",
        "kNearestNeighbours=max(scorelist)\r\n",
        "plot_confusion_matrix(knn, x_test, y_test)\r\n",
        "plt.show()"
      ],
      "execution_count": null,
      "outputs": []
    },
    {
      "cell_type": "markdown",
      "metadata": {
        "id": "u4xsr5JODhYs"
      },
      "source": [
        "## Decision Tree Classifier"
      ]
    },
    {
      "cell_type": "code",
      "metadata": {
        "id": "hn_Yqf9xDlEE"
      },
      "source": [
        "from sklearn.tree import DecisionTreeClassifier\r\n",
        "list1 = []\r\n",
        "for leaves in range(2,10):\r\n",
        "    classifier = DecisionTreeClassifier(max_leaf_nodes = leaves, random_state=0, criterion='entropy')\r\n",
        "    classifier.fit(x_train, y_train)\r\n",
        "    y_pred = classifier.predict(x_test)\r\n",
        "    list1.append(accuracy_score(y_test,y_pred)*100)\r\n",
        "print(\"Decision Tree Classifier Top 5 Success Rates:\")\r\n",
        "print([round(i, 2) for i in sorted(list1, reverse=True)[:5]])\r\n",
        "decisionTreeClassifier=max(list1)\r\n",
        "plot_confusion_matrix(classifier, x_test, y_test)\r\n",
        "plt.show()"
      ],
      "execution_count": null,
      "outputs": []
    },
    {
      "cell_type": "code",
      "metadata": {
        "id": "uzWcEpImLUkS"
      },
      "source": [
        "from sklearn.tree import DecisionTreeClassifier\r\n",
        "list1 = []\r\n",
        "for leaves in range(2,10):\r\n",
        "    classifier = DecisionTreeClassifier(max_leaf_nodes = leaves, random_state=0, criterion='entropy')\r\n",
        "    classifier.fit(x_train, y_train)\r\n",
        "    y_pred = classifier.predict(x_test)\r\n",
        "    list1.append(accuracy_score(y_test,y_pred)*100)\r\n",
        "print(\"Decision Tree Classifier Top 5 Success Rates:\")\r\n",
        "print([round(i, 2) for i in sorted(list1, reverse=True)[:5]])\r\n",
        "decisionTreeClassifier=max(list1)\r\n",
        "plot_confusion_matrix(classifier, x_test, y_test)\r\n",
        "plt.show()"
      ],
      "execution_count": null,
      "outputs": []
    },
    {
      "cell_type": "markdown",
      "metadata": {
        "id": "gr4n7q0GDpGP"
      },
      "source": [
        "## Final Results:"
      ]
    },
    {
      "cell_type": "code",
      "metadata": {
        "id": "ABoKRCkfDxJ9"
      },
      "source": [
        "print(\"Deep Neural Network : \",\"{:.2f}%\".format(100*deepNeuralNetwork))\r\n",
        "print(\"Linear Regression : \",\"{:.2f}%\".format(linearRegression*100))\r\n",
        "print(\"Gradient Booster Classifier :\", \"{:.2f}%\".format(100*gradientBossterClassifier))\r\n",
        "print(\"Random Forest Classifier : \",\"{:.2f}%\".format(randomForestClassifier*100))\r\n",
        "print(\"Support Vector Machine : \",\"{:.2f}%\".format(supportVectorMachine*100))\r\n",
        "print(\"K Nearest Neighbours : \",\"{:.2f}%\".format(kNearestNeighbours))\r\n",
        "print(\"Decision Tree Classifier : \",\"{:.2f}%\".format(decisionTreeClassifier))"
      ],
      "execution_count": null,
      "outputs": []
    },
    {
      "cell_type": "code",
      "metadata": {
        "id": "OYLW9C2ZLZ8C"
      },
      "source": [
        "print(\"Deep Neural Network : \",\"{:.2f}%\".format(100*deepNeuralNetwork))\r\n",
        "print(\"Linear Regression : \",\"{:.2f}%\".format(linearRegression*100))\r\n",
        "print(\"Gradient Booster Classifier :\", \"{:.2f}%\".format(100*gradientBossterClassifier))\r\n",
        "print(\"Random Forest Classifier : \",\"{:.2f}%\".format(randomForestClassifier*100))\r\n",
        "print(\"Support Vector Machine : \",\"{:.2f}%\".format(supportVectorMachine*100))\r\n",
        "print(\"K Nearest Neighbours : \",\"{:.2f}%\".format(kNearestNeighbours))\r\n",
        "print(\"Decision Tree Classifier : \",\"{:.2f}%\".format(decisionTreeClassifier))"
      ],
      "execution_count": null,
      "outputs": []
    }
  ]
}