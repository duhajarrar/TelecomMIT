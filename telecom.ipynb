{
  "nbformat": 4,
  "nbformat_minor": 0,
  "metadata": {
    "colab": {
      "name": "telecom.ipynb",
      "provenance": [],
      "collapsed_sections": [],
      "include_colab_link": true
    },
    "kernelspec": {
      "name": "python3",
      "display_name": "Python 3"
    }
  },
  "cells": [
    {
      "cell_type": "markdown",
      "metadata": {
        "id": "view-in-github",
        "colab_type": "text"
      },
      "source": [
        "<a href=\"https://colab.research.google.com/github/duhajarrar/TelecomMIT/blob/main/telecom.ipynb\" target=\"_parent\"><img src=\"https://colab.research.google.com/assets/colab-badge.svg\" alt=\"Open In Colab\"/></a>"
      ]
    },
    {
      "cell_type": "code",
      "metadata": {
        "id": "8zUejHvJdXE_"
      },
      "source": [
        "###nibaaalll\r\n",
        "#hamza\r\n",
        "#raha\r\n",
        "import pandas as pd\r\n",
        "import numpy as np\r\n",
        "trainingData = pd.read_csv(\"drive/MyDrive/Telecom.csv\")\r\n"
      ],
      "execution_count": 1,
      "outputs": []
    },
    {
      "cell_type": "code",
      "metadata": {
        "colab": {
          "base_uri": "https://localhost:8080/"
        },
        "id": "QXR7pKzxd6VG",
        "outputId": "92bb1a78-7316-4038-e90b-1e4f0fbe4451"
      },
      "source": [
        "trainingData.info()"
      ],
      "execution_count": 2,
      "outputs": [
        {
          "output_type": "stream",
          "text": [
            "<class 'pandas.core.frame.DataFrame'>\n",
            "RangeIndex: 3333 entries, 0 to 3332\n",
            "Data columns (total 21 columns):\n",
            " #   Column                  Non-Null Count  Dtype  \n",
            "---  ------                  --------------  -----  \n",
            " 0   state                   3333 non-null   object \n",
            " 1   account length          3333 non-null   int64  \n",
            " 2   area code               3333 non-null   int64  \n",
            " 3   phone number            3333 non-null   object \n",
            " 4   international plan      3333 non-null   object \n",
            " 5   voice mail plan         3333 non-null   object \n",
            " 6   number vmail messages   3333 non-null   int64  \n",
            " 7   total day minutes       3333 non-null   float64\n",
            " 8   total day calls         3333 non-null   int64  \n",
            " 9   total day charge        3333 non-null   float64\n",
            " 10  total eve minutes       3333 non-null   float64\n",
            " 11  total eve calls         3333 non-null   int64  \n",
            " 12  total eve charge        3333 non-null   float64\n",
            " 13  total night minutes     3333 non-null   float64\n",
            " 14  total night calls       3333 non-null   int64  \n",
            " 15  total night charge      3333 non-null   float64\n",
            " 16  total intl minutes      3333 non-null   float64\n",
            " 17  total intl calls        3333 non-null   int64  \n",
            " 18  total intl charge       3333 non-null   float64\n",
            " 19  customer service calls  3333 non-null   int64  \n",
            " 20  churn                   3333 non-null   bool   \n",
            "dtypes: bool(1), float64(8), int64(8), object(4)\n",
            "memory usage: 524.2+ KB\n"
          ],
          "name": "stdout"
        }
      ]
    },
    {
      "cell_type": "code",
      "metadata": {
        "id": "-MGK7gzo1URb"
      },
      "source": [
        "trainingData.head(10)"
      ],
      "execution_count": null,
      "outputs": []
    },
    {
      "cell_type": "code",
      "metadata": {
        "id": "gOkGJhKl2F-Q"
      },
      "source": [
        "trainingData['state'].value_counts()\r\n",
        "s = set(trainingData['state'].tolist())\r\n",
        "states = list(s)\r\n",
        "print(states)"
      ],
      "execution_count": null,
      "outputs": []
    },
    {
      "cell_type": "code",
      "metadata": {
        "id": "pTy9RCra8naN"
      },
      "source": [
        "for i in states:\r\n",
        "  for k in range(len(states)):\r\n",
        "    trainingData.loc[trainingData['state']==i, 'state'] = int(states.index(i))"
      ],
      "execution_count": 5,
      "outputs": []
    },
    {
      "cell_type": "code",
      "metadata": {
        "id": "9J_xtmwa27PU"
      },
      "source": [
        "trainingData.loc[trainingData['international plan']=='no', 'international plan'] = 0\r\n",
        "trainingData.loc[trainingData['international plan']=='yes', 'international plan'] = 1\r\n",
        "trainingData[['international plan']] = trainingData[['international plan']].apply(pd.to_numeric)"
      ],
      "execution_count": 8,
      "outputs": []
    },
    {
      "cell_type": "code",
      "metadata": {
        "id": "_12QKm926WG8"
      },
      "source": [
        "trainingData.loc[trainingData['voice mail plan']=='no', 'voice mail plan'] = 0\r\n",
        "trainingData.loc[trainingData['voice mail plan']=='yes', 'voice mail plan'] = 1\r\n",
        "trainingData[['voice mail plan']] = trainingData[['voice mail plan']].apply(pd.to_numeric)"
      ],
      "execution_count": 9,
      "outputs": []
    },
    {
      "cell_type": "code",
      "metadata": {
        "id": "TqUPN3Yh4YoR"
      },
      "source": [
        "trainingData.loc[trainingData['churn']==False, 'churn'] = 0\r\n",
        "trainingData.loc[trainingData['churn']==True, 'churn'] = 1\r\n",
        "trainingData[['churn']] = trainingData[['churn']].apply(pd.to_numeric)"
      ],
      "execution_count": 10,
      "outputs": []
    },
    {
      "cell_type": "code",
      "metadata": {
        "id": "AKPtM08D4wY7"
      },
      "source": [
        "trainingData['phone number'] = trainingData['phone number'].str.replace(r'-','')\r\n",
        "trainingData[['phone number']] = trainingData[['phone number']].apply(pd.to_numeric)"
      ],
      "execution_count": 6,
      "outputs": []
    }
  ]
}