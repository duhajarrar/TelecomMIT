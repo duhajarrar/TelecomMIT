{
  "nbformat": 4,
  "nbformat_minor": 0,
  "metadata": {
    "colab": {
      "name": "DriveDraft1.ipynb",
      "provenance": [],
      "collapsed_sections": [],
      "toc_visible": true,
      "include_colab_link": true
    },
    "kernelspec": {
      "name": "python3",
      "display_name": "Python 3"
    }
  },
  "cells": [
    {
      "cell_type": "markdown",
      "metadata": {
        "id": "view-in-github",
        "colab_type": "text"
      },
      "source": [
        "<a href=\"https://colab.research.google.com/github/duhajarrar/TelecomMIT/blob/main/Draft3.ipynb\" target=\"_parent\"><img src=\"https://colab.research.google.com/assets/colab-badge.svg\" alt=\"Open In Colab\"/></a>"
      ]
    },
    {
      "cell_type": "code",
      "metadata": {
        "colab": {
          "base_uri": "https://localhost:8080/"
        },
        "id": "20QPchFu610u",
        "outputId": "e4a6ee9a-5cf4-4a7c-f7e4-f550055d2167"
      },
      "source": [
        "#duha\n",
        "from google.colab import drive\n",
        "drive.mount('/content/drive')"
      ],
      "execution_count": 3,
      "outputs": [
        {
          "output_type": "stream",
          "text": [
            "Drive already mounted at /content/drive; to attempt to forcibly remount, call drive.mount(\"/content/drive\", force_remount=True).\n"
          ],
          "name": "stdout"
        }
      ]
    },
    {
      "cell_type": "code",
      "metadata": {
        "id": "8zUejHvJdXE_"
      },
      "source": [
        "import pandas as pd\r\n",
        "import numpy as np\r\n",
        "from sklearn.feature_selection import SelectKBest\r\n",
        "from sklearn.feature_selection import chi2\r\n",
        "import seaborn as sns\r\n",
        "from sklearn import preprocessing\r\n",
        "from sklearn.ensemble import ExtraTreesClassifier\r\n",
        "import matplotlib.pyplot as plt\r\n",
        "from matplotlib.pyplot import hist\r\n",
        "import plotly.express as px\r\n",
        "import tensorflow as tf\r\n",
        "from imblearn.over_sampling import SMOTE\r\n",
        "import sklearn\r\n",
        "from sklearn.model_selection import train_test_split\r\n",
        "from sklearn.linear_model import LogisticRegression\r\n",
        "from sklearn.metrics import accuracy_score, plot_confusion_matrix\r\n",
        "from sklearn.model_selection import train_test_split\r\n",
        "import matplotlib.pyplot as plt\r\n",
        "from sklearn.naive_bayes import GaussianNB\r\n",
        "from sklearn.tree import DecisionTreeClassifier\r\n",
        "from sklearn.tree import DecisionTreeClassifier\r\n",
        "from sklearn.neighbors import KNeighborsClassifier\r\n",
        "from sklearn.model_selection import cross_val_score\r\n",
        "from sklearn.neighbors import KNeighborsClassifier\r\n",
        "from sklearn.svm import SVC\r\n",
        "from sklearn.ensemble import RandomForestClassifier\r\n",
        "from sklearn.metrics import accuracy_score\r\n",
        "from sklearn.metrics import precision_score\r\n",
        "from sklearn.metrics import f1_score\r\n",
        "from sklearn.metrics import recall_score\r\n",
        "from sklearn.model_selection import cross_val_score\r\n",
        "from sklearn.model_selection import StratifiedKFold\r\n",
        "from sklearn.ensemble import GradientBoostingClassifier\r\n",
        "from sklearn.model_selection import GridSearchCV"
      ],
      "execution_count": 5,
      "outputs": []
    },
    {
      "cell_type": "markdown",
      "metadata": {
        "id": "vC7vVghPBS1V"
      },
      "source": [
        "# Read Data"
      ]
    },
    {
      "cell_type": "code",
      "metadata": {
        "id": "QXR7pKzxd6VG",
        "colab": {
          "base_uri": "https://localhost:8080/"
        },
        "outputId": "409a3be9-885c-4eff-d163-02d1de00de52"
      },
      "source": [
        "trainingData = pd.read_csv(\"drive/MyDrive/telecom.csv\")\r\n",
        "trainingData.info()"
      ],
      "execution_count": 40,
      "outputs": [
        {
          "output_type": "stream",
          "text": [
            "<class 'pandas.core.frame.DataFrame'>\n",
            "RangeIndex: 3333 entries, 0 to 3332\n",
            "Data columns (total 21 columns):\n",
            " #   Column                  Non-Null Count  Dtype  \n",
            "---  ------                  --------------  -----  \n",
            " 0   state                   3333 non-null   object \n",
            " 1   account length          3333 non-null   int64  \n",
            " 2   area code               3333 non-null   int64  \n",
            " 3   phone number            3333 non-null   object \n",
            " 4   international plan      3333 non-null   object \n",
            " 5   voice mail plan         3333 non-null   object \n",
            " 6   number vmail messages   3333 non-null   int64  \n",
            " 7   total day minutes       3333 non-null   float64\n",
            " 8   total day calls         3333 non-null   int64  \n",
            " 9   total day charge        3333 non-null   float64\n",
            " 10  total eve minutes       3333 non-null   float64\n",
            " 11  total eve calls         3333 non-null   int64  \n",
            " 12  total eve charge        3333 non-null   float64\n",
            " 13  total night minutes     3333 non-null   float64\n",
            " 14  total night calls       3333 non-null   int64  \n",
            " 15  total night charge      3333 non-null   float64\n",
            " 16  total intl minutes      3333 non-null   float64\n",
            " 17  total intl calls        3333 non-null   int64  \n",
            " 18  total intl charge       3333 non-null   float64\n",
            " 19  customer service calls  3333 non-null   int64  \n",
            " 20  churn                   3333 non-null   bool   \n",
            "dtypes: bool(1), float64(8), int64(8), object(4)\n",
            "memory usage: 524.2+ KB\n"
          ],
          "name": "stdout"
        }
      ]
    },
    {
      "cell_type": "code",
      "metadata": {
        "id": "-MGK7gzo1URb",
        "colab": {
          "base_uri": "https://localhost:8080/",
          "height": 333
        },
        "outputId": "1faad103-dd8a-4e87-97f0-78e6e81a833f"
      },
      "source": [
        "trainingData.head()"
      ],
      "execution_count": null,
      "outputs": [
        {
          "output_type": "execute_result",
          "data": {
            "text/html": [
              "<div>\n",
              "<style scoped>\n",
              "    .dataframe tbody tr th:only-of-type {\n",
              "        vertical-align: middle;\n",
              "    }\n",
              "\n",
              "    .dataframe tbody tr th {\n",
              "        vertical-align: top;\n",
              "    }\n",
              "\n",
              "    .dataframe thead th {\n",
              "        text-align: right;\n",
              "    }\n",
              "</style>\n",
              "<table border=\"1\" class=\"dataframe\">\n",
              "  <thead>\n",
              "    <tr style=\"text-align: right;\">\n",
              "      <th></th>\n",
              "      <th>state</th>\n",
              "      <th>account length</th>\n",
              "      <th>area code</th>\n",
              "      <th>phone number</th>\n",
              "      <th>international plan</th>\n",
              "      <th>voice mail plan</th>\n",
              "      <th>number vmail messages</th>\n",
              "      <th>total day minutes</th>\n",
              "      <th>total day calls</th>\n",
              "      <th>total day charge</th>\n",
              "      <th>total eve minutes</th>\n",
              "      <th>total eve calls</th>\n",
              "      <th>total eve charge</th>\n",
              "      <th>total night minutes</th>\n",
              "      <th>total night calls</th>\n",
              "      <th>total night charge</th>\n",
              "      <th>total intl minutes</th>\n",
              "      <th>total intl calls</th>\n",
              "      <th>total intl charge</th>\n",
              "      <th>customer service calls</th>\n",
              "      <th>churn</th>\n",
              "    </tr>\n",
              "  </thead>\n",
              "  <tbody>\n",
              "    <tr>\n",
              "      <th>0</th>\n",
              "      <td>KS</td>\n",
              "      <td>128</td>\n",
              "      <td>415</td>\n",
              "      <td>382-4657</td>\n",
              "      <td>no</td>\n",
              "      <td>yes</td>\n",
              "      <td>25</td>\n",
              "      <td>265.1</td>\n",
              "      <td>110</td>\n",
              "      <td>45.07</td>\n",
              "      <td>197.4</td>\n",
              "      <td>99</td>\n",
              "      <td>16.78</td>\n",
              "      <td>244.7</td>\n",
              "      <td>91</td>\n",
              "      <td>11.01</td>\n",
              "      <td>10.0</td>\n",
              "      <td>3</td>\n",
              "      <td>2.70</td>\n",
              "      <td>1</td>\n",
              "      <td>False</td>\n",
              "    </tr>\n",
              "    <tr>\n",
              "      <th>1</th>\n",
              "      <td>OH</td>\n",
              "      <td>107</td>\n",
              "      <td>415</td>\n",
              "      <td>371-7191</td>\n",
              "      <td>no</td>\n",
              "      <td>yes</td>\n",
              "      <td>26</td>\n",
              "      <td>161.6</td>\n",
              "      <td>123</td>\n",
              "      <td>27.47</td>\n",
              "      <td>195.5</td>\n",
              "      <td>103</td>\n",
              "      <td>16.62</td>\n",
              "      <td>254.4</td>\n",
              "      <td>103</td>\n",
              "      <td>11.45</td>\n",
              "      <td>13.7</td>\n",
              "      <td>3</td>\n",
              "      <td>3.70</td>\n",
              "      <td>1</td>\n",
              "      <td>False</td>\n",
              "    </tr>\n",
              "    <tr>\n",
              "      <th>2</th>\n",
              "      <td>NJ</td>\n",
              "      <td>137</td>\n",
              "      <td>415</td>\n",
              "      <td>358-1921</td>\n",
              "      <td>no</td>\n",
              "      <td>no</td>\n",
              "      <td>0</td>\n",
              "      <td>243.4</td>\n",
              "      <td>114</td>\n",
              "      <td>41.38</td>\n",
              "      <td>121.2</td>\n",
              "      <td>110</td>\n",
              "      <td>10.30</td>\n",
              "      <td>162.6</td>\n",
              "      <td>104</td>\n",
              "      <td>7.32</td>\n",
              "      <td>12.2</td>\n",
              "      <td>5</td>\n",
              "      <td>3.29</td>\n",
              "      <td>0</td>\n",
              "      <td>False</td>\n",
              "    </tr>\n",
              "    <tr>\n",
              "      <th>3</th>\n",
              "      <td>OH</td>\n",
              "      <td>84</td>\n",
              "      <td>408</td>\n",
              "      <td>375-9999</td>\n",
              "      <td>yes</td>\n",
              "      <td>no</td>\n",
              "      <td>0</td>\n",
              "      <td>299.4</td>\n",
              "      <td>71</td>\n",
              "      <td>50.90</td>\n",
              "      <td>61.9</td>\n",
              "      <td>88</td>\n",
              "      <td>5.26</td>\n",
              "      <td>196.9</td>\n",
              "      <td>89</td>\n",
              "      <td>8.86</td>\n",
              "      <td>6.6</td>\n",
              "      <td>7</td>\n",
              "      <td>1.78</td>\n",
              "      <td>2</td>\n",
              "      <td>False</td>\n",
              "    </tr>\n",
              "    <tr>\n",
              "      <th>4</th>\n",
              "      <td>OK</td>\n",
              "      <td>75</td>\n",
              "      <td>415</td>\n",
              "      <td>330-6626</td>\n",
              "      <td>yes</td>\n",
              "      <td>no</td>\n",
              "      <td>0</td>\n",
              "      <td>166.7</td>\n",
              "      <td>113</td>\n",
              "      <td>28.34</td>\n",
              "      <td>148.3</td>\n",
              "      <td>122</td>\n",
              "      <td>12.61</td>\n",
              "      <td>186.9</td>\n",
              "      <td>121</td>\n",
              "      <td>8.41</td>\n",
              "      <td>10.1</td>\n",
              "      <td>3</td>\n",
              "      <td>2.73</td>\n",
              "      <td>3</td>\n",
              "      <td>False</td>\n",
              "    </tr>\n",
              "  </tbody>\n",
              "</table>\n",
              "</div>"
            ],
            "text/plain": [
              "  state  account length  ...  customer service calls  churn\n",
              "0    KS             128  ...                       1  False\n",
              "1    OH             107  ...                       1  False\n",
              "2    NJ             137  ...                       0  False\n",
              "3    OH              84  ...                       2  False\n",
              "4    OK              75  ...                       3  False\n",
              "\n",
              "[5 rows x 21 columns]"
            ]
          },
          "metadata": {
            "tags": []
          },
          "execution_count": 5
        }
      ]
    },
    {
      "cell_type": "markdown",
      "metadata": {
        "id": "nFLhTxGZN7AJ"
      },
      "source": [
        "# Label Encoding"
      ]
    },
    {
      "cell_type": "code",
      "metadata": {
        "id": "bhYRUPiBEBVH"
      },
      "source": [
        "\r\n",
        "label_encoder = preprocessing.LabelEncoder()\r\n",
        "trainingData['state'] = label_encoder.fit_transform(trainingData['state'])\r\n",
        "trainingData['international plan'] = label_encoder.fit_transform(trainingData['international plan'])\r\n",
        "trainingData['voice mail plan'] = label_encoder.fit_transform(trainingData['voice mail plan'])\r\n",
        "trainingData['churn'] = label_encoder.fit_transform(trainingData['churn'])\r\n",
        "trainingData['phone number'] = label_encoder.fit_transform(trainingData['phone number'])\r\n"
      ],
      "execution_count": 41,
      "outputs": []
    },
    {
      "cell_type": "markdown",
      "metadata": {
        "id": "AxJKB9kuOBMP"
      },
      "source": [
        "# Rename Columns"
      ]
    },
    {
      "cell_type": "code",
      "metadata": {
        "id": "tdGVXd7_glJH"
      },
      "source": [
        "for i in range(len(trainingData.columns)):\r\n",
        "  trainingData.rename(columns={trainingData.columns[i]: trainingData.columns[i].replace(r' ','_')}, inplace=True)\r\n"
      ],
      "execution_count": 42,
      "outputs": []
    },
    {
      "cell_type": "markdown",
      "metadata": {
        "id": "RHA7QtmWPMli"
      },
      "source": [
        "# Find the percent of churn customer to non-churn customer"
      ]
    },
    {
      "cell_type": "code",
      "metadata": {
        "colab": {
          "base_uri": "https://localhost:8080/",
          "height": 390
        },
        "id": "tE294kPANSRP",
        "outputId": "8ab9aee5-d226-41a6-c2f5-5b6a7804bc4b"
      },
      "source": [
        "y = trainingData['churn'].value_counts()\r\n",
        "sns.barplot(y.index, y.values)\r\n",
        "y_True = trainingData[\"churn\"][trainingData[\"churn\"] == True]\r\n",
        "print(y_True.shape[0])\r\n",
        "print (\"Churn Percentage = \"+str( (y_True.shape[0] / trainingData[\"churn\"].shape[0]) * 100 ))"
      ],
      "execution_count": null,
      "outputs": [
        {
          "output_type": "stream",
          "text": [
            "483\n",
            "Churn Percentage = 14.491449144914492\n"
          ],
          "name": "stdout"
        },
        {
          "output_type": "stream",
          "text": [
            "/usr/local/lib/python3.6/dist-packages/seaborn/_decorators.py:43: FutureWarning:\n",
            "\n",
            "Pass the following variables as keyword args: x, y. From version 0.12, the only valid positional argument will be `data`, and passing other arguments without an explicit keyword will result in an error or misinterpretation.\n",
            "\n"
          ],
          "name": "stderr"
        },
        {
          "output_type": "display_data",
          "data": {
            "image/png": "[encoded data removed]",
            "text/plain": [
              "<Figure size 432x288 with 1 Axes>"
            ]
          },
          "metadata": {
            "tags": [],
            "needs_background": "light"
          }
        }
      ]
    },
    {
      "cell_type": "code",
      "metadata": {
        "colab": {
          "base_uri": "https://localhost:8080/",
          "height": 304
        },
        "id": "UBEG1SE1OA0t",
        "outputId": "7beedde4-f28f-4187-bb96-564c79e76389"
      },
      "source": [
        "trainingData.describe()"
      ],
      "execution_count": null,
      "outputs": [
        {
          "output_type": "execute_result",
          "data": {
            "text/html": [
              "<div>\n",
              "<style scoped>\n",
              "    .dataframe tbody tr th:only-of-type {\n",
              "        vertical-align: middle;\n",
              "    }\n",
              "\n",
              "    .dataframe tbody tr th {\n",
              "        vertical-align: top;\n",
              "    }\n",
              "\n",
              "    .dataframe thead th {\n",
              "        text-align: right;\n",
              "    }\n",
              "</style>\n",
              "<table border=\"1\" class=\"dataframe\">\n",
              "  <thead>\n",
              "    <tr style=\"text-align: right;\">\n",
              "      <th></th>\n",
              "      <th>state</th>\n",
              "      <th>account_length</th>\n",
              "      <th>area_code</th>\n",
              "      <th>phone_number</th>\n",
              "      <th>international_plan</th>\n",
              "      <th>voice_mail_plan</th>\n",
              "      <th>number_vmail_messages</th>\n",
              "      <th>total_day_minutes</th>\n",
              "      <th>total_day_calls</th>\n",
              "      <th>total_day_charge</th>\n",
              "      <th>total_eve_minutes</th>\n",
              "      <th>total_eve_calls</th>\n",
              "      <th>total_eve_charge</th>\n",
              "      <th>total_night_minutes</th>\n",
              "      <th>total_night_calls</th>\n",
              "      <th>total_night_charge</th>\n",
              "      <th>total_intl_minutes</th>\n",
              "      <th>total_intl_calls</th>\n",
              "      <th>total_intl_charge</th>\n",
              "      <th>customer_service_calls</th>\n",
              "      <th>churn</th>\n",
              "    </tr>\n",
              "  </thead>\n",
              "  <tbody>\n",
              "    <tr>\n",
              "      <th>count</th>\n",
              "      <td>3333.000000</td>\n",
              "      <td>3333.000000</td>\n",
              "      <td>3333.000000</td>\n",
              "      <td>3333.00000</td>\n",
              "      <td>3333.000000</td>\n",
              "      <td>3333.000000</td>\n",
              "      <td>3333.000000</td>\n",
              "      <td>3333.000000</td>\n",
              "      <td>3333.000000</td>\n",
              "      <td>3333.000000</td>\n",
              "      <td>3333.000000</td>\n",
              "      <td>3333.000000</td>\n",
              "      <td>3333.000000</td>\n",
              "      <td>3333.000000</td>\n",
              "      <td>3333.000000</td>\n",
              "      <td>3333.000000</td>\n",
              "      <td>3333.000000</td>\n",
              "      <td>3333.000000</td>\n",
              "      <td>3333.000000</td>\n",
              "      <td>3333.000000</td>\n",
              "      <td>3333.000000</td>\n",
              "    </tr>\n",
              "    <tr>\n",
              "      <th>mean</th>\n",
              "      <td>26.059406</td>\n",
              "      <td>101.064806</td>\n",
              "      <td>437.182418</td>\n",
              "      <td>1666.00000</td>\n",
              "      <td>0.096910</td>\n",
              "      <td>0.276628</td>\n",
              "      <td>8.099010</td>\n",
              "      <td>179.775098</td>\n",
              "      <td>100.435644</td>\n",
              "      <td>30.562307</td>\n",
              "      <td>200.980348</td>\n",
              "      <td>100.114311</td>\n",
              "      <td>17.083540</td>\n",
              "      <td>200.872037</td>\n",
              "      <td>100.107711</td>\n",
              "      <td>9.039325</td>\n",
              "      <td>10.237294</td>\n",
              "      <td>4.479448</td>\n",
              "      <td>2.764581</td>\n",
              "      <td>1.562856</td>\n",
              "      <td>0.144914</td>\n",
              "    </tr>\n",
              "    <tr>\n",
              "      <th>std</th>\n",
              "      <td>14.824911</td>\n",
              "      <td>39.822106</td>\n",
              "      <td>42.371290</td>\n",
              "      <td>962.29855</td>\n",
              "      <td>0.295879</td>\n",
              "      <td>0.447398</td>\n",
              "      <td>13.688365</td>\n",
              "      <td>54.467389</td>\n",
              "      <td>20.069084</td>\n",
              "      <td>9.259435</td>\n",
              "      <td>50.713844</td>\n",
              "      <td>19.922625</td>\n",
              "      <td>4.310668</td>\n",
              "      <td>50.573847</td>\n",
              "      <td>19.568609</td>\n",
              "      <td>2.275873</td>\n",
              "      <td>2.791840</td>\n",
              "      <td>2.461214</td>\n",
              "      <td>0.753773</td>\n",
              "      <td>1.315491</td>\n",
              "      <td>0.352067</td>\n",
              "    </tr>\n",
              "    <tr>\n",
              "      <th>min</th>\n",
              "      <td>0.000000</td>\n",
              "      <td>1.000000</td>\n",
              "      <td>408.000000</td>\n",
              "      <td>0.00000</td>\n",
              "      <td>0.000000</td>\n",
              "      <td>0.000000</td>\n",
              "      <td>0.000000</td>\n",
              "      <td>0.000000</td>\n",
              "      <td>0.000000</td>\n",
              "      <td>0.000000</td>\n",
              "      <td>0.000000</td>\n",
              "      <td>0.000000</td>\n",
              "      <td>0.000000</td>\n",
              "      <td>23.200000</td>\n",
              "      <td>33.000000</td>\n",
              "      <td>1.040000</td>\n",
              "      <td>0.000000</td>\n",
              "      <td>0.000000</td>\n",
              "      <td>0.000000</td>\n",
              "      <td>0.000000</td>\n",
              "      <td>0.000000</td>\n",
              "    </tr>\n",
              "    <tr>\n",
              "      <th>25%</th>\n",
              "      <td>14.000000</td>\n",
              "      <td>74.000000</td>\n",
              "      <td>408.000000</td>\n",
              "      <td>833.00000</td>\n",
              "      <td>0.000000</td>\n",
              "      <td>0.000000</td>\n",
              "      <td>0.000000</td>\n",
              "      <td>143.700000</td>\n",
              "      <td>87.000000</td>\n",
              "      <td>24.430000</td>\n",
              "      <td>166.600000</td>\n",
              "      <td>87.000000</td>\n",
              "      <td>14.160000</td>\n",
              "      <td>167.000000</td>\n",
              "      <td>87.000000</td>\n",
              "      <td>7.520000</td>\n",
              "      <td>8.500000</td>\n",
              "      <td>3.000000</td>\n",
              "      <td>2.300000</td>\n",
              "      <td>1.000000</td>\n",
              "      <td>0.000000</td>\n",
              "    </tr>\n",
              "    <tr>\n",
              "      <th>50%</th>\n",
              "      <td>26.000000</td>\n",
              "      <td>101.000000</td>\n",
              "      <td>415.000000</td>\n",
              "      <td>1666.00000</td>\n",
              "      <td>0.000000</td>\n",
              "      <td>0.000000</td>\n",
              "      <td>0.000000</td>\n",
              "      <td>179.400000</td>\n",
              "      <td>101.000000</td>\n",
              "      <td>30.500000</td>\n",
              "      <td>201.400000</td>\n",
              "      <td>100.000000</td>\n",
              "      <td>17.120000</td>\n",
              "      <td>201.200000</td>\n",
              "      <td>100.000000</td>\n",
              "      <td>9.050000</td>\n",
              "      <td>10.300000</td>\n",
              "      <td>4.000000</td>\n",
              "      <td>2.780000</td>\n",
              "      <td>1.000000</td>\n",
              "      <td>0.000000</td>\n",
              "    </tr>\n",
              "    <tr>\n",
              "      <th>75%</th>\n",
              "      <td>39.000000</td>\n",
              "      <td>127.000000</td>\n",
              "      <td>510.000000</td>\n",
              "      <td>2499.00000</td>\n",
              "      <td>0.000000</td>\n",
              "      <td>1.000000</td>\n",
              "      <td>20.000000</td>\n",
              "      <td>216.400000</td>\n",
              "      <td>114.000000</td>\n",
              "      <td>36.790000</td>\n",
              "      <td>235.300000</td>\n",
              "      <td>114.000000</td>\n",
              "      <td>20.000000</td>\n",
              "      <td>235.300000</td>\n",
              "      <td>113.000000</td>\n",
              "      <td>10.590000</td>\n",
              "      <td>12.100000</td>\n",
              "      <td>6.000000</td>\n",
              "      <td>3.270000</td>\n",
              "      <td>2.000000</td>\n",
              "      <td>0.000000</td>\n",
              "    </tr>\n",
              "    <tr>\n",
              "      <th>max</th>\n",
              "      <td>50.000000</td>\n",
              "      <td>243.000000</td>\n",
              "      <td>510.000000</td>\n",
              "      <td>3332.00000</td>\n",
              "      <td>1.000000</td>\n",
              "      <td>1.000000</td>\n",
              "      <td>51.000000</td>\n",
              "      <td>350.800000</td>\n",
              "      <td>165.000000</td>\n",
              "      <td>59.640000</td>\n",
              "      <td>363.700000</td>\n",
              "      <td>170.000000</td>\n",
              "      <td>30.910000</td>\n",
              "      <td>395.000000</td>\n",
              "      <td>175.000000</td>\n",
              "      <td>17.770000</td>\n",
              "      <td>20.000000</td>\n",
              "      <td>20.000000</td>\n",
              "      <td>5.400000</td>\n",
              "      <td>9.000000</td>\n",
              "      <td>1.000000</td>\n",
              "    </tr>\n",
              "  </tbody>\n",
              "</table>\n",
              "</div>"
            ],
            "text/plain": [
              "             state  account_length  ...  customer_service_calls        churn\n",
              "count  3333.000000     3333.000000  ...             3333.000000  3333.000000\n",
              "mean     26.059406      101.064806  ...                1.562856     0.144914\n",
              "std      14.824911       39.822106  ...                1.315491     0.352067\n",
              "min       0.000000        1.000000  ...                0.000000     0.000000\n",
              "25%      14.000000       74.000000  ...                1.000000     0.000000\n",
              "50%      26.000000      101.000000  ...                1.000000     0.000000\n",
              "75%      39.000000      127.000000  ...                2.000000     0.000000\n",
              "max      50.000000      243.000000  ...                9.000000     1.000000\n",
              "\n",
              "[8 rows x 21 columns]"
            ]
          },
          "metadata": {
            "tags": []
          },
          "execution_count": 9
        }
      ]
    },
    {
      "cell_type": "code",
      "metadata": {
        "colab": {
          "base_uri": "https://localhost:8080/"
        },
        "id": "XpwoaOKXJk-D",
        "outputId": "1a9b4354-94af-4dd2-c494-82ef18567c61"
      },
      "source": [
        "col=trainingData.columns\r\n",
        "print(col)"
      ],
      "execution_count": null,
      "outputs": [
        {
          "output_type": "stream",
          "text": [
            "Index(['state', 'account_length', 'area_code', 'phone_number',\n",
            "       'international_plan', 'voice_mail_plan', 'number_vmail_messages',\n",
            "       'total_day_minutes', 'total_day_calls', 'total_day_charge',\n",
            "       'total_eve_minutes', 'total_eve_calls', 'total_eve_charge',\n",
            "       'total_night_minutes', 'total_night_calls', 'total_night_charge',\n",
            "       'total_intl_minutes', 'total_intl_calls', 'total_intl_charge',\n",
            "       'customer_service_calls', 'churn'],\n",
            "      dtype='object')\n"
          ],
          "name": "stdout"
        }
      ]
    },
    {
      "cell_type": "code",
      "metadata": {
        "id": "ATqHcZKSP8WB"
      },
      "source": [
        "churn=trainingData[trainingData['churn']==True]\r\n",
        "non_churn=trainingData[trainingData['churn']==False]"
      ],
      "execution_count": null,
      "outputs": []
    },
    {
      "cell_type": "code",
      "metadata": {
        "colab": {
          "base_uri": "https://localhost:8080/",
          "height": 318
        },
        "id": "j4Ep-Pt0JrJw",
        "outputId": "1da77e40-6831-49b1-c82a-133cdd5489b6"
      },
      "source": [
        "\r\n",
        "print(col[4])\r\n",
        "hist(trainingData[col[4]],weights=trainingData['churn'])\r\n",
        "international_plan_Ch=(churn['international_plan']).sum()/churn.shape[0]\r\n",
        "international_plan_NonCh=(non_churn['international_plan']).sum()/non_churn.shape[0]\r\n",
        "print(international_plan_Ch)\r\n",
        "print(international_plan_NonCh)"
      ],
      "execution_count": null,
      "outputs": [
        {
          "output_type": "stream",
          "text": [
            "international_plan\n",
            "0.2836438923395445\n",
            "0.06526315789473684\n"
          ],
          "name": "stdout"
        },
        {
          "output_type": "display_data",
          "data": {
            "image/png": "[encoded data removed]",
            "text/plain": [
              "<Figure size 432x288 with 1 Axes>"
            ]
          },
          "metadata": {
            "tags": [],
            "needs_background": "light"
          }
        }
      ]
    },
    {
      "cell_type": "code",
      "metadata": {
        "colab": {
          "base_uri": "https://localhost:8080/",
          "height": 318
        },
        "id": "n4TDFY2uOmKC",
        "outputId": "aef3a8c3-25dd-4e52-df5a-b4294af4f8de"
      },
      "source": [
        "\r\n",
        "print(col[2])\r\n",
        "hist(trainingData[col[2]],weights=trainingData['churn'])\r\n",
        "international_plan_Ch=(churn['area_code']).sum()/churn.shape[0]\r\n",
        "international_plan_NonCh=(non_churn['area_code']).sum()/non_churn.shape[0]\r\n",
        "print(international_plan_Ch)\r\n",
        "print(international_plan_NonCh)"
      ],
      "execution_count": null,
      "outputs": [
        {
          "output_type": "stream",
          "text": [
            "area_code\n",
            "437.8178053830228\n",
            "437.07473684210527\n"
          ],
          "name": "stdout"
        },
        {
          "output_type": "display_data",
          "data": {
            "image/png": "[encoded data removed]",
            "text/plain": [
              "<Figure size 432x288 with 1 Axes>"
            ]
          },
          "metadata": {
            "tags": [],
            "needs_background": "light"
          }
        }
      ]
    },
    {
      "cell_type": "markdown",
      "metadata": {
        "id": "bRtaSyXDRYvz"
      },
      "source": [
        "**NOTE:** here from above avg for churn and non-churn data we can say \"area_code\" not important"
      ]
    },
    {
      "cell_type": "code",
      "metadata": {
        "colab": {
          "base_uri": "https://localhost:8080/",
          "height": 318
        },
        "id": "5T9d2ik1L3B6",
        "outputId": "489009fa-0ca9-41fd-c690-f9fc859c4a97"
      },
      "source": [
        "\r\n",
        "print(col[7])\r\n",
        "hist(trainingData[col[7]],weights=trainingData['churn'])\r\n",
        "international_plan_Ch=(churn['total_day_minutes']).sum()/churn.shape[0]\r\n",
        "international_plan_NonCh=(non_churn['total_day_minutes']).sum()/non_churn.shape[0]\r\n",
        "print(international_plan_Ch)\r\n",
        "print(international_plan_NonCh)"
      ],
      "execution_count": null,
      "outputs": [
        {
          "output_type": "stream",
          "text": [
            "total_day_minutes\n",
            "206.91407867494823\n",
            "175.1757543859649\n"
          ],
          "name": "stdout"
        },
        {
          "output_type": "display_data",
          "data": {
            "image/png": "[encoded data removed]",
            "text/plain": [
              "<Figure size 432x288 with 1 Axes>"
            ]
          },
          "metadata": {
            "tags": [],
            "needs_background": "light"
          }
        }
      ]
    },
    {
      "cell_type": "code",
      "metadata": {
        "colab": {
          "base_uri": "https://localhost:8080/",
          "height": 318
        },
        "id": "TjAfnd6kMRZR",
        "outputId": "ec4907d3-54f2-41ec-da41-d4593d1ed1b5"
      },
      "source": [
        "\r\n",
        "print(col[9])\r\n",
        "hist(trainingData[col[9]],weights=trainingData['churn'])\r\n",
        "international_plan_Ch=(churn['total_day_charge']).sum()/churn.shape[0]\r\n",
        "international_plan_NonCh=(non_churn['total_day_charge']).sum()/non_churn.shape[0]\r\n",
        "print(international_plan_Ch)\r\n",
        "print(international_plan_NonCh)"
      ],
      "execution_count": null,
      "outputs": [
        {
          "output_type": "stream",
          "text": [
            "total_day_charge\n",
            "35.17592132505176\n",
            "29.780421052631578\n"
          ],
          "name": "stdout"
        },
        {
          "output_type": "display_data",
          "data": {
            "image/png": "[encoded data removed]",
            "text/plain": [
              "<Figure size 432x288 with 1 Axes>"
            ]
          },
          "metadata": {
            "tags": [],
            "needs_background": "light"
          }
        }
      ]
    },
    {
      "cell_type": "code",
      "metadata": {
        "colab": {
          "base_uri": "https://localhost:8080/",
          "height": 318
        },
        "id": "qZ0fm2XZMja-",
        "outputId": "ea813309-2c85-46d2-89bd-3a8f259c11e1"
      },
      "source": [
        "\r\n",
        "print(col[19])\r\n",
        "hist(trainingData[col[19]],weights=trainingData['churn'])\r\n",
        "international_plan_Ch=(churn['customer_service_calls']).sum()/churn.shape[0]\r\n",
        "international_plan_NonCh=(non_churn['customer_service_calls']).sum()/non_churn.shape[0]\r\n",
        "print(international_plan_Ch)\r\n",
        "print(international_plan_NonCh)"
      ],
      "execution_count": null,
      "outputs": [
        {
          "output_type": "stream",
          "text": [
            "customer_service_calls\n",
            "2.229813664596273\n",
            "1.4498245614035088\n"
          ],
          "name": "stdout"
        },
        {
          "output_type": "display_data",
          "data": {
            "image/png": "[encoded data removed]",
            "text/plain": [
              "<Figure size 432x288 with 1 Axes>"
            ]
          },
          "metadata": {
            "tags": [],
            "needs_background": "light"
          }
        }
      ]
    },
    {
      "cell_type": "markdown",
      "metadata": {
        "id": "aiLgTspI_RUl"
      },
      "source": [
        "#Churn percentage\r\n"
      ]
    },
    {
      "cell_type": "markdown",
      "metadata": {
        "id": "ll2ZG61FBODf"
      },
      "source": [
        ""
      ]
    },
    {
      "cell_type": "code",
      "metadata": {
        "colab": {
          "base_uri": "https://localhost:8080/",
          "height": 417
        },
        "id": "LO0_iTCm_qRH",
        "outputId": "67e94c5f-a0e8-4c5a-e7f4-f0b58fb8cde6"
      },
      "source": [
        "\r\n",
        "fig = px.pie(trainingData, names='churn', title='churn',width=400, height=400)\r\n",
        "fig.show()"
      ],
      "execution_count": null,
      "outputs": [
        {
          "output_type": "display_data",
          "data": {
            "text/html": [
              "<html>\n",
              "<head><meta charset=\"utf-8\" /></head>\n",
              "<body>\n",
              "    <div>\n",
              "            <script src=\"https://cdnjs.cloudflare.com/ajax/libs/mathjax/2.7.5/MathJax.js?config=TeX-AMS-MML_SVG\"></script><script type=\"text/javascript\">if (window.MathJax) {MathJax.Hub.Config({SVG: {font: \"STIX-Web\"}});}</script>\n",
              "                <script type=\"text/javascript\">window.PlotlyConfig = {MathJaxConfig: 'local'};</script>\n",
              "        <script src=\"https://cdn.plot.ly/plotly-latest.min.js\"></script>    \n",
              "            <div id=\"7b0b7215-3ae7-4f27-8737-51ff89f97c6f\" class=\"plotly-graph-div\" style=\"height:400px; width:400px;\"></div>\n",
              "            <script type=\"text/javascript\">\n",
              "                \n",
              "                    window.PLOTLYENV=window.PLOTLYENV || {};\n",
              "                    \n",
              "                if (document.getElementById(\"7b0b7215-3ae7-4f27-8737-51ff89f97c6f\")) {\n",
              "                    Plotly.newPlot(\n",
              "                        '7b0b7215-3ae7-4f27-8737-51ff89f97c6f',\n",
              "                        [{\"domain\": {\"x\": [0.0, 1.0], \"y\": [0.0, 1.0]}, \"hoverlabel\": {\"namelength\": 0}, \"hovertemplate\": \"churn=%{label}\", \"labels\": [0, 0, 0, 0, 0, 0, 0, 0, 0, 0, 1, 0, 0, 0, 0, 1, 0, 0, 0, 0, 0, 1, 0, 0, 0, 0, 0, 0, 0, 0, 0, 0, 0, 1, 0, 0, 0, 0, 0, 0, 0, 1, 0, 0, 0, 0, 0, 0, 1, 0, 0, 0, 0, 0, 1, 0, 0, 1, 0, 0, 0, 0, 0, 0, 0, 0, 0, 0, 0, 1, 0, 0, 0, 0, 0, 0, 1, 1, 0, 0, 0, 0, 0, 0, 1, 0, 1, 0, 0, 1, 0, 1, 0, 0, 0, 0, 0, 0, 1, 1, 0, 0, 0, 0, 0, 0, 0, 0, 0, 0, 0, 0, 0, 0, 0, 1, 0, 1, 0, 0, 0, 0, 0, 0, 0, 0, 1, 1, 0, 0, 0, 0, 0, 0, 0, 0, 0, 0, 0, 0, 0, 0, 0, 0, 1, 0, 0, 0, 0, 0, 0, 0, 0, 0, 0, 0, 1, 0, 0, 0, 0, 0, 0, 0, 0, 0, 0, 0, 0, 0, 0, 0, 0, 0, 0, 0, 0, 0, 0, 0, 0, 1, 0, 0, 0, 0, 0, 0, 0, 0, 0, 0, 0, 0, 0, 0, 0, 1, 1, 0, 0, 0, 0, 0, 0, 0, 0, 0, 0, 0, 0, 0, 0, 0, 1, 0, 0, 0, 1, 0, 0, 0, 0, 0, 0, 0, 0, 0, 0, 0, 1, 0, 0, 0, 0, 1, 0, 0, 0, 0, 0, 1, 0, 0, 1, 0, 0, 0, 0, 0, 1, 0, 0, 0, 0, 0, 0, 0, 1, 0, 0, 0, 0, 0, 0, 0, 0, 0, 0, 0, 0, 0, 0, 0, 0, 0, 0, 1, 0, 0, 0, 0, 0, 0, 0, 0, 0, 0, 0, 1, 0, 0, 0, 1, 0, 0, 0, 0, 0, 0, 0, 1, 1, 0, 0, 0, 1, 1, 0, 0, 1, 0, 0, 0, 0, 0, 0, 0, 0, 1, 0, 0, 0, 0, 0, 0, 0, 0, 0, 0, 0, 1, 1, 0, 0, 0, 0, 0, 0, 0, 1, 0, 0, 0, 0, 0, 0, 0, 0, 1, 0, 0, 0, 0, 1, 0, 0, 0, 0, 0, 1, 0, 0, 0, 0, 1, 0, 0, 0, 0, 0, 0, 1, 0, 0, 0, 0, 0, 1, 0, 0, 0, 0, 0, 0, 0, 0, 0, 0, 0, 0, 0, 0, 0, 1, 0, 0, 1, 0, 1, 0, 0, 0, 0, 0, 0, 0, 1, 0, 0, 0, 0, 0, 0, 0, 1, 1, 0, 0, 0, 0, 0, 0, 0, 0, 0, 0, 0, 0, 0, 1, 0, 0, 0, 0, 0, 0, 1, 0, 0, 0, 0, 0, 0, 0, 0, 0, 0, 0, 0, 0, 0, 0, 0, 1, 1, 0, 0, 0, 0, 0, 0, 0, 0, 0, 1, 1, 0, 0, 0, 0, 0, 0, 1, 0, 0, 0, 0, 0, 0, 0, 0, 0, 0, 0, 0, 0, 0, 0, 0, 0, 1, 1, 0, 0, 0, 0, 0, 1, 0, 0, 0, 1, 0, 0, 0, 0, 1, 0, 1, 0, 0, 0, 0, 1, 0, 0, 0, 0, 0, 0, 1, 0, 0, 0, 0, 0, 0, 0, 0, 0, 0, 0, 0, 0, 0, 0, 0, 0, 0, 0, 0, 1, 0, 0, 0, 1, 1, 0, 0, 1, 0, 1, 0, 0, 0, 0, 0, 1, 0, 0, 0, 0, 0, 0, 0, 0, 0, 0, 1, 0, 0, 0, 0, 1, 0, 0, 0, 0, 0, 1, 0, 0, 0, 1, 0, 0, 0, 1, 0, 0, 0, 0, 0, 0, 0, 0, 0, 0, 0, 0, 1, 0, 0, 0, 1, 0, 0, 0, 0, 0, 0, 0, 1, 0, 0, 0, 0, 0, 1, 0, 0, 0, 0, 0, 0, 1, 0, 0, 1, 0, 0, 0, 0, 0, 0, 0, 0, 0, 0, 0, 0, 0, 0, 0, 0, 0, 0, 0, 1, 0, 0, 0, 0, 0, 1, 0, 0, 0, 0, 1, 0, 0, 0, 0, 0, 0, 0, 0, 0, 0, 0, 0, 0, 0, 0, 0, 0, 0, 1, 0, 0, 0, 0, 0, 0, 0, 0, 0, 0, 0, 0, 0, 0, 0, 0, 0, 0, 0, 0, 0, 0, 0, 0, 0, 0, 0, 0, 0, 0, 0, 0, 0, 0, 0, 1, 0, 0, 0, 0, 0, 1, 0, 0, 0, 0, 0, 0, 0, 0, 1, 0, 0, 0, 0, 0, 1, 1, 0, 0, 0, 0, 0, 0, 0, 0, 0, 0, 0, 0, 0, 0, 0, 0, 0, 0, 0, 0, 0, 0, 0, 0, 0, 0, 0, 0, 1, 0, 0, 0, 0, 1, 0, 1, 0, 0, 0, 0, 0, 0, 0, 0, 0, 0, 0, 0, 0, 1, 0, 0, 0, 0, 1, 0, 0, 0, 0, 1, 0, 0, 0, 0, 0, 0, 0, 0, 0, 0, 0, 0, 0, 0, 0, 0, 0, 1, 0, 0, 0, 0, 0, 0, 0, 0, 0, 0, 0, 0, 0, 0, 1, 0, 1, 0, 0, 0, 0, 0, 0, 0, 0, 0, 0, 0, 0, 0, 1, 0, 0, 0, 0, 1, 0, 0, 0, 0, 0, 0, 0, 1, 0, 0, 0, 0, 0, 0, 0, 0, 0, 0, 0, 1, 0, 0, 0, 0, 0, 0, 0, 0, 0, 0, 0, 0, 0, 0, 0, 0, 0, 0, 0, 0, 1, 0, 1, 0, 0, 0, 0, 0, 0, 1, 0, 0, 1, 1, 0, 0, 0, 0, 0, 1, 0, 0, 1, 0, 0, 0, 0, 0, 0, 0, 0, 0, 0, 0, 0, 0, 0, 0, 0, 0, 0, 1, 0, 0, 0, 0, 0, 0, 0, 0, 0, 0, 1, 0, 1, 0, 0, 0, 0, 0, 0, 0, 0, 0, 0, 0, 0, 0, 0, 0, 0, 0, 0, 0, 1, 0, 1, 0, 0, 0, 0, 0, 0, 1, 0, 1, 1, 0, 0, 0, 0, 0, 0, 1, 0, 1, 0, 0, 0, 0, 0, 0, 0, 0, 0, 0, 0, 0, 1, 0, 0, 0, 0, 0, 0, 0, 0, 0, 0, 0, 0, 0, 0, 0, 0, 0, 1, 0, 0, 0, 0, 0, 0, 0, 0, 1, 0, 0, 1, 0, 0, 0, 0, 0, 0, 0, 1, 0, 0, 0, 0, 0, 0, 0, 0, 0, 0, 0, 0, 0, 0, 0, 0, 0, 0, 0, 0, 0, 0, 0, 0, 0, 0, 0, 0, 0, 0, 0, 0, 0, 0, 0, 0, 0, 0, 1, 1, 0, 0, 0, 0, 0, 0, 0, 0, 0, 0, 0, 0, 0, 0, 0, 0, 0, 0, 0, 0, 0, 0, 0, 1, 0, 0, 1, 0, 0, 0, 0, 0, 0, 0, 0, 0, 1, 0, 0, 0, 0, 0, 1, 1, 0, 0, 0, 0, 0, 0, 0, 0, 0, 0, 1, 0, 0, 1, 0, 0, 0, 0, 0, 1, 0, 0, 0, 0, 0, 0, 0, 1, 0, 0, 0, 0, 1, 0, 0, 0, 0, 0, 0, 0, 0, 0, 0, 0, 0, 0, 0, 0, 0, 0, 0, 0, 0, 0, 0, 0, 0, 0, 0, 1, 0, 0, 0, 0, 0, 0, 0, 0, 0, 1, 1, 0, 0, 0, 0, 0, 0, 0, 0, 0, 0, 1, 0, 0, 0, 0, 0, 0, 0, 0, 0, 0, 0, 0, 0, 0, 0, 0, 0, 0, 0, 0, 0, 0, 0, 0, 0, 0, 1, 1, 0, 0, 0, 0, 0, 0, 0, 1, 0, 0, 0, 0, 0, 0, 0, 0, 0, 0, 0, 0, 0, 1, 0, 0, 0, 0, 0, 0, 0, 0, 1, 0, 0, 0, 0, 0, 1, 0, 0, 0, 1, 0, 0, 1, 0, 1, 0, 1, 0, 0, 0, 1, 0, 0, 0, 0, 0, 0, 0, 0, 0, 0, 0, 0, 0, 0, 1, 0, 0, 1, 0, 0, 0, 1, 0, 0, 0, 1, 0, 0, 0, 0, 0, 0, 0, 0, 0, 0, 0, 1, 0, 0, 1, 0, 1, 0, 0, 0, 0, 0, 0, 1, 0, 0, 1, 0, 1, 0, 0, 0, 0, 1, 1, 1, 0, 0, 0, 1, 0, 0, 0, 0, 0, 0, 0, 0, 1, 0, 0, 0, 0, 1, 0, 0, 0, 0, 0, 0, 0, 0, 1, 0, 0, 1, 0, 0, 0, 0, 0, 0, 0, 0, 0, 0, 0, 0, 0, 0, 0, 1, 0, 0, 0, 0, 0, 0, 0, 0, 0, 0, 0, 0, 1, 0, 1, 0, 0, 0, 0, 0, 0, 0, 0, 0, 0, 0, 0, 1, 0, 0, 0, 0, 0, 0, 0, 0, 0, 0, 0, 0, 0, 0, 1, 0, 0, 0, 0, 0, 0, 1, 0, 0, 0, 0, 0, 0, 0, 0, 0, 0, 0, 1, 0, 0, 0, 0, 0, 0, 0, 0, 0, 0, 0, 0, 1, 0, 0, 0, 0, 1, 0, 0, 0, 0, 0, 0, 0, 0, 0, 0, 0, 1, 0, 0, 0, 0, 0, 0, 0, 0, 1, 0, 0, 0, 0, 0, 0, 0, 0, 0, 0, 0, 0, 0, 0, 0, 0, 0, 0, 0, 0, 0, 0, 1, 0, 0, 0, 0, 0, 0, 0, 0, 0, 0, 0, 1, 0, 1, 1, 1, 1, 1, 0, 0, 1, 1, 0, 0, 0, 0, 0, 0, 0, 0, 0, 0, 0, 0, 1, 0, 0, 0, 0, 0, 0, 0, 0, 0, 0, 0, 0, 0, 0, 0, 0, 0, 0, 0, 0, 0, 0, 0, 0, 0, 0, 0, 0, 0, 0, 0, 0, 0, 1, 0, 0, 0, 0, 0, 0, 0, 1, 0, 0, 0, 0, 0, 0, 0, 1, 0, 0, 0, 0, 0, 0, 0, 0, 0, 0, 0, 0, 1, 0, 0, 0, 0, 1, 0, 0, 0, 0, 0, 0, 0, 0, 0, 0, 0, 0, 0, 0, 0, 1, 0, 0, 1, 0, 0, 0, 0, 0, 0, 0, 1, 0, 0, 0, 0, 1, 0, 1, 0, 0, 0, 0, 0, 0, 0, 0, 1, 0, 0, 0, 0, 0, 0, 0, 0, 0, 0, 0, 1, 0, 0, 0, 0, 1, 0, 0, 0, 0, 0, 0, 0, 0, 0, 0, 0, 1, 1, 0, 1, 0, 0, 0, 0, 0, 0, 1, 1, 0, 1, 0, 0, 1, 0, 0, 0, 0, 0, 1, 0, 0, 0, 0, 1, 0, 0, 0, 0, 0, 0, 0, 0, 0, 0, 0, 0, 1, 0, 0, 0, 0, 1, 0, 0, 1, 0, 0, 0, 0, 0, 0, 1, 0, 0, 0, 1, 0, 1, 0, 1, 0, 0, 0, 0, 0, 0, 0, 0, 0, 1, 1, 0, 0, 1, 0, 0, 0, 0, 0, 0, 0, 0, 1, 0, 0, 0, 0, 0, 0, 1, 0, 0, 0, 0, 0, 0, 0, 0, 0, 1, 0, 0, 0, 0, 0, 0, 0, 0, 0, 1, 0, 0, 0, 0, 0, 0, 0, 0, 0, 0, 0, 0, 0, 0, 0, 0, 0, 0, 0, 0, 0, 0, 0, 0, 0, 0, 0, 0, 0, 0, 0, 0, 1, 0, 0, 0, 0, 1, 0, 1, 1, 0, 0, 0, 1, 1, 1, 0, 0, 0, 0, 0, 1, 0, 0, 0, 1, 1, 0, 0, 1, 1, 0, 0, 1, 0, 0, 0, 0, 0, 0, 0, 0, 1, 0, 1, 1, 0, 0, 0, 0, 0, 1, 0, 1, 0, 0, 1, 1, 0, 0, 0, 0, 1, 0, 0, 0, 0, 1, 1, 0, 0, 0, 0, 0, 0, 0, 1, 0, 0, 0, 0, 0, 0, 1, 0, 0, 0, 0, 0, 0, 0, 0, 0, 0, 0, 0, 0, 1, 1, 1, 0, 0, 0, 1, 0, 0, 0, 0, 0, 0, 0, 0, 0, 0, 1, 0, 0, 0, 1, 0, 0, 0, 0, 0, 0, 0, 0, 0, 0, 1, 0, 0, 0, 0, 0, 0, 0, 0, 1, 0, 0, 1, 1, 0, 0, 0, 0, 0, 1, 0, 0, 0, 0, 0, 0, 0, 0, 0, 0, 0, 0, 0, 0, 0, 0, 1, 0, 0, 0, 0, 0, 0, 0, 0, 0, 0, 0, 0, 0, 0, 0, 0, 0, 0, 0, 0, 0, 0, 0, 0, 0, 0, 1, 1, 0, 0, 0, 1, 0, 0, 0, 0, 1, 0, 0, 0, 0, 0, 0, 0, 0, 0, 0, 0, 0, 0, 0, 0, 0, 0, 0, 0, 0, 1, 0, 0, 0, 0, 0, 0, 0, 0, 0, 1, 0, 0, 0, 0, 0, 0, 1, 0, 0, 0, 0, 0, 0, 0, 0, 0, 0, 0, 0, 0, 0, 0, 0, 0, 0, 0, 0, 0, 0, 1, 0, 0, 0, 1, 0, 0, 1, 1, 0, 0, 0, 0, 1, 1, 0, 1, 0, 0, 1, 1, 0, 0, 0, 0, 0, 0, 0, 0, 0, 0, 0, 0, 0, 0, 0, 0, 0, 0, 0, 1, 0, 0, 1, 0, 0, 0, 0, 1, 0, 0, 1, 0, 0, 0, 0, 1, 0, 0, 1, 0, 1, 0, 0, 0, 1, 0, 0, 0, 0, 0, 0, 0, 0, 1, 0, 0, 0, 0, 0, 0, 0, 0, 0, 0, 0, 0, 1, 1, 0, 0, 0, 0, 0, 0, 0, 0, 0, 0, 0, 0, 0, 0, 0, 1, 0, 0, 0, 0, 0, 0, 1, 0, 0, 1, 0, 1, 0, 0, 1, 0, 0, 0, 0, 0, 0, 0, 0, 0, 0, 0, 0, 0, 0, 0, 0, 0, 0, 1, 1, 0, 0, 0, 0, 0, 0, 0, 0, 0, 0, 0, 0, 0, 0, 0, 0, 0, 0, 0, 1, 0, 0, 0, 0, 0, 0, 0, 0, 1, 0, 0, 0, 0, 0, 0, 0, 0, 0, 0, 0, 0, 0, 0, 0, 1, 0, 0, 0, 0, 0, 0, 1, 0, 0, 0, 0, 0, 0, 0, 0, 0, 0, 0, 0, 0, 0, 0, 0, 0, 0, 0, 0, 0, 0, 0, 0, 0, 0, 0, 0, 0, 0, 0, 0, 0, 1, 1, 0, 1, 0, 0, 0, 0, 0, 0, 0, 1, 0, 0, 0, 0, 0, 0, 0, 1, 0, 0, 0, 1, 0, 0, 0, 0, 0, 0, 1, 0, 1, 1, 0, 0, 0, 0, 0, 0, 0, 0, 0, 0, 0, 1, 0, 0, 0, 0, 0, 0, 1, 1, 0, 0, 1, 0, 0, 0, 0, 0, 1, 1, 1, 1, 0, 0, 0, 0, 0, 0, 0, 1, 0, 0, 0, 1, 1, 0, 0, 1, 0, 1, 0, 0, 0, 0, 1, 0, 0, 1, 0, 0, 0, 1, 1, 1, 0, 0, 0, 0, 0, 0, 1, 0, 0, 0, 1, 0, 0, 0, 0, 1, 0, 0, 0, 0, 0, 0, 0, 0, 0, 0, 0, 0, 0, 1, 0, 0, 0, 0, 0, 0, 0, 0, 0, 0, 0, 0, 0, 0, 0, 0, 1, 0, 0, 0, 1, 0, 0, 0, 0, 0, 0, 1, 0, 0, 0, 0, 0, 0, 0, 0, 0, 1, 0, 0, 0, 1, 0, 0, 0, 0, 0, 0, 0, 0, 0, 0, 0, 0, 0, 0, 0, 0, 0, 0, 0, 0, 0, 1, 0, 0, 0, 0, 0, 0, 0, 0, 0, 0, 1, 0, 0, 0, 0, 0, 0, 1, 0, 1, 1, 0, 0, 1, 0, 0, 1, 0, 0, 0, 0, 0, 0, 0, 0, 0, 0, 0, 0, 0, 0, 0, 0, 0, 0, 0, 0, 0, 0, 0, 0, 1, 0, 0, 0, 0, 1, 1, 0, 1, 0, 0, 0, 0, 0, 1, 0, 0, 0, 0, 0, 0, 0, 0, 0, 1, 0, 0, 1, 1, 0, 0, 0, 1, 0, 0, 1, 0, 0, 0, 1, 0, 0, 0, 0, 0, 0, 0, 1, 0, 0, 0, 0, 1, 0, 0, 0, 0, 1, 0, 0, 0, 0, 1, 0, 0, 0, 0, 0, 0, 0, 0, 0, 0, 0, 0, 0, 0, 0, 1, 0, 1, 0, 0, 0, 0, 0, 0, 0, 0, 0, 0, 0, 0, 1, 0, 1, 0, 1, 0, 1, 0, 0, 0, 0, 0, 1, 1, 0, 0, 0, 1, 0, 0, 0, 1, 0, 0, 0, 0, 0, 1, 0, 0, 0, 0, 0, 0, 1, 0, 1, 0, 0, 0, 1, 0, 0, 0, 0, 0, 0, 0, 1, 0, 1, 0, 0, 0, 0, 0, 0, 0, 0, 0, 0, 0, 0, 0, 1, 0, 0, 0, 0, 0, 0, 1, 1, 0, 0, 1, 0, 0, 0, 0, 0, 0, 0, 0, 0, 1, 0, 1, 0, 0, 0, 0, 0, 0, 0, 0, 0, 0, 0, 0, 1, 0, 0, 0, 0, 0, 0, 0, 0, 0, 0, 0, 1, 1, 1, 0, 0, 0, 0, 0, 0, 0, 0, 0, 1, 1, 1, 0, 0, 0, 0, 0, 0, 0, 1, 0, 0, 0, 0, 0, 1, 0, 0, 0, 0, 0, 0, 0, 0, 0, 0, 0, 0, 0, 0, 0, 1, 0, 0, 1, 0, 0, 0, 0, 1, 0, 0, 1, 1, 0, 0, 0, 0, 0, 0, 0, 0, 0, 0, 1, 0, 0, 0, 0, 0, 0, 0, 0, 0, 0, 0, 0, 0, 0, 0, 0, 0, 0, 0, 0, 0, 0, 0, 0, 0, 1, 0, 0, 1, 0, 0, 0, 0, 0, 1, 0, 0, 0, 0, 0, 0, 0, 1, 0, 1, 0, 0, 0, 0, 1, 0, 0, 0, 0, 0, 0, 0, 0, 0, 0, 1, 1, 0, 0, 0, 0, 0, 0, 1, 0, 0, 0, 0, 0, 0, 0, 0, 0, 0, 0, 0, 0, 0, 0, 1, 1, 1, 0, 0, 0, 0, 0, 0, 0, 1, 0, 1, 0, 0, 0, 0, 0, 1, 0, 0, 0, 0, 1, 0, 0, 1, 0, 1, 0, 0, 0, 0, 0, 1, 0, 1, 1, 0, 0, 1, 0, 0, 0, 1, 0, 0, 1, 1, 0, 0, 0, 0, 0, 0, 1, 1, 0, 0, 0, 0, 0, 0, 1, 0, 1, 0, 0, 0, 0, 1, 0, 0, 0, 0, 0, 0, 0, 1, 0, 0, 0, 0, 0, 0, 0, 0, 0, 0, 0, 0, 0, 0, 0, 0, 1, 0, 0, 0, 1, 0, 0, 0, 0, 0, 0, 0, 0, 0, 0, 0, 1, 0, 0, 0, 0, 0, 0, 0, 0, 0, 1, 0, 0, 0, 0, 1, 0, 0, 0, 0, 0, 0, 0, 0, 0, 0, 0, 0, 0, 1, 0, 0, 0, 0, 0, 1, 0, 1, 0, 0, 0, 0, 0, 0, 1, 0, 0, 0, 0, 0, 0, 0, 0, 0, 0, 0, 0, 0, 1, 0, 0, 0, 0, 0, 0, 0, 0, 0, 0, 0, 0, 0, 0, 0, 0, 0, 0, 1, 1, 0, 0, 0, 0, 0, 0, 0, 0, 0, 0, 0, 1, 0, 1, 0, 0, 0, 0, 1, 0, 0, 0, 0, 0, 0, 0, 0, 0, 0, 0, 1, 0, 0, 0, 1, 0, 0, 1, 0, 0, 0, 0, 0, 1, 0, 0, 0, 0, 0, 0, 0, 0, 1, 0, 1, 1, 0, 0, 0, 0, 0, 0, 0, 0, 0, 0, 0, 0, 0, 0, 0, 0, 0, 0, 0, 1, 1, 1, 0, 0, 0, 0, 0, 0, 0, 0, 0, 0, 0, 0, 0, 1, 0, 0, 0, 1, 0, 0, 0, 0, 0, 0, 0, 0, 0, 0, 0, 0, 0, 0, 1, 0, 1, 0, 0, 0, 0, 0, 0, 0, 0, 0, 0, 0, 1, 0, 0, 1, 0, 1, 0, 0, 1, 1, 0, 0, 0, 0, 0, 0, 0, 1, 0, 0, 0, 0, 0, 0, 0, 0, 0, 1, 0, 0, 1, 0, 0, 0, 1, 0, 0, 0, 0, 0, 0, 0, 1, 0, 0, 0, 0, 0, 0, 1, 0, 0, 0, 1, 0, 0, 0, 0, 0, 0, 0, 0, 0, 1, 0, 0, 1, 0, 0, 0, 0, 0, 0, 0, 0, 0, 0, 0, 0, 0, 0, 0, 1, 0, 1, 1, 0, 0, 0, 0, 0, 0, 0, 0, 0], \"legendgroup\": \"\", \"name\": \"\", \"showlegend\": true, \"type\": \"pie\"}],\n",
              "                        {\"height\": 400, \"legend\": {\"tracegroupgap\": 0}, \"template\": {\"data\": {\"bar\": [{\"error_x\": {\"color\": \"#2a3f5f\"}, \"error_y\": {\"color\": \"#2a3f5f\"}, \"marker\": {\"line\": {\"color\": \"#E5ECF6\", \"width\": 0.5}}, \"type\": \"bar\"}], \"barpolar\": [{\"marker\": {\"line\": {\"color\": \"#E5ECF6\", \"width\": 0.5}}, \"type\": \"barpolar\"}], \"carpet\": [{\"aaxis\": {\"endlinecolor\": \"#2a3f5f\", \"gridcolor\": \"white\", \"linecolor\": \"white\", \"minorgridcolor\": \"white\", \"startlinecolor\": \"#2a3f5f\"}, \"baxis\": {\"endlinecolor\": \"#2a3f5f\", \"gridcolor\": \"white\", \"linecolor\": \"white\", \"minorgridcolor\": \"white\", \"startlinecolor\": \"#2a3f5f\"}, \"type\": \"carpet\"}], \"choropleth\": [{\"colorbar\": {\"outlinewidth\": 0, \"ticks\": \"\"}, \"type\": \"choropleth\"}], \"contour\": [{\"colorbar\": {\"outlinewidth\": 0, \"ticks\": \"\"}, \"colorscale\": [[0.0, \"#0d0887\"], [0.1111111111111111, \"#46039f\"], [0.2222222222222222, \"#7201a8\"], [0.3333333333333333, \"#9c179e\"], [0.4444444444444444, \"#bd3786\"], [0.5555555555555556, \"#d8576b\"], [0.6666666666666666, \"#ed7953\"], [0.7777777777777778, \"#fb9f3a\"], [0.8888888888888888, \"#fdca26\"], [1.0, \"#f0f921\"]], \"type\": \"contour\"}], \"contourcarpet\": [{\"colorbar\": {\"outlinewidth\": 0, \"ticks\": \"\"}, \"type\": \"contourcarpet\"}], \"heatmap\": [{\"colorbar\": {\"outlinewidth\": 0, \"ticks\": \"\"}, \"colorscale\": [[0.0, \"#0d0887\"], [0.1111111111111111, \"#46039f\"], [0.2222222222222222, \"#7201a8\"], [0.3333333333333333, \"#9c179e\"], [0.4444444444444444, \"#bd3786\"], [0.5555555555555556, \"#d8576b\"], [0.6666666666666666, \"#ed7953\"], [0.7777777777777778, \"#fb9f3a\"], [0.8888888888888888, \"#fdca26\"], [1.0, \"#f0f921\"]], \"type\": \"heatmap\"}], \"heatmapgl\": [{\"colorbar\": {\"outlinewidth\": 0, \"ticks\": \"\"}, \"colorscale\": [[0.0, \"#0d0887\"], [0.1111111111111111, \"#46039f\"], [0.2222222222222222, \"#7201a8\"], [0.3333333333333333, \"#9c179e\"], [0.4444444444444444, \"#bd3786\"], [0.5555555555555556, \"#d8576b\"], [0.6666666666666666, \"#ed7953\"], [0.7777777777777778, \"#fb9f3a\"], [0.8888888888888888, \"#fdca26\"], [1.0, \"#f0f921\"]], \"type\": \"heatmapgl\"}], \"histogram\": [{\"marker\": {\"colorbar\": {\"outlinewidth\": 0, \"ticks\": \"\"}}, \"type\": \"histogram\"}], \"histogram2d\": [{\"colorbar\": {\"outlinewidth\": 0, \"ticks\": \"\"}, \"colorscale\": [[0.0, \"#0d0887\"], [0.1111111111111111, \"#46039f\"], [0.2222222222222222, \"#7201a8\"], [0.3333333333333333, \"#9c179e\"], [0.4444444444444444, \"#bd3786\"], [0.5555555555555556, \"#d8576b\"], [0.6666666666666666, \"#ed7953\"], [0.7777777777777778, \"#fb9f3a\"], [0.8888888888888888, \"#fdca26\"], [1.0, \"#f0f921\"]], \"type\": \"histogram2d\"}], \"histogram2dcontour\": [{\"colorbar\": {\"outlinewidth\": 0, \"ticks\": \"\"}, \"colorscale\": [[0.0, \"#0d0887\"], [0.1111111111111111, \"#46039f\"], [0.2222222222222222, \"#7201a8\"], [0.3333333333333333, \"#9c179e\"], [0.4444444444444444, \"#bd3786\"], [0.5555555555555556, \"#d8576b\"], [0.6666666666666666, \"#ed7953\"], [0.7777777777777778, \"#fb9f3a\"], [0.8888888888888888, \"#fdca26\"], [1.0, \"#f0f921\"]], \"type\": \"histogram2dcontour\"}], \"mesh3d\": [{\"colorbar\": {\"outlinewidth\": 0, \"ticks\": \"\"}, \"type\": \"mesh3d\"}], \"parcoords\": [{\"line\": {\"colorbar\": {\"outlinewidth\": 0, \"ticks\": \"\"}}, \"type\": \"parcoords\"}], \"pie\": [{\"automargin\": true, \"type\": \"pie\"}], \"scatter\": [{\"marker\": {\"colorbar\": {\"outlinewidth\": 0, \"ticks\": \"\"}}, \"type\": \"scatter\"}], \"scatter3d\": [{\"line\": {\"colorbar\": {\"outlinewidth\": 0, \"ticks\": \"\"}}, \"marker\": {\"colorbar\": {\"outlinewidth\": 0, \"ticks\": \"\"}}, \"type\": \"scatter3d\"}], \"scattercarpet\": [{\"marker\": {\"colorbar\": {\"outlinewidth\": 0, \"ticks\": \"\"}}, \"type\": \"scattercarpet\"}], \"scattergeo\": [{\"marker\": {\"colorbar\": {\"outlinewidth\": 0, \"ticks\": \"\"}}, \"type\": \"scattergeo\"}], \"scattergl\": [{\"marker\": {\"colorbar\": {\"outlinewidth\": 0, \"ticks\": \"\"}}, \"type\": \"scattergl\"}], \"scattermapbox\": [{\"marker\": {\"colorbar\": {\"outlinewidth\": 0, \"ticks\": \"\"}}, \"type\": \"scattermapbox\"}], \"scatterpolar\": [{\"marker\": {\"colorbar\": {\"outlinewidth\": 0, \"ticks\": \"\"}}, \"type\": \"scatterpolar\"}], \"scatterpolargl\": [{\"marker\": {\"colorbar\": {\"outlinewidth\": 0, \"ticks\": \"\"}}, \"type\": \"scatterpolargl\"}], \"scatterternary\": [{\"marker\": {\"colorbar\": {\"outlinewidth\": 0, \"ticks\": \"\"}}, \"type\": \"scatterternary\"}], \"surface\": [{\"colorbar\": {\"outlinewidth\": 0, \"ticks\": \"\"}, \"colorscale\": [[0.0, \"#0d0887\"], [0.1111111111111111, \"#46039f\"], [0.2222222222222222, \"#7201a8\"], [0.3333333333333333, \"#9c179e\"], [0.4444444444444444, \"#bd3786\"], [0.5555555555555556, \"#d8576b\"], [0.6666666666666666, \"#ed7953\"], [0.7777777777777778, \"#fb9f3a\"], [0.8888888888888888, \"#fdca26\"], [1.0, \"#f0f921\"]], \"type\": \"surface\"}], \"table\": [{\"cells\": {\"fill\": {\"color\": \"#EBF0F8\"}, \"line\": {\"color\": \"white\"}}, \"header\": {\"fill\": {\"color\": \"#C8D4E3\"}, \"line\": {\"color\": \"white\"}}, \"type\": \"table\"}]}, \"layout\": {\"annotationdefaults\": {\"arrowcolor\": \"#2a3f5f\", \"arrowhead\": 0, \"arrowwidth\": 1}, \"coloraxis\": {\"colorbar\": {\"outlinewidth\": 0, \"ticks\": \"\"}}, \"colorscale\": {\"diverging\": [[0, \"#8e0152\"], [0.1, \"#c51b7d\"], [0.2, \"#de77ae\"], [0.3, \"#f1b6da\"], [0.4, \"#fde0ef\"], [0.5, \"#f7f7f7\"], [0.6, \"#e6f5d0\"], [0.7, \"#b8e186\"], [0.8, \"#7fbc41\"], [0.9, \"#4d9221\"], [1, \"#276419\"]], \"sequential\": [[0.0, \"#0d0887\"], [0.1111111111111111, \"#46039f\"], [0.2222222222222222, \"#7201a8\"], [0.3333333333333333, \"#9c179e\"], [0.4444444444444444, \"#bd3786\"], [0.5555555555555556, \"#d8576b\"], [0.6666666666666666, \"#ed7953\"], [0.7777777777777778, \"#fb9f3a\"], [0.8888888888888888, \"#fdca26\"], [1.0, \"#f0f921\"]], \"sequentialminus\": [[0.0, \"#0d0887\"], [0.1111111111111111, \"#46039f\"], [0.2222222222222222, \"#7201a8\"], [0.3333333333333333, \"#9c179e\"], [0.4444444444444444, \"#bd3786\"], [0.5555555555555556, \"#d8576b\"], [0.6666666666666666, \"#ed7953\"], [0.7777777777777778, \"#fb9f3a\"], [0.8888888888888888, \"#fdca26\"], [1.0, \"#f0f921\"]]}, \"colorway\": [\"#636efa\", \"#EF553B\", \"#00cc96\", \"#ab63fa\", \"#FFA15A\", \"#19d3f3\", \"#FF6692\", \"#B6E880\", \"#FF97FF\", \"#FECB52\"], \"font\": {\"color\": \"#2a3f5f\"}, \"geo\": {\"bgcolor\": \"white\", \"lakecolor\": \"white\", \"landcolor\": \"#E5ECF6\", \"showlakes\": true, \"showland\": true, \"subunitcolor\": \"white\"}, \"hoverlabel\": {\"align\": \"left\"}, \"hovermode\": \"closest\", \"mapbox\": {\"style\": \"light\"}, \"paper_bgcolor\": \"white\", \"plot_bgcolor\": \"#E5ECF6\", \"polar\": {\"angularaxis\": {\"gridcolor\": \"white\", \"linecolor\": \"white\", \"ticks\": \"\"}, \"bgcolor\": \"#E5ECF6\", \"radialaxis\": {\"gridcolor\": \"white\", \"linecolor\": \"white\", \"ticks\": \"\"}}, \"scene\": {\"xaxis\": {\"backgroundcolor\": \"#E5ECF6\", \"gridcolor\": \"white\", \"gridwidth\": 2, \"linecolor\": \"white\", \"showbackground\": true, \"ticks\": \"\", \"zerolinecolor\": \"white\"}, \"yaxis\": {\"backgroundcolor\": \"#E5ECF6\", \"gridcolor\": \"white\", \"gridwidth\": 2, \"linecolor\": \"white\", \"showbackground\": true, \"ticks\": \"\", \"zerolinecolor\": \"white\"}, \"zaxis\": {\"backgroundcolor\": \"#E5ECF6\", \"gridcolor\": \"white\", \"gridwidth\": 2, \"linecolor\": \"white\", \"showbackground\": true, \"ticks\": \"\", \"zerolinecolor\": \"white\"}}, \"shapedefaults\": {\"line\": {\"color\": \"#2a3f5f\"}}, \"ternary\": {\"aaxis\": {\"gridcolor\": \"white\", \"linecolor\": \"white\", \"ticks\": \"\"}, \"baxis\": {\"gridcolor\": \"white\", \"linecolor\": \"white\", \"ticks\": \"\"}, \"bgcolor\": \"#E5ECF6\", \"caxis\": {\"gridcolor\": \"white\", \"linecolor\": \"white\", \"ticks\": \"\"}}, \"title\": {\"x\": 0.05}, \"xaxis\": {\"automargin\": true, \"gridcolor\": \"white\", \"linecolor\": \"white\", \"ticks\": \"\", \"title\": {\"standoff\": 15}, \"zerolinecolor\": \"white\", \"zerolinewidth\": 2}, \"yaxis\": {\"automargin\": true, \"gridcolor\": \"white\", \"linecolor\": \"white\", \"ticks\": \"\", \"title\": {\"standoff\": 15}, \"zerolinecolor\": \"white\", \"zerolinewidth\": 2}}}, \"title\": {\"text\": \"churn\"}, \"width\": 400},\n",
              "                        {\"responsive\": true}\n",
              "                    ).then(function(){\n",
              "                            \n",
              "var gd = document.getElementById('7b0b7215-3ae7-4f27-8737-51ff89f97c6f');\n",
              "var x = new MutationObserver(function (mutations, observer) {{\n",
              "        var display = window.getComputedStyle(gd).display;\n",
              "        if (!display || display === 'none') {{\n",
              "            console.log([gd, 'removed!']);\n",
              "            Plotly.purge(gd);\n",
              "            observer.disconnect();\n",
              "        }}\n",
              "}});\n",
              "\n",
              "// Listen for the removal of the full notebook cells\n",
              "var notebookContainer = gd.closest('#notebook-container');\n",
              "if (notebookContainer) {{\n",
              "    x.observe(notebookContainer, {childList: true});\n",
              "}}\n",
              "\n",
              "// Listen for the clearing of the current output cell\n",
              "var outputEl = gd.closest('.output');\n",
              "if (outputEl) {{\n",
              "    x.observe(outputEl, {childList: true});\n",
              "}}\n",
              "\n",
              "                        })\n",
              "                };\n",
              "                \n",
              "            </script>\n",
              "        </div>\n",
              "</body>\n",
              "</html>"
            ]
          },
          "metadata": {
            "tags": []
          }
        }
      ]
    },
    {
      "cell_type": "markdown",
      "metadata": {
        "id": "_wp1zZVNScwv"
      },
      "source": [
        "**IMPORTANT NOTE :So we need to resample the data**"
      ]
    },
    {
      "cell_type": "markdown",
      "metadata": {
        "id": "27WI5lCIOHwm"
      },
      "source": [
        "# Find Correlation "
      ]
    },
    {
      "cell_type": "code",
      "metadata": {
        "colab": {
          "base_uri": "https://localhost:8080/",
          "height": 404
        },
        "id": "C7vDha8BHVa2",
        "outputId": "9e9a3ab9-6b39-4ce7-add1-7cc7b8cf0e0e"
      },
      "source": [
        "\r\n",
        "corr = trainingData.corr()\r\n",
        "sns.heatmap(corr, mask=np.zeros_like(corr, dtype=np.bool), cmap=sns.diverging_palette(220, 10, as_cmap=True), square=True)"
      ],
      "execution_count": null,
      "outputs": [
        {
          "output_type": "execute_result",
          "data": {
            "text/plain": [
              "<matplotlib.axes._subplots.AxesSubplot at 0x7f265c068160>"
            ]
          },
          "metadata": {
            "tags": []
          },
          "execution_count": 18
        },
        {
          "output_type": "display_data",
          "data": {
            "image/png": "[encoded data removed]",
            "text/plain": [
              "<Figure size 432x288 with 2 Axes>"
            ]
          },
          "metadata": {
            "tags": [],
            "needs_background": "light"
          }
        }
      ]
    },
    {
      "cell_type": "code",
      "metadata": {
        "colab": {
          "base_uri": "https://localhost:8080/"
        },
        "id": "TObQEzGT1ALE",
        "outputId": "66cfb118-66cd-4281-cf6a-08b3265b9bbb"
      },
      "source": [
        "corr['churn']"
      ],
      "execution_count": null,
      "outputs": [
        {
          "output_type": "execute_result",
          "data": {
            "text/plain": [
              "state                     0.007780\n",
              "account_length            0.016541\n",
              "area_code                 0.006174\n",
              "phone_number              0.005626\n",
              "international_plan        0.259852\n",
              "voice_mail_plan          -0.102148\n",
              "number_vmail_messages    -0.089728\n",
              "total_day_minutes         0.205151\n",
              "total_day_calls           0.018459\n",
              "total_day_charge          0.205151\n",
              "total_eve_minutes         0.092796\n",
              "total_eve_calls           0.009233\n",
              "total_eve_charge          0.092786\n",
              "total_night_minutes       0.035493\n",
              "total_night_calls         0.006141\n",
              "total_night_charge        0.035496\n",
              "total_intl_minutes        0.068239\n",
              "total_intl_calls         -0.052844\n",
              "total_intl_charge         0.068259\n",
              "customer_service_calls    0.208750\n",
              "churn                     1.000000\n",
              "Name: churn, dtype: float64"
            ]
          },
          "metadata": {
            "tags": []
          },
          "execution_count": 19
        }
      ]
    },
    {
      "cell_type": "markdown",
      "metadata": {
        "id": "vqpL0fg_WXIK"
      },
      "source": [
        "# Resample Data using SMOTE"
      ]
    },
    {
      "cell_type": "code",
      "metadata": {
        "colab": {
          "base_uri": "https://localhost:8080/"
        },
        "id": "uAzZvLZqVyAi",
        "outputId": "72b2b677-2343-4ce4-9476-a3038ac39bf7"
      },
      "source": [
        "\r\n",
        "y = trainingData['churn']\r\n",
        "x = trainingData.drop({'churn'}, axis=1)\r\n",
        "scaler = preprocessing.StandardScaler()\r\n",
        "x = scaler.fit_transform(x)\r\n",
        "x_train, x_test, y_train, y_test = train_test_split(x, y, test_size=0.25, random_state=27)\r\n",
        "sm = SMOTE(random_state=27, ratio=1.0)\r\n",
        "print(x_train.shape[0], y_train.shape[0])\r\n",
        "x_train, y_train = sm.fit_sample(x_train, y_train)\r\n",
        "print(x_train.shape[0], y_train.shape[0])\r\n",
        "z=0\r\n",
        "for i in y_train:\r\n",
        "  if i ==1:\r\n",
        "    z+=1\r\n",
        "print(z)\r\n"
      ],
      "execution_count": 52,
      "outputs": [
        {
          "output_type": "stream",
          "text": [
            "2499 2499\n",
            "4242 4242\n",
            "2121\n"
          ],
          "name": "stdout"
        },
        {
          "output_type": "stream",
          "text": [
            "/usr/local/lib/python3.6/dist-packages/sklearn/utils/deprecation.py:87: FutureWarning:\n",
            "\n",
            "Function safe_indexing is deprecated; safe_indexing is deprecated in version 0.22 and will be removed in version 0.24.\n",
            "\n"
          ],
          "name": "stderr"
        }
      ]
    },
    {
      "cell_type": "code",
      "metadata": {
        "id": "-rYeX5RVLEAn",
        "outputId": "94b6747d-81e7-431f-be9d-dc82854e1016",
        "colab": {
          "base_uri": "https://localhost:8080/",
          "height": 279
        }
      },
      "source": [
        "from sklearn.metrics import roc_curve, auc\r\n",
        "learning_rates = [0.23,0.25]\r\n",
        "train_results = []\r\n",
        "test_results = []\r\n",
        "for eta in learning_rates:\r\n",
        "   model = GradientBoostingClassifier(learning_rate=eta,subsample=0.85,max_depth= 93,max_features= 1,min_samples_leaf=3,min_samples_split= 5,n_estimators= 1000)\r\n",
        "   model.fit(x_train, y_train)\r\n",
        "   train_pred = model.predict(x_train)\r\n",
        "   false_positive_rate, true_positive_rate, thresholds = roc_curve(y_train, train_pred)\r\n",
        "   roc_auc = auc(false_positive_rate, true_positive_rate)\r\n",
        "   train_results.append(roc_auc)\r\n",
        "   y_pred = model.predict(x_test)\r\n",
        "   false_positive_rate, true_positive_rate, thresholds = roc_curve(y_test, y_pred)\r\n",
        "   roc_auc = auc(false_positive_rate, true_positive_rate)\r\n",
        "   test_results.append(roc_auc)\r\n",
        "from matplotlib.legend_handler import HandlerLine2D\r\n",
        "line1, = plt.plot(learning_rates, train_results, 'b', label=\"Train AUC\")\r\n",
        "line2, = plt.plot(learning_rates, test_results, 'r', label=\"Test AUC\")\r\n",
        "plt.legend(handler_map={line1: HandlerLine2D(numpoints=2)})\r\n",
        "plt.ylabel('AUC score')\r\n",
        "plt.xlabel('learning rate')\r\n",
        "plt.show()\r\n",
        "#,subsample=0.85,max_depth= 93,max_features= 1,min_samples_leaf=3,min_samples_split= 5,n_estimators= 1000"
      ],
      "execution_count": 70,
      "outputs": [
        {
          "output_type": "display_data",
          "data": {
            "image/png": "[encoded data removed]",
            "text/plain": [
              "<Figure size 432x288 with 1 Axes>"
            ]
          },
          "metadata": {
            "tags": [],
            "needs_background": "light"
          }
        }
      ]
    },
    {
      "cell_type": "code",
      "metadata": {
        "id": "j5L2t7Bmf-lA"
      },
      "source": [
        "from sklearn.model_selection import KFold\r\n",
        "kf = KFold( n_splits = 4 )\r\n",
        "\r\n",
        "##LR\r\n",
        "from sklearn.linear_model import LogisticRegression\r\n",
        "ACC_test_lr = []; Per_test_lr = []; Recall_test_lr = [];f_test_lr = [];\r\n",
        "\r\n",
        "##DT\r\n",
        "from sklearn.tree import DecisionTreeClassifier\r\n",
        "ACC_test_dt = []; Per_test_dt = [];Recall_test_dt = [];f_test_dt = [];\r\n",
        "\r\n",
        "\r\n",
        "##SVM\r\n",
        "from sklearn.svm import SVC\r\n",
        "ACC_test_svm = []; Per_test_svm = [];Recall_test_svm = [];f_test_svm = [];\r\n",
        "\r\n",
        "\r\n",
        "##RF\r\n",
        "from sklearn.ensemble import RandomForestClassifier\r\n",
        "ACC_test_rf = []; Per_test_rf = [];Recall_test_rf = [];f_test_rf = [];\r\n",
        "\r\n",
        "\r\n",
        "##NB\r\n",
        "from sklearn.naive_bayes import GaussianNB\r\n",
        "ACC_test_nb = []; Per_test_nb = [];Recall_test_nb = [];f_test_nb = [];\r\n",
        "\r\n",
        "\r\n",
        "ACC_test_gb = []; Per_test_gb = [];Recall_test_gb = [];f_test_gb = [];\r\n",
        "\r\n",
        "import numpy as np\r\n",
        "for train_index,test_index in kf.split(range(x.shape[0])):\r\n",
        "  y_train = [y[i] for i in train_index]\r\n",
        "  y_test = [y[i] for i in test_index]\r\n",
        "  x_train = [np.array(x)[i,:] for i in train_index]\r\n",
        "  x_test = [np.array(x)[i,:] for i in test_index]\r\n",
        "   \r\n",
        "\r\n",
        "\r\n",
        "  estimator = GradientBoostingClassifier(subsample=0.85,learning_rate=0.075,max_depth= 95,max_features= 1,min_samples_leaf=3,min_samples_split= 7,n_estimators= 1000) #lg\r\n",
        "  estimator.fit(x_train,y_train)\r\n",
        "  smote_pred=estimator.predict(x_test)\r\n",
        "  ACC_test_lr.append(accuracy_score(y_test, smote_pred))\r\n",
        "  Per_test_lr.append(precision_score(y_test, smote_pred, average='micro'))\r\n",
        "  Recall_test_lr.append(recall_score(y_test, smote_pred))\r\n",
        "  f_test_lr.append(f1_score(y_test, smote_pred))\r\n",
        "\r\n",
        "  estimator = GradientBoostingClassifier(subsample=0.85,learning_rate=0.075,max_depth= 88,max_features= 1,min_samples_leaf=3,min_samples_split= 5,n_estimators= 1000) #dt\r\n",
        "  estimator.fit(x_train,y_train)\r\n",
        "  smote_pred=estimator.predict(x_test)\r\n",
        "  ACC_test_dt.append(accuracy_score(y_test, smote_pred))\r\n",
        "  Per_test_dt.append(precision_score(y_test, smote_pred, average='micro'))\r\n",
        "  Recall_test_dt.append(recall_score(y_test, smote_pred))\r\n",
        "  f_test_dt.append(f1_score(y_test, smote_pred))\r\n",
        "\r\n",
        "  estimator = GradientBoostingClassifier(subsample=0.85,learning_rate=0.075,max_depth= 95,max_features= 1,min_samples_leaf=3,min_samples_split= 5,n_estimators= 1000) #svm\r\n",
        "  estimator.fit(x_train,y_train)\r\n",
        "  smote_pred=estimator.predict(x_test)\r\n",
        "  ACC_test_svm.append(accuracy_score(y_test, smote_pred))\r\n",
        "  Per_test_svm.append(precision_score(y_test, smote_pred, average='micro'))\r\n",
        "  Recall_test_svm.append(recall_score(y_test, smote_pred))\r\n",
        "  f_test_svm.append(f1_score(y_test, smote_pred))\r\n",
        "\r\n",
        "\r\n",
        "  estimator = GradientBoostingClassifier(subsample=0.85,learning_rate=0.075,max_depth= 93,max_features= 1,min_samples_leaf=3,min_samples_split= 7,n_estimators= 1000) #rf\r\n",
        "  estimator.fit(x_train,y_train)\r\n",
        "  smote_pred=estimator.predict(x_test)\r\n",
        "  ACC_test_rf.append(accuracy_score(y_test, smote_pred))\r\n",
        "  Per_test_rf.append(precision_score(y_test, smote_pred, average='micro'))\r\n",
        "  Recall_test_rf.append(recall_score(y_test, smote_pred))\r\n",
        "  f_test_rf.append(f1_score(y_test, smote_pred))\r\n",
        "\r\n",
        "  estimator = GradientBoostingClassifier(subsample=0.85,learning_rate=0.075,max_depth= 85,max_features= 1,min_samples_leaf=3,min_samples_split= 5,n_estimators= 1000)\r\n",
        "  estimator.fit(x_train,y_train)\r\n",
        "  smote_pred=estimator.predict(x_test)\r\n",
        "  ACC_test_gb.append(accuracy_score(y_test, smote_pred))\r\n",
        "  Per_test_gb.append(precision_score(y_test, smote_pred, average='micro'))\r\n",
        "  Recall_test_gb.append(recall_score(y_test, smote_pred))\r\n",
        "  f_test_gb.append(f1_score(y_test, smote_pred))\r\n",
        "\r\n",
        "  estimator = GradientBoostingClassifier(subsample=0.85,learning_rate=0.075,max_depth= 93,max_features= 1,min_samples_leaf=3,min_samples_split= 5,n_estimators= 1000)\r\n",
        "  estimator.fit(x_train,y_train)\r\n",
        "  smote_pred=estimator.predict(x_test)\r\n",
        "  ACC_test_nb.append(accuracy_score(y_test, smote_pred))\r\n",
        "  Per_test_nb.append(precision_score(y_test, smote_pred, average='micro'))\r\n",
        "  Recall_test_nb.append(recall_score(y_test, smote_pred))\r\n",
        "  f_test_nb.append(f1_score(y_test, smote_pred))\r\n",
        "\r\n",
        "## compute the mean of accuracy of the K-Fold datasets\r\n",
        "ACC_test_lr_mean = np.mean(ACC_test_lr); Per_test_lr_mean = np.mean(Per_test_lr);\r\n",
        "Recall_test_lr_mean = np.mean(Recall_test_lr);f_test_lr_mean = np.mean(f_test_lr);\r\n",
        "\r\n",
        " \r\n",
        "ACC_test_dt_mean = np.mean(ACC_test_dt);Per_test_dt_mean = np.mean(Per_test_dt);\r\n",
        "Recall_test_dt_mean = np.mean(Recall_test_dt);f_test_dt_mean = np.mean(f_test_dt);\r\n",
        "\r\n",
        "ACC_test_svm_mean = np.mean(ACC_test_svm); Per_test_svm_mean = np.mean(Per_test_svm);\r\n",
        "Recall_test_svm_mean = np.mean(Recall_test_svm);f_test_svm_mean = np.mean(f_test_svm);\r\n",
        "\r\n",
        "\r\n",
        "ACC_test_rf_mean = np.mean(ACC_test_rf);Per_test_rf_mean = np.mean(Per_test_rf);\r\n",
        "Recall_test_rf_mean = np.mean(Recall_test_rf);f_test_rf_mean = np.mean(f_test_rf);\r\n",
        "\r\n",
        "\r\n",
        "ACC_test_nb_mean = np.mean(ACC_test_nb); Per_test_nb_mean = np.mean(Per_test_nb);\r\n",
        "Recall_test_nb_mean = np.mean(Recall_test_nb);f_test_nb_mean = np.mean(f_test_nb);\r\n",
        "\r\n",
        "\r\n",
        "ACC_test_gb_mean = np.mean(ACC_test_gb); Per_test_gb_mean = np.mean(Per_test_gb);\r\n",
        "Recall_test_gb_mean = np.mean(Recall_test_gb);f_test_gb_mean = np.mean(f_test_gb);\r\n",
        "\r\n",
        "from prettytable import PrettyTable\r\n",
        "t = PrettyTable(['', '95 7' , '88 5' , '95 5' , '93 7','85 5', '93 5'])\r\n",
        "t.add_row(['Accuracy', ACC_test_lr_mean*100, ACC_test_dt_mean*100, ACC_test_svm_mean*100, ACC_test_rf_mean*100,ACC_test_gb_mean*100, ACC_test_nb_mean*100])\r\n",
        "t.add_row(['Precision', Per_test_lr_mean*100, Per_test_dt_mean*100, Per_test_svm_mean*100, Per_test_rf_mean*100, Per_test_gb_mean*100, Per_test_nb_mean*100])\r\n",
        "t.add_row(['Recall', Recall_test_lr_mean*100, Recall_test_dt_mean*100, Recall_test_svm_mean*100, Recall_test_rf_mean*100, Recall_test_gb_mean*100, Recall_test_nb_mean*100])\r\n",
        "t.add_row(['f1_Score', f_test_lr_mean*100,f_test_dt_mean*100, f_test_svm_mean*100, f_test_rf_mean*100, f_test_gb_mean*100, f_test_nb_mean*100])\r\n",
        "print(t)#subsample=0.85,learning_rate=0.05,"
      ],
      "execution_count": null,
      "outputs": []
    },
    {
      "cell_type": "markdown",
      "metadata": {
        "id": "lOdt0JqTCi-_"
      },
      "source": [
        "# Gradient Boosting Classifier"
      ]
    },
    {
      "cell_type": "code",
      "metadata": {
        "id": "ys6R-Wwfoaig",
        "colab": {
          "base_uri": "https://localhost:8080/",
          "height": 511
        },
        "outputId": "606f4fd1-1588-484c-82f8-54dea4e6847e"
      },
      "source": [
        "from sklearn.model_selection import GridSearchCV\r\n",
        "\r\n",
        "estimator= GradientBoostingClassifier(random_state=0, warm_start = True)\r\n",
        "#estimator=GridSearchCV(rf1, cv = 3, n_jobs = -1, verbose = 2)\r\n",
        "estimator.fit(x_train,y_train)\r\n",
        "smote_pred=estimator.predict(x_test)\r\n",
        "acc_test_smote= accuracy_score(y_test, smote_pred)*100\r\n",
        "acc_pr_smote = precision_score(y_test, smote_pred, average='micro')*100\r\n",
        "acc_recall_smote= recall_score(y_test, smote_pred)*100\r\n",
        "acc_f1_smote= f1_score(y_test, smote_pred)*100\r\n",
        "print('accuracy_score= ', acc_test_smote)\r\n",
        "print('pr_score= ', acc_pr_smote)\r\n",
        "print('recall_score= ', acc_recall_smote)\r\n",
        "print('f1_score= ', acc_f1_smote)\r\n",
        "plot_confusion_matrix(estimator, x_test, y_test)\r\n",
        "plt.show()\r\n",
        "from sklearn.metrics import classification_report, recall_score, precision_score, accuracy_score \r\n",
        "classification_report_actual = classification_report(y_test,smote_pred ) \r\n",
        "print(classification_report_actual )"
      ],
      "execution_count": 10,
      "outputs": [
        {
          "output_type": "stream",
          "text": [
            "accuracy_score=  94.96402877697841\n",
            "pr_score=  94.96402877697841\n",
            "recall_score=  83.80952380952381\n",
            "f1_score=  80.73394495412845\n"
          ],
          "name": "stdout"
        },
        {
          "output_type": "display_data",
          "data": {
            "image/png": "[encoded data removed]",
            "text/plain": [
              "<Figure size 432x288 with 2 Axes>"
            ]
          },
          "metadata": {
            "tags": [],
            "needs_background": "light"
          }
        },
        {
          "output_type": "stream",
          "text": [
            "              precision    recall  f1-score   support\n",
            "\n",
            "           0       0.98      0.97      0.97       729\n",
            "           1       0.78      0.84      0.81       105\n",
            "\n",
            "    accuracy                           0.95       834\n",
            "   macro avg       0.88      0.90      0.89       834\n",
            "weighted avg       0.95      0.95      0.95       834\n",
            "\n"
          ],
          "name": "stdout"
        }
      ]
    },
    {
      "cell_type": "markdown",
      "metadata": {
        "id": "1xshtnfbC352"
      },
      "source": [
        "# Random Forest Classifier"
      ]
    },
    {
      "cell_type": "code",
      "metadata": {
        "id": "VsfvKwsmkW1T",
        "colab": {
          "base_uri": "https://localhost:8080/",
          "height": 509
        },
        "outputId": "c35754f2-60c2-48b3-fc45-3b5dd059757b"
      },
      "source": [
        "from sklearn.model_selection import cross_val_score, train_test_split, KFold, StratifiedShuffleSplit, GridSearchCV\r\n",
        "positive_weight = sum(y_train == 0) / sum(y_train == 1) \r\n",
        "estimator = RandomForestClassifier(random_state=0, class_weight = {0 : 1, 1 : positive_weight}, warm_start = True, n_jobs = 10, oob_score = True)\r\n",
        "estimator.fit(x_train,y_train)\r\n",
        "smote_pred=estimator.predict(x_test)\r\n",
        "acc_test_smote= accuracy_score(y_test, smote_pred)*100\r\n",
        "acc_pr_smote = precision_score(y_test, smote_pred, average='micro')*100\r\n",
        "acc_recall_smote= recall_score(y_test, smote_pred)*100\r\n",
        "acc_f1_smote= f1_score(y_test, smote_pred)*100\r\n",
        "print('accuracy_score= ', acc_test_smote)\r\n",
        "print('pr_score= ', acc_pr_smote)\r\n",
        "print('recall_score= ', acc_recall_smote)\r\n",
        "print('f1_score= ', acc_f1_smote)\r\n",
        "plot_confusion_matrix(estimator, x_test, y_test)\r\n",
        "plt.show()\r\n",
        "from sklearn.metrics import classification_report, recall_score, precision_score, accuracy_score \r\n",
        "classification_report_actual = classification_report(y_test,smote_pred ) \r\n",
        "print(classification_report_actual )"
      ],
      "execution_count": 11,
      "outputs": [
        {
          "output_type": "stream",
          "text": [
            "accuracy_score=  95.56354916067147\n",
            "pr_score=  95.56354916067147\n",
            "recall_score=  80.95238095238095\n",
            "f1_score=  82.1256038647343\n"
          ],
          "name": "stdout"
        },
        {
          "output_type": "display_data",
          "data": {
            "image/png": "[encoded data removed]",
            "text/plain": [
              "<Figure size 432x288 with 2 Axes>"
            ]
          },
          "metadata": {
            "tags": [],
            "needs_background": "light"
          }
        },
        {
          "output_type": "stream",
          "text": [
            "              precision    recall  f1-score   support\n",
            "\n",
            "           0       0.97      0.98      0.97       729\n",
            "           1       0.83      0.81      0.82       105\n",
            "\n",
            "    accuracy                           0.96       834\n",
            "   macro avg       0.90      0.89      0.90       834\n",
            "weighted avg       0.96      0.96      0.96       834\n",
            "\n"
          ],
          "name": "stdout"
        }
      ]
    },
    {
      "cell_type": "markdown",
      "metadata": {
        "id": "Lrge6RzWvYj4"
      },
      "source": [
        "# K-Fold Cross Validation "
      ]
    },
    {
      "cell_type": "code",
      "metadata": {
        "colab": {
          "base_uri": "https://localhost:8080/"
        },
        "id": "ggxCobTYiSo-",
        "outputId": "3f92af9f-3867-4415-9d8c-6bae44f5c78a"
      },
      "source": [
        "\r\n",
        "y = trainingData['churn']\r\n",
        "x = trainingData.drop({'churn'}, axis=1)\r\n",
        "scaler = preprocessing.StandardScaler()\r\n",
        "x = scaler.fit_transform(x)\r\n",
        "sm = SMOTE(random_state=27, ratio=1.0)\r\n",
        "x,y= sm.fit_sample(x,y)\r\n",
        "print(x.shape[0], y.shape[0])\r\n",
        "z=0\r\n",
        "zz=0\r\n",
        "for i in y:\r\n",
        "  if i ==1:\r\n",
        "    z+=1\r\n",
        "  else:\r\n",
        "    zz+=1\r\n",
        "print(z)\r\n",
        "print(zz)\r\n",
        "print(z+zz)\r\n"
      ],
      "execution_count": 71,
      "outputs": [
        {
          "output_type": "stream",
          "text": [
            "5700 5700\n",
            "2850\n",
            "2850\n",
            "5700\n"
          ],
          "name": "stdout"
        },
        {
          "output_type": "stream",
          "text": [
            "/usr/local/lib/python3.6/dist-packages/sklearn/utils/deprecation.py:87: FutureWarning:\n",
            "\n",
            "Function safe_indexing is deprecated; safe_indexing is deprecated in version 0.22 and will be removed in version 0.24.\n",
            "\n"
          ],
          "name": "stderr"
        }
      ]
    },
    {
      "cell_type": "markdown",
      "metadata": {
        "id": "47os_AHv-IqA"
      },
      "source": [
        "# Hyper"
      ]
    },
    {
      "cell_type": "code",
      "metadata": {
        "colab": {
          "base_uri": "https://localhost:8080/"
        },
        "id": "p0hjSgBK0X0q",
        "outputId": "6d66b64c-2723-4010-d522-1bb2d72b51c6"
      },
      "source": [
        "####trying to improve RandomForest by tuning hyperparameters\r\n",
        "\r\n",
        "from sklearn.model_selection import RandomizedSearchCV\r\n",
        "# number of trees in random forest\r\n",
        "n_estimators = [int(x) for x in np.linspace(start = 200, stop = 2000, num = 10)]\r\n",
        "# number of features at every split\r\n",
        "max_features = ['auto', 'sqrt']\r\n",
        "\r\n",
        "# max depth\r\n",
        "max_depth = [int(x) for x in np.linspace(100, 500, num = 11)]\r\n",
        "max_depth.append(None)\r\n",
        "# create random grid\r\n",
        "random_grid = {\r\n",
        "'n_estimators': n_estimators,\r\n",
        "'max_features': max_features,\r\n",
        "'max_depth': max_depth\r\n",
        " }\r\n",
        "# Random search of parameters\r\n",
        "rfc_random = RandomizedSearchCV(estimator = RandomForestClassifier(), param_distributions = random_grid, n_iter = 10, cv = 3, verbose=2, random_state=27, n_jobs = 50)\r\n",
        "# Fit the model\r\n",
        "rfc_random.fit(x_train, y_train)\r\n",
        "# print results\r\n",
        "print(rfc_random.best_params_)"
      ],
      "execution_count": null,
      "outputs": [
        {
          "output_type": "stream",
          "text": [
            "Fitting 3 folds for each of 10 candidates, totalling 30 fits\n"
          ],
          "name": "stdout"
        },
        {
          "output_type": "stream",
          "text": [
            "[Parallel(n_jobs=50)]: Using backend LokyBackend with 50 concurrent workers.\n",
            "[Parallel(n_jobs=50)]: Done  11 out of  30 | elapsed:  2.4min remaining:  4.1min\n",
            "[Parallel(n_jobs=50)]: Done  27 out of  30 | elapsed:  3.8min remaining:   25.3s\n",
            "[Parallel(n_jobs=50)]: Done  30 out of  30 | elapsed:  4.0min finished\n"
          ],
          "name": "stderr"
        },
        {
          "output_type": "stream",
          "text": [
            "{'n_estimators': 1800, 'max_features': 'sqrt', 'max_depth': None}\n"
          ],
          "name": "stdout"
        }
      ]
    },
    {
      "cell_type": "code",
      "metadata": {
        "id": "GZzm_H372-XO"
      },
      "source": [
        "bootstrap= True,max_depth= 100,max_features= 2,min_samples_leaf=3,min_samples_split= 8,n_estimators= 1000"
      ],
      "execution_count": null,
      "outputs": []
    },
    {
      "cell_type": "code",
      "metadata": {
        "id": "DzRcV_rzqyDj",
        "outputId": "5a7a4441-8751-4b61-8812-1684678b3091",
        "colab": {
          "base_uri": "https://localhost:8080/"
        }
      },
      "source": [
        "from sklearn.model_selection import GridSearchCV\r\n",
        "# Create the parameter grid based on the results of random search \r\n",
        "param_grid = {\r\n",
        "    'max_depth': [85],\r\n",
        "    'max_features': [1],\r\n",
        "    'min_samples_leaf': [3],\r\n",
        "    'min_samples_split': [5],\r\n",
        "    'n_estimators': [1000]\r\n",
        "\r\n",
        "}\r\n",
        "\r\n",
        "# Create a based model\r\n",
        "rf = GradientBoostingClassifier(learning_rate=0.1, subsample=0.8)\r\n",
        "# Instantiate the grid search model\r\n",
        "grid_search = GridSearchCV(estimator = rf, param_grid = param_grid,cv = 3, n_jobs = -1, verbose = 2)\r\n",
        "# Fit the grid search to the data\r\n",
        "grid_search.fit(x_train, y_train)\r\n",
        "grid_search.best_params_"
      ],
      "execution_count": 51,
      "outputs": [
        {
          "output_type": "stream",
          "text": [
            "Fitting 3 folds for each of 1 candidates, totalling 3 fits\n"
          ],
          "name": "stdout"
        },
        {
          "output_type": "stream",
          "text": [
            "[Parallel(n_jobs=-1)]: Using backend LokyBackend with 2 concurrent workers.\n",
            "[Parallel(n_jobs=-1)]: Done   3 out of   3 | elapsed:    9.5s finished\n"
          ],
          "name": "stderr"
        },
        {
          "output_type": "execute_result",
          "data": {
            "text/plain": [
              "{'max_depth': 85,\n",
              " 'max_features': 1,\n",
              " 'min_samples_leaf': 3,\n",
              " 'min_samples_split': 5,\n",
              " 'n_estimators': 1000}"
            ]
          },
          "metadata": {
            "tags": []
          },
          "execution_count": 51
        }
      ]
    },
    {
      "cell_type": "code",
      "metadata": {
        "id": "3D7MdIjm9rma"
      },
      "source": [
        "'max_depth': 95,\r\n",
        " 'max_features': 1,\r\n",
        " 'min_samples_leaf': 3,\r\n",
        " 'min_samples_split': 7,\r\n",
        " 'n_estimators': 1000"
      ],
      "execution_count": null,
      "outputs": []
    },
    {
      "cell_type": "code",
      "metadata": {
        "id": "Fu1faD3r_DdY"
      },
      "source": [
        "'max_depth': 93,\r\n",
        " 'max_features': 1,\r\n",
        " 'min_samples_leaf': 3,\r\n",
        " 'min_samples_split': 6,\r\n",
        " 'n_estimators': 1000"
      ],
      "execution_count": null,
      "outputs": []
    },
    {
      "cell_type": "code",
      "metadata": {
        "id": "QThAnfoFgQ_q",
        "outputId": "63ea7818-cd77-4969-b03c-03f5325efd3c",
        "colab": {
          "base_uri": "https://localhost:8080/"
        }
      },
      "source": [
        "from sklearn.model_selection import KFold\r\n",
        "kf = KFold( n_splits = 4 )\r\n",
        "\r\n",
        "##LR\r\n",
        "from sklearn.linear_model import LogisticRegression\r\n",
        "ACC_test_lr = []; Per_test_lr = []; Recall_test_lr = [];f_test_lr = [];\r\n",
        "\r\n",
        "##DT\r\n",
        "from sklearn.tree import DecisionTreeClassifier\r\n",
        "ACC_test_dt = []; Per_test_dt = [];Recall_test_dt = [];f_test_dt = [];\r\n",
        "\r\n",
        "\r\n",
        "##SVM\r\n",
        "from sklearn.svm import SVC\r\n",
        "ACC_test_svm = []; Per_test_svm = [];Recall_test_svm = [];f_test_svm = [];\r\n",
        "\r\n",
        "\r\n",
        "##RF\r\n",
        "from sklearn.ensemble import RandomForestClassifier\r\n",
        "ACC_test_rf = []; Per_test_rf = [];Recall_test_rf = [];f_test_rf = [];\r\n",
        "\r\n",
        "\r\n",
        "##NB\r\n",
        "from sklearn.naive_bayes import GaussianNB\r\n",
        "ACC_test_nb = []; Per_test_nb = [];Recall_test_nb = [];f_test_nb = [];\r\n",
        "\r\n",
        "\r\n",
        "ACC_test_gb = []; Per_test_gb = [];Recall_test_gb = [];f_test_gb = [];\r\n",
        "\r\n",
        "import numpy as np\r\n",
        "for train_index,test_index in kf.split(range(x.shape[0])):\r\n",
        "  y_train = [y[i] for i in train_index]\r\n",
        "  y_test = [y[i] for i in test_index]\r\n",
        "  x_train = [np.array(x)[i,:] for i in train_index]\r\n",
        "  x_test = [np.array(x)[i,:] for i in test_index]\r\n",
        "   \r\n",
        "\r\n",
        "\r\n",
        "  estimator = GradientBoostingClassifier(subsample=0.85,learning_rate=0.05,max_depth= 95,max_features= 1,min_samples_leaf=3,min_samples_split= 7,n_estimators= 1000) #lg\r\n",
        "  estimator.fit(x_train,y_train)\r\n",
        "  smote_pred=estimator.predict(x_test)\r\n",
        "  ACC_test_lr.append(accuracy_score(y_test, smote_pred))\r\n",
        "  Per_test_lr.append(precision_score(y_test, smote_pred, average='micro'))\r\n",
        "  Recall_test_lr.append(recall_score(y_test, smote_pred))\r\n",
        "  f_test_lr.append(f1_score(y_test, smote_pred))\r\n",
        "\r\n",
        "  estimator = GradientBoostingClassifier(subsample=0.85,learning_rate=0.05,max_depth= 88,max_features= 1,min_samples_leaf=3,min_samples_split= 5,n_estimators= 1000) #dt\r\n",
        "  estimator.fit(x_train,y_train)\r\n",
        "  smote_pred=estimator.predict(x_test)\r\n",
        "  ACC_test_dt.append(accuracy_score(y_test, smote_pred))\r\n",
        "  Per_test_dt.append(precision_score(y_test, smote_pred, average='micro'))\r\n",
        "  Recall_test_dt.append(recall_score(y_test, smote_pred))\r\n",
        "  f_test_dt.append(f1_score(y_test, smote_pred))\r\n",
        "\r\n",
        "  estimator = GradientBoostingClassifier(subsample=0.85,learning_rate=0.05,max_depth= 95,max_features= 1,min_samples_leaf=3,min_samples_split= 5,n_estimators= 1000) #svm\r\n",
        "  estimator.fit(x_train,y_train)\r\n",
        "  smote_pred=estimator.predict(x_test)\r\n",
        "  ACC_test_svm.append(accuracy_score(y_test, smote_pred))\r\n",
        "  Per_test_svm.append(precision_score(y_test, smote_pred, average='micro'))\r\n",
        "  Recall_test_svm.append(recall_score(y_test, smote_pred))\r\n",
        "  f_test_svm.append(f1_score(y_test, smote_pred))\r\n",
        "\r\n",
        "\r\n",
        "  estimator = GradientBoostingClassifier(subsample=0.85,learning_rate=0.05,max_depth= 93,max_features= 1,min_samples_leaf=3,min_samples_split= 7,n_estimators= 1000) #rf\r\n",
        "  estimator.fit(x_train,y_train)\r\n",
        "  smote_pred=estimator.predict(x_test)\r\n",
        "  ACC_test_rf.append(accuracy_score(y_test, smote_pred))\r\n",
        "  Per_test_rf.append(precision_score(y_test, smote_pred, average='micro'))\r\n",
        "  Recall_test_rf.append(recall_score(y_test, smote_pred))\r\n",
        "  f_test_rf.append(f1_score(y_test, smote_pred))\r\n",
        "\r\n",
        "  estimator = GradientBoostingClassifier(subsample=0.85,learning_rate=0.05,max_depth= 85,max_features= 1,min_samples_leaf=3,min_samples_split= 5,n_estimators= 1000)\r\n",
        "  estimator.fit(x_train,y_train)\r\n",
        "  smote_pred=estimator.predict(x_test)\r\n",
        "  ACC_test_gb.append(accuracy_score(y_test, smote_pred))\r\n",
        "  Per_test_gb.append(precision_score(y_test, smote_pred, average='micro'))\r\n",
        "  Recall_test_gb.append(recall_score(y_test, smote_pred))\r\n",
        "  f_test_gb.append(f1_score(y_test, smote_pred))\r\n",
        "\r\n",
        "  estimator = GradientBoostingClassifier(subsample=0.85,learning_rate=0.05,max_depth= 93,max_features= 1,min_samples_leaf=3,min_samples_split= 5,n_estimators= 1000)\r\n",
        "  estimator.fit(x_train,y_train)\r\n",
        "  smote_pred=estimator.predict(x_test)\r\n",
        "  ACC_test_nb.append(accuracy_score(y_test, smote_pred))\r\n",
        "  Per_test_nb.append(precision_score(y_test, smote_pred, average='micro'))\r\n",
        "  Recall_test_nb.append(recall_score(y_test, smote_pred))\r\n",
        "  f_test_nb.append(f1_score(y_test, smote_pred))\r\n",
        "\r\n",
        "## compute the mean of accuracy of the K-Fold datasets\r\n",
        "ACC_test_lr_mean = np.mean(ACC_test_lr); Per_test_lr_mean = np.mean(Per_test_lr);\r\n",
        "Recall_test_lr_mean = np.mean(Recall_test_lr);f_test_lr_mean = np.mean(f_test_lr);\r\n",
        "\r\n",
        " \r\n",
        "ACC_test_dt_mean = np.mean(ACC_test_dt);Per_test_dt_mean = np.mean(Per_test_dt);\r\n",
        "Recall_test_dt_mean = np.mean(Recall_test_dt);f_test_dt_mean = np.mean(f_test_dt);\r\n",
        "\r\n",
        "ACC_test_svm_mean = np.mean(ACC_test_svm); Per_test_svm_mean = np.mean(Per_test_svm);\r\n",
        "Recall_test_svm_mean = np.mean(Recall_test_svm);f_test_svm_mean = np.mean(f_test_svm);\r\n",
        "\r\n",
        "\r\n",
        "ACC_test_rf_mean = np.mean(ACC_test_rf);Per_test_rf_mean = np.mean(Per_test_rf);\r\n",
        "Recall_test_rf_mean = np.mean(Recall_test_rf);f_test_rf_mean = np.mean(f_test_rf);\r\n",
        "\r\n",
        "\r\n",
        "ACC_test_nb_mean = np.mean(ACC_test_nb); Per_test_nb_mean = np.mean(Per_test_nb);\r\n",
        "Recall_test_nb_mean = np.mean(Recall_test_nb);f_test_nb_mean = np.mean(f_test_nb);\r\n",
        "\r\n",
        "\r\n",
        "ACC_test_gb_mean = np.mean(ACC_test_gb); Per_test_gb_mean = np.mean(Per_test_gb);\r\n",
        "Recall_test_gb_mean = np.mean(Recall_test_gb);f_test_gb_mean = np.mean(f_test_gb);\r\n",
        "\r\n",
        "from prettytable import PrettyTable\r\n",
        "t = PrettyTable(['', '95 7' , '88 5' , '95 5' , '93 7','85 5', '93 5'])\r\n",
        "t.add_row(['Accuracy', ACC_test_lr_mean*100, ACC_test_dt_mean*100, ACC_test_svm_mean*100, ACC_test_rf_mean*100,ACC_test_gb_mean*100, ACC_test_nb_mean*100])\r\n",
        "t.add_row(['Precision', Per_test_lr_mean*100, Per_test_dt_mean*100, Per_test_svm_mean*100, Per_test_rf_mean*100, Per_test_gb_mean*100, Per_test_nb_mean*100])\r\n",
        "t.add_row(['Recall', Recall_test_lr_mean*100, Recall_test_dt_mean*100, Recall_test_svm_mean*100, Recall_test_rf_mean*100, Recall_test_gb_mean*100, Recall_test_nb_mean*100])\r\n",
        "t.add_row(['f1_Score', f_test_lr_mean*100,f_test_dt_mean*100, f_test_svm_mean*100, f_test_rf_mean*100, f_test_gb_mean*100, f_test_nb_mean*100])\r\n",
        "print(t)#subsample=0.85,learning_rate=0.05,"
      ],
      "execution_count": 76,
      "outputs": [
        {
          "output_type": "stream",
          "text": [
            "+-----------+-------------------+-------------------+-------------------+-------------------+-------------------+-------------------+\n",
            "|           |        95 7       |        88 5       |        95 5       |        93 7       |        85 5       |        93 5       |\n",
            "+-----------+-------------------+-------------------+-------------------+-------------------+-------------------+-------------------+\n",
            "|  Accuracy | 96.03508771929825 | 95.68421052631578 | 95.77192982456141 | 95.77192982456141 | 95.45614035087719 | 95.87719298245614 |\n",
            "| Precision | 96.03508771929825 | 95.68421052631578 | 95.77192982456141 | 95.77192982456141 | 95.45614035087719 | 95.87719298245614 |\n",
            "|   Recall  | 93.85340835205409 | 93.29982473589973 | 93.61517761463543 | 93.00913565010177 | 93.20154377736112 | 93.56263265097209 |\n",
            "|  f1_Score | 91.50862143715065 | 90.75740111017132 |  91.0238052150219 | 90.91471818988848 | 90.44668536173552 | 91.28988967001348 |\n",
            "+-----------+-------------------+-------------------+-------------------+-------------------+-------------------+-------------------+\n"
          ],
          "name": "stdout"
        }
      ]
    }
  ]
}