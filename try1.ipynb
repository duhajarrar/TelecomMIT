{
  "nbformat": 4,
  "nbformat_minor": 0,
  "metadata": {
    "colab": {
      "name": "BEST.ipynb",
      "provenance": [],
      "collapsed_sections": [],
      "mount_file_id": "1rZRaSqBiXphu58OuMtDxC3tZNuXWH0WF",
      "authorship_tag": "ABX9TyNbJTsimuUEFSqDuc+6GB5h",
      "include_colab_link": true
    },
    "kernelspec": {
      "name": "python3",
      "display_name": "Python 3"
    }
  },
  "cells": [
    {
      "cell_type": "markdown",
      "metadata": {
        "id": "view-in-github",
        "colab_type": "text"
      },
      "source": [
        "<a href=\"https://colab.research.google.com/github/duhajarrar/TelecomMIT/blob/main/try1.ipynb\" target=\"_parent\"><img src=\"https://colab.research.google.com/assets/colab-badge.svg\" alt=\"Open In Colab\"/></a>"
      ]
    },
    {
      "cell_type": "code",
      "metadata": {
        "colab": {
          "base_uri": "https://localhost:8080/"
        },
        "id": "-GZ7WT-CCtk2",
        "outputId": "576d61c7-726e-4c79-f33e-518e02ff9e2b"
      },
      "source": [
        "import pandas as pd\r\n",
        "import numpy as np\r\n",
        "from sklearn.feature_selection import SelectKBest\r\n",
        "from sklearn.feature_selection import chi2\r\n",
        "import seaborn as sns\r\n",
        "from sklearn import preprocessing\r\n",
        "from sklearn.ensemble import ExtraTreesClassifier\r\n",
        "import matplotlib.pyplot as plt\r\n",
        "from matplotlib.pyplot import hist\r\n",
        "import plotly.express as px\r\n",
        "import tensorflow as tf\r\n",
        "from imblearn.over_sampling import SMOTE\r\n",
        "import sklearn\r\n",
        "from sklearn.model_selection import train_test_split\r\n",
        "from sklearn.metrics import accuracy_score, plot_confusion_matrix\r\n",
        "from sklearn.model_selection import train_test_split\r\n",
        "import matplotlib.pyplot as plt\r\n",
        "from sklearn.model_selection import cross_val_score\r\n",
        "from sklearn.metrics import accuracy_score\r\n",
        "from sklearn.metrics import precision_score\r\n",
        "from sklearn.metrics import f1_score\r\n",
        "from sklearn.metrics import recall_score\r\n",
        "from sklearn.model_selection import cross_val_score\r\n",
        "from sklearn.model_selection import StratifiedKFold\r\n",
        "from sklearn.model_selection import GridSearchCV\r\n",
        "from xgboost import XGBClassifier\r\n",
        "\r\n",
        "import xgboost\r\n",
        "trainingData = pd.read_csv(\"drive/MyDrive/telecom.csv\")\r\n",
        "\r\n",
        "label_encoder = preprocessing.LabelEncoder()\r\n",
        "trainingData['state'] = label_encoder.fit_transform(trainingData['state'])\r\n",
        "trainingData['international plan'] = label_encoder.fit_transform(trainingData['international plan'])\r\n",
        "trainingData['voice mail plan'] = label_encoder.fit_transform(trainingData['voice mail plan'])\r\n",
        "trainingData['churn'] = label_encoder.fit_transform(trainingData['churn'])\r\n",
        "trainingData['phone number'] = label_encoder.fit_transform(trainingData['phone number'])\r\n",
        "for i in range(len(trainingData.columns)):\r\n",
        "  trainingData.rename(columns={trainingData.columns[i]: trainingData.columns[i].replace(r' ','_')}, inplace=True)\r\n",
        "\r\n",
        "trainingData.info()"
      ],
      "execution_count": 1,
      "outputs": [
        {
          "output_type": "stream",
          "text": [
            "/usr/local/lib/python3.6/dist-packages/sklearn/externals/six.py:31: FutureWarning:\n",
            "\n",
            "The module is deprecated in version 0.21 and will be removed in version 0.23 since we've dropped support for Python 2.7. Please rely on the official version of six (https://pypi.org/project/six/).\n",
            "\n",
            "/usr/local/lib/python3.6/dist-packages/sklearn/utils/deprecation.py:144: FutureWarning:\n",
            "\n",
            "The sklearn.neighbors.base module is  deprecated in version 0.22 and will be removed in version 0.24. The corresponding classes / functions should instead be imported from sklearn.neighbors. Anything that cannot be imported from sklearn.neighbors is now part of the private API.\n",
            "\n"
          ],
          "name": "stderr"
        },
        {
          "output_type": "stream",
          "text": [
            "<class 'pandas.core.frame.DataFrame'>\n",
            "RangeIndex: 3333 entries, 0 to 3332\n",
            "Data columns (total 21 columns):\n",
            " #   Column                  Non-Null Count  Dtype  \n",
            "---  ------                  --------------  -----  \n",
            " 0   state                   3333 non-null   int64  \n",
            " 1   account_length          3333 non-null   int64  \n",
            " 2   area_code               3333 non-null   int64  \n",
            " 3   phone_number            3333 non-null   int64  \n",
            " 4   international_plan      3333 non-null   int64  \n",
            " 5   voice_mail_plan         3333 non-null   int64  \n",
            " 6   number_vmail_messages   3333 non-null   int64  \n",
            " 7   total_day_minutes       3333 non-null   float64\n",
            " 8   total_day_calls         3333 non-null   int64  \n",
            " 9   total_day_charge        3333 non-null   float64\n",
            " 10  total_eve_minutes       3333 non-null   float64\n",
            " 11  total_eve_calls         3333 non-null   int64  \n",
            " 12  total_eve_charge        3333 non-null   float64\n",
            " 13  total_night_minutes     3333 non-null   float64\n",
            " 14  total_night_calls       3333 non-null   int64  \n",
            " 15  total_night_charge      3333 non-null   float64\n",
            " 16  total_intl_minutes      3333 non-null   float64\n",
            " 17  total_intl_calls        3333 non-null   int64  \n",
            " 18  total_intl_charge       3333 non-null   float64\n",
            " 19  customer_service_calls  3333 non-null   int64  \n",
            " 20  churn                   3333 non-null   int64  \n",
            "dtypes: float64(8), int64(13)\n",
            "memory usage: 546.9 KB\n"
          ],
          "name": "stdout"
        }
      ]
    },
    {
      "cell_type": "code",
      "metadata": {
        "colab": {
          "base_uri": "https://localhost:8080/"
        },
        "id": "f_2wVmJZC1NS",
        "outputId": "473da27a-4374-42ee-e94e-faff64563ef3"
      },
      "source": [
        "\r\n",
        "y = trainingData['churn']\r\n",
        "x = trainingData.drop({'churn'}, axis=1)\r\n",
        "scaler = preprocessing.StandardScaler()\r\n",
        "x = scaler.fit_transform(x)\r\n",
        "sm = SMOTE(random_state=27, ratio=1.0)\r\n",
        "x,y= sm.fit_sample(x,y)\r\n",
        "print(x.shape[0], y.shape[0])\r\n",
        "z=0\r\n",
        "zz=0\r\n",
        "for i in y:\r\n",
        "  if i ==1:\r\n",
        "    z+=1\r\n",
        "  else:\r\n",
        "    zz+=1\r\n",
        "print(z)\r\n",
        "print(zz)\r\n",
        "print(z+zz)\r\n"
      ],
      "execution_count": null,
      "outputs": [
        {
          "output_type": "stream",
          "text": [
            "5700 5700\n",
            "2850\n",
            "2850\n",
            "5700\n"
          ],
          "name": "stdout"
        },
        {
          "output_type": "stream",
          "text": [
            "/usr/local/lib/python3.6/dist-packages/sklearn/utils/deprecation.py:87: FutureWarning:\n",
            "\n",
            "Function safe_indexing is deprecated; safe_indexing is deprecated in version 0.22 and will be removed in version 0.24.\n",
            "\n"
          ],
          "name": "stderr"
        }
      ]
    },
    {
      "cell_type": "code",
      "metadata": {
        "id": "6tV_hkcfLf1N"
      },
      "source": [
        "# accuracy  :  0.9735087719298245\r\n",
        "# precision  :  0.9774047979522766\r\n",
        "# recall  :  0.9694736842105263\r\n",
        "# f1  :  0.9733970982550311\r\n",
        "# max_depth': 88,\r\n",
        "#  'max_features': 1,\r\n",
        "#  'min_samples_leaf': 2,\r\n",
        "#  'min_samples_split': 3,\r\n",
        "#  'n_estimators': 1500"
      ],
      "execution_count": null,
      "outputs": []
    },
    {
      "cell_type": "code",
      "metadata": {
        "id": "2WdEobu5C8h5"
      },
      "source": [
        "#beeeeeeeeeeest\r\n",
        "import xgboost\r\n",
        "from sklearn.model_selection import StratifiedKFold\r\n",
        "from sklearn.model_selection import cross_val_score\r\n",
        "\r\n",
        "model =  RandomForestClassifier(subsample=0.85,learning_rate=0.3,max_depth= 95,max_features=1,min_samples_leaf=3,min_samples_split= 3,n_estimators= 1000)\r\n",
        "kfold = StratifiedKFold(n_splits=10,random_state=10,shuffle=True)\r\n",
        "print(model)\r\n",
        "for score in [\"accuracy\", \"precision\", \"recall\",\"f1\"]:\r\n",
        "  print( score,\" : \",cross_val_score(model, x,y,scoring=score, cv=kfold).mean())"
      ],
      "execution_count": null,
      "outputs": []
    },
    {
      "cell_type": "code",
      "metadata": {
        "colab": {
          "base_uri": "https://localhost:8080/"
        },
        "id": "Pla6IUjGJvkR",
        "outputId": "0b192044-f567-4e92-f68e-92a479d4a3a7"
      },
      "source": [
        "\r\n",
        "y = trainingData['churn']\r\n",
        "x = trainingData.drop({'churn'}, axis=1)\r\n",
        "sm = SMOTE(random_state=27, ratio=1.0)\r\n",
        "x,y = sm.fit_sample(x, y)\r\n",
        "scaler = preprocessing.StandardScaler()\r\n",
        "x = scaler.fit_transform(x)\r\n",
        "x_train, x_test, y_train, y_test = train_test_split(x, y, test_size=0.25, random_state=27)\r\n",
        "print(x_train.shape[0], y_train.shape[0])\r\n",
        "z=0\r\n",
        "for i in y_train:\r\n",
        "  if i ==1:\r\n",
        "    z+=1\r\n",
        "print(z)\r\n"
      ],
      "execution_count": 2,
      "outputs": [
        {
          "output_type": "stream",
          "text": [
            "4275 4275\n",
            "2143\n"
          ],
          "name": "stdout"
        },
        {
          "output_type": "stream",
          "text": [
            "/usr/local/lib/python3.6/dist-packages/sklearn/utils/deprecation.py:87: FutureWarning:\n",
            "\n",
            "Function safe_indexing is deprecated; safe_indexing is deprecated in version 0.22 and will be removed in version 0.24.\n",
            "\n"
          ],
          "name": "stderr"
        }
      ]
    },
    {
      "cell_type": "code",
      "metadata": {
        "colab": {
          "base_uri": "https://localhost:8080/"
        },
        "id": "twr3x1oDQquX",
        "outputId": "ac4e85e2-2ffa-4acc-9d49-2c65d876e8da"
      },
      "source": [
        "import json\r\n",
        "import pickle\r\n",
        "from sklearn.ensemble import RandomForestClassifier\r\n",
        "def pred_vect(x): #columns\r\n",
        "    label_encoder = preprocessing.LabelEncoder()\r\n",
        "    vect ={}\r\n",
        "    v= x.split(',')\r\n",
        "    print(\"here2222\")\r\n",
        "    # vect['state']=int(v[0])\r\n",
        "    # vect['account_length'] =int(v[1])\r\n",
        "    # vect['area_code']=int(v[2])\r\n",
        "    # vect['phone_number']=int(v[3])\r\n",
        "    # vect['international_plan']=int(4)\r\n",
        "    # vect['voice_mail_plan']=int(5)\r\n",
        "    # vect['number_vmail_messages']=int(v[6])\r\n",
        "    # vect['total_day_minutes'] =float(v[7])\r\n",
        "    # vect['total_day_calls']=int(v[8])\r\n",
        "    # vect['total_day_charge']=float(v[9])\r\n",
        "    # print(\"here3333\")\r\n",
        "    # vect['total_eve_minutes']=float(v[10])\r\n",
        "    # vect['total_eve_calls']=int(v[11])\r\n",
        "    # vect['total_eve_charge']=float(v[12])\r\n",
        "    # vect['total_night_minutes'] =float(v[13])\r\n",
        "    # vect['total_night_calls']=int(v[14])\r\n",
        "    # vect['total_night_charge']=float(v[15])\r\n",
        "    # vect['total_intl_minutes']=float(v[16])\r\n",
        "    # vect['total_intl_calls']  =int(v[17])\r\n",
        "    # vect['total_intl_charge']=float(v[18])\r\n",
        "    # vect['customer_service_calls']=int(v[19])\r\n",
        "    #s=pd.DataFrame(vect)\r\n",
        "    #print(s.head())\r\n",
        "    return vect\r\n",
        "kfold = StratifiedKFold(n_splits=50,random_state=10,shuffle=True)\r\n",
        "model = RandomForestClassifier( warm_start = True, n_jobs = -1, oob_score = True,max_depth= 95,max_features=2,min_samples_leaf=3,min_samples_split= 3,n_estimators= 1000)\r\n",
        "model.fit(x_train,y_train)\r\n",
        "\r\n",
        "pickle.dump(model,open(\"RF_SMOTE_Tuning.pkl\",\"wb\"))\r\n",
        "#KS,128,415,382-4657,no,yes,25,265.1,110,45.07,197.4,99,16.78,244.7,91,11.01,10,3,2.7,1 false\r\n",
        "#IN,65,415,329-6603,no,no,0,129.1,137,21.95,228.5,83,19.42,208.8,111,9.4,12.7,6,3.43,4 true\r\n",
        "s=pred_vect(\"KS,128,415,382-4657,no,yes,25,265.1,110,45.07,197.4,99,16.78,244.7,91,11.01,10,3,2.7,1\")\r\n",
        "#json1 = json.loads(json.dumps(s))\r\n",
        "#query_df = pred_vect(\"IN,65,415,329-6603,no,no,0,129.1,137,21.95,228.5,83,19.42,208.8,111,9.4,12.7,6,3.43,4\")\r\n",
        "json1 = json.loads(json.dumps(s))\r\n",
        "query_df = (pd.DataFrame([json1]))\r\n",
        "print(query_df.head())\r\n",
        "#scaler = preprocessing.StandardScaler()\r\n",
        "#query_df = scaler.fit_transform(query_df)\r\n",
        "#model=pickle.load(open(\"RF_SMOTE_Tuning.pkl\",\"rb\"))\r\n",
        "yy=model.predict(query_df)\r\n",
        "print(yy)\r\n",
        "# print('accuracy_score M= ',accuracy_score(y_test, smote_pred)*100)\r\n",
        "# print('pr_score M= ', precision_score(y_test, smote_pred, average='micro')*100)\r\n",
        "# print('recall_score M= ', recall_score(y_test, smote_pred)*100)\r\n",
        "# print('f1_score M= ', f1_score(y_test, smote_pred)*100)"
      ],
      "execution_count": 21,
      "outputs": [
        {
          "output_type": "stream",
          "text": [
            "here2222\n",
            "here3333\n",
            "   state  account_length  ...  total_intl_charge  customer_service_calls\n",
            "0      0             128  ...                2.7                       1\n",
            "\n",
            "[1 rows x 20 columns]\n",
            "[1]\n"
          ],
          "name": "stdout"
        }
      ]
    },
    {
      "cell_type": "code",
      "metadata": {
        "id": "dLbx4XOZp3f5"
      },
      "source": [
        " vect ={'state':[int(0)] ,'account_length' : [int(v[1])],'area_code':[int(v[2])],'phone_number':[int(3)],'international_plan':[int(4)],'voice_mail_plan':[int(0)]"
      ],
      "execution_count": null,
      "outputs": []
    },
    {
      "cell_type": "code",
      "metadata": {
        "colab": {
          "base_uri": "https://localhost:8080/",
          "height": 420
        },
        "id": "GhKUQwZEMqH_",
        "outputId": "b50f9aae-631c-4cc4-d7e2-e59371888aca"
      },
      "source": [
        "import json\r\n",
        "from sklearn.ensemble import GradientBoostingClassifier\r\n",
        "def pred_vect(x): #columns\r\n",
        "    vect = {}\r\n",
        "    v= x.split(',')\r\n",
        "    label_encoder = preprocessing.LabelEncoder()\r\n",
        "    print(\"here2222\")\r\n",
        "    vect['state']=label_encoder.fit_transform(v[0])\r\n",
        "    vect['account_length'] =int(v[1])\r\n",
        "    vect['area_code']=int(v[2])\r\n",
        "    vect['phone_number']=label_encoder.fit_transform(v[3])\r\n",
        "    vect['international_plan']=label_encoder.fit_transform(v[4])\r\n",
        "    vect['voice_mail_plan']=label_encoder.fit_transform(v[5])\r\n",
        "    vect['number_vmail_messages']=int(v[6])\r\n",
        "    vect['total_day_minutes'] =float(v[7])\r\n",
        "    vect['total_day_calls']=int(v[8])\r\n",
        "    vect['total_day_charge']=float(v[9])\r\n",
        "    print(\"here3333\")\r\n",
        "    vect['total_eve_minutes']=float(v[10])\r\n",
        "    vect['total_eve_calls']=int(v[11])\r\n",
        "    vect['total_eve_charge']=float(v[12])\r\n",
        "    vect['total_night_minutes'] =float(v[13])\r\n",
        "    vect['total_night_calls']=int(v[14])\r\n",
        "    vect['total_night_charge']=float(v[15])\r\n",
        "    vect['total_intl_minutes']=float(v[16])\r\n",
        "    vect['total_intl_calls']  =int(v[17])\r\n",
        "    vect['total_intl_charge']=float(v[18])\r\n",
        "    vect['customer_service_calls']=int(v[19])\r\n",
        "    label_encoder = preprocessing.LabelEncoder()\r\n",
        "    print(vect['state'],type(vect['state']))\r\n",
        "    print(vect)\r\n",
        "    return vect\r\n",
        "kfold = StratifiedKFold(n_splits=50,random_state=10,shuffle=True)\r\n",
        "model = GradientBoostingClassifier(warm_start = True,max_depth= 95,max_features=2,min_samples_leaf=3,min_samples_split= 3,n_estimators= 1000)\r\n",
        "model.fit(x_train,y_train)\r\n",
        "#save model\r\n",
        "#b=xgboost.train( warm_start = True, n_jobs = -1, oob_score = True,seed=10,learning_rate=0.8,max_depth= 95,max_features=2,min_samples_leaf=3,min_samples_split= 3,n_estimators= 1000)\r\n",
        "pickle.dump(model,open(\"ModelFinal.pkl\",\"wb\"))\r\n",
        "s=pred_vect(\"KS,128,415,382-4657,no,yes,25,265.1,110,45.07,197.4,99,16.78,244.7,91,11.01,10,3,2.7,1\")\r\n",
        "json1 = json.loads(json.dumps(s))\r\n",
        "query_df = (pd.DataFrame([json1]))\r\n",
        "yy=model.predict(query_df)\r\n",
        "print(yy)\r\n",
        "print('accuracy_score M= ',accuracy_score(y_test, smote_pred)*100)\r\n",
        "print('pr_score M= ', precision_score(y_test, smote_pred, average='micro')*100)\r\n",
        "print('recall_score M= ', recall_score(y_test, smote_pred)*100)\r\n",
        "print('f1_score M= ', f1_score(y_test, smote_pred)*100)"
      ],
      "execution_count": null,
      "outputs": [
        {
          "output_type": "stream",
          "text": [
            "here2222\n"
          ],
          "name": "stdout"
        },
        {
          "output_type": "error",
          "ename": "ValueError",
          "evalue": "ignored",
          "traceback": [
            "\u001b[0;31m---------------------------------------------------------------------------\u001b[0m",
            "\u001b[0;31mValueError\u001b[0m                                Traceback (most recent call last)",
            "\u001b[0;32m<ipython-input-163-b780c5f04886>\u001b[0m in \u001b[0;36m<module>\u001b[0;34m()\u001b[0m\n\u001b[1;32m     37\u001b[0m \u001b[0;31m#b=xgboost.train( warm_start = True, n_jobs = -1, oob_score = True,seed=10,learning_rate=0.8,max_depth= 95,max_features=2,min_samples_leaf=3,min_samples_split= 3,n_estimators= 1000)\u001b[0m\u001b[0;34m\u001b[0m\u001b[0;34m\u001b[0m\u001b[0;34m\u001b[0m\u001b[0m\n\u001b[1;32m     38\u001b[0m \u001b[0mpickle\u001b[0m\u001b[0;34m.\u001b[0m\u001b[0mdump\u001b[0m\u001b[0;34m(\u001b[0m\u001b[0mmodel\u001b[0m\u001b[0;34m,\u001b[0m\u001b[0mopen\u001b[0m\u001b[0;34m(\u001b[0m\u001b[0;34m\"ModelFinal.pkl\"\u001b[0m\u001b[0;34m,\u001b[0m\u001b[0;34m\"wb\"\u001b[0m\u001b[0;34m)\u001b[0m\u001b[0;34m)\u001b[0m\u001b[0;34m\u001b[0m\u001b[0;34m\u001b[0m\u001b[0m\n\u001b[0;32m---> 39\u001b[0;31m \u001b[0ms\u001b[0m\u001b[0;34m=\u001b[0m\u001b[0mpred_vect\u001b[0m\u001b[0;34m(\u001b[0m\u001b[0;34m\"KS,128,415,382-4657,no,yes,25,265.1,110,45.07,197.4,99,16.78,244.7,91,11.01,10,3,2.7,1\"\u001b[0m\u001b[0;34m)\u001b[0m\u001b[0;34m\u001b[0m\u001b[0;34m\u001b[0m\u001b[0m\n\u001b[0m\u001b[1;32m     40\u001b[0m \u001b[0mjson1\u001b[0m \u001b[0;34m=\u001b[0m \u001b[0mjson\u001b[0m\u001b[0;34m.\u001b[0m\u001b[0mloads\u001b[0m\u001b[0;34m(\u001b[0m\u001b[0mjson\u001b[0m\u001b[0;34m.\u001b[0m\u001b[0mdumps\u001b[0m\u001b[0;34m(\u001b[0m\u001b[0ms\u001b[0m\u001b[0;34m)\u001b[0m\u001b[0;34m)\u001b[0m\u001b[0;34m\u001b[0m\u001b[0;34m\u001b[0m\u001b[0m\n\u001b[1;32m     41\u001b[0m \u001b[0mquery_df\u001b[0m \u001b[0;34m=\u001b[0m \u001b[0;34m(\u001b[0m\u001b[0mpd\u001b[0m\u001b[0;34m.\u001b[0m\u001b[0mDataFrame\u001b[0m\u001b[0;34m(\u001b[0m\u001b[0;34m[\u001b[0m\u001b[0mjson1\u001b[0m\u001b[0;34m]\u001b[0m\u001b[0;34m)\u001b[0m\u001b[0;34m)\u001b[0m\u001b[0;34m\u001b[0m\u001b[0;34m\u001b[0m\u001b[0m\n",
            "\u001b[0;32m<ipython-input-163-b780c5f04886>\u001b[0m in \u001b[0;36mpred_vect\u001b[0;34m(x)\u001b[0m\n\u001b[1;32m      6\u001b[0m     \u001b[0mlabel_encoder\u001b[0m \u001b[0;34m=\u001b[0m \u001b[0mpreprocessing\u001b[0m\u001b[0;34m.\u001b[0m\u001b[0mLabelEncoder\u001b[0m\u001b[0;34m(\u001b[0m\u001b[0;34m)\u001b[0m\u001b[0;34m\u001b[0m\u001b[0;34m\u001b[0m\u001b[0m\n\u001b[1;32m      7\u001b[0m     \u001b[0mprint\u001b[0m\u001b[0;34m(\u001b[0m\u001b[0;34m\"here2222\"\u001b[0m\u001b[0;34m)\u001b[0m\u001b[0;34m\u001b[0m\u001b[0;34m\u001b[0m\u001b[0m\n\u001b[0;32m----> 8\u001b[0;31m     \u001b[0mvect\u001b[0m\u001b[0;34m[\u001b[0m\u001b[0;34m'state'\u001b[0m\u001b[0;34m]\u001b[0m\u001b[0;34m=\u001b[0m\u001b[0mlabel_encoder\u001b[0m\u001b[0;34m.\u001b[0m\u001b[0mfit_transform\u001b[0m\u001b[0;34m(\u001b[0m\u001b[0mv\u001b[0m\u001b[0;34m[\u001b[0m\u001b[0;36m0\u001b[0m\u001b[0;34m]\u001b[0m\u001b[0;34m)\u001b[0m\u001b[0;34m\u001b[0m\u001b[0;34m\u001b[0m\u001b[0m\n\u001b[0m\u001b[1;32m      9\u001b[0m     \u001b[0mvect\u001b[0m\u001b[0;34m[\u001b[0m\u001b[0;34m'account_length'\u001b[0m\u001b[0;34m]\u001b[0m \u001b[0;34m=\u001b[0m\u001b[0mint\u001b[0m\u001b[0;34m(\u001b[0m\u001b[0mv\u001b[0m\u001b[0;34m[\u001b[0m\u001b[0;36m1\u001b[0m\u001b[0;34m]\u001b[0m\u001b[0;34m)\u001b[0m\u001b[0;34m\u001b[0m\u001b[0;34m\u001b[0m\u001b[0m\n\u001b[1;32m     10\u001b[0m     \u001b[0mvect\u001b[0m\u001b[0;34m[\u001b[0m\u001b[0;34m'area_code'\u001b[0m\u001b[0;34m]\u001b[0m\u001b[0;34m=\u001b[0m\u001b[0mint\u001b[0m\u001b[0;34m(\u001b[0m\u001b[0mv\u001b[0m\u001b[0;34m[\u001b[0m\u001b[0;36m2\u001b[0m\u001b[0;34m]\u001b[0m\u001b[0;34m)\u001b[0m\u001b[0;34m\u001b[0m\u001b[0;34m\u001b[0m\u001b[0m\n",
            "\u001b[0;32m/usr/local/lib/python3.6/dist-packages/sklearn/preprocessing/_label.py\u001b[0m in \u001b[0;36mfit_transform\u001b[0;34m(self, y)\u001b[0m\n\u001b[1;32m    249\u001b[0m         \u001b[0my\u001b[0m \u001b[0;34m:\u001b[0m \u001b[0marray\u001b[0m\u001b[0;34m-\u001b[0m\u001b[0mlike\u001b[0m \u001b[0mof\u001b[0m \u001b[0mshape\u001b[0m \u001b[0;34m[\u001b[0m\u001b[0mn_samples\u001b[0m\u001b[0;34m]\u001b[0m\u001b[0;34m\u001b[0m\u001b[0;34m\u001b[0m\u001b[0m\n\u001b[1;32m    250\u001b[0m         \"\"\"\n\u001b[0;32m--> 251\u001b[0;31m         \u001b[0my\u001b[0m \u001b[0;34m=\u001b[0m \u001b[0mcolumn_or_1d\u001b[0m\u001b[0;34m(\u001b[0m\u001b[0my\u001b[0m\u001b[0;34m,\u001b[0m \u001b[0mwarn\u001b[0m\u001b[0;34m=\u001b[0m\u001b[0;32mTrue\u001b[0m\u001b[0;34m)\u001b[0m\u001b[0;34m\u001b[0m\u001b[0;34m\u001b[0m\u001b[0m\n\u001b[0m\u001b[1;32m    252\u001b[0m         \u001b[0mself\u001b[0m\u001b[0;34m.\u001b[0m\u001b[0mclasses_\u001b[0m\u001b[0;34m,\u001b[0m \u001b[0my\u001b[0m \u001b[0;34m=\u001b[0m \u001b[0m_encode\u001b[0m\u001b[0;34m(\u001b[0m\u001b[0my\u001b[0m\u001b[0;34m,\u001b[0m \u001b[0mencode\u001b[0m\u001b[0;34m=\u001b[0m\u001b[0;32mTrue\u001b[0m\u001b[0;34m)\u001b[0m\u001b[0;34m\u001b[0m\u001b[0;34m\u001b[0m\u001b[0m\n\u001b[1;32m    253\u001b[0m         \u001b[0;32mreturn\u001b[0m \u001b[0my\u001b[0m\u001b[0;34m\u001b[0m\u001b[0;34m\u001b[0m\u001b[0m\n",
            "\u001b[0;32m/usr/local/lib/python3.6/dist-packages/sklearn/utils/validation.py\u001b[0m in \u001b[0;36mcolumn_or_1d\u001b[0;34m(y, warn)\u001b[0m\n\u001b[1;32m    795\u001b[0m         \u001b[0;32mreturn\u001b[0m \u001b[0mnp\u001b[0m\u001b[0;34m.\u001b[0m\u001b[0mravel\u001b[0m\u001b[0;34m(\u001b[0m\u001b[0my\u001b[0m\u001b[0;34m)\u001b[0m\u001b[0;34m\u001b[0m\u001b[0;34m\u001b[0m\u001b[0m\n\u001b[1;32m    796\u001b[0m \u001b[0;34m\u001b[0m\u001b[0m\n\u001b[0;32m--> 797\u001b[0;31m     \u001b[0;32mraise\u001b[0m \u001b[0mValueError\u001b[0m\u001b[0;34m(\u001b[0m\u001b[0;34m\"bad input shape {0}\"\u001b[0m\u001b[0;34m.\u001b[0m\u001b[0mformat\u001b[0m\u001b[0;34m(\u001b[0m\u001b[0mshape\u001b[0m\u001b[0;34m)\u001b[0m\u001b[0;34m)\u001b[0m\u001b[0;34m\u001b[0m\u001b[0;34m\u001b[0m\u001b[0m\n\u001b[0m\u001b[1;32m    798\u001b[0m \u001b[0;34m\u001b[0m\u001b[0m\n\u001b[1;32m    799\u001b[0m \u001b[0;34m\u001b[0m\u001b[0m\n",
            "\u001b[0;31mValueError\u001b[0m: bad input shape ()"
          ]
        }
      ]
    },
    {
      "cell_type": "code",
      "metadata": {
        "id": "ByTFdIckQxSB"
      },
      "source": [
        ""
      ],
      "execution_count": null,
      "outputs": []
    }
  ]
}